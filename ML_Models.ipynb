{
 "cells": [
  {
   "cell_type": "code",
   "execution_count": 1,
   "id": "fbae084e",
   "metadata": {},
   "outputs": [],
   "source": [
    "import numpy as np\n",
    "import pandas as pd\n",
    "import sqlite3\n",
    "import matplotlib.pyplot as plt\n",
    "import scipy.stats\n",
    "import seaborn as sns"
   ]
  },
  {
   "cell_type": "code",
   "execution_count": 2,
   "id": "bc5c054d",
   "metadata": {},
   "outputs": [],
   "source": [
    "import warnings\n",
    "warnings.filterwarnings('ignore')"
   ]
  },
  {
   "cell_type": "markdown",
   "id": "1c41c2bb",
   "metadata": {},
   "source": [
    "# Connect to Database and Process the data"
   ]
  },
  {
   "cell_type": "code",
   "execution_count": 3,
   "id": "20a3bb07",
   "metadata": {},
   "outputs": [],
   "source": [
    "#Connecting Database instance \n",
    "conn = sqlite3.connect('Database/delhi.sqlite')"
   ]
  },
  {
   "cell_type": "code",
   "execution_count": 4,
   "id": "6a5b8efa",
   "metadata": {},
   "outputs": [],
   "source": [
    "#Creating the cursor\n",
    "c = conn.cursor()"
   ]
  },
  {
   "cell_type": "code",
   "execution_count": 5,
   "id": "0d5f34c7",
   "metadata": {},
   "outputs": [],
   "source": [
    "#Creating the DataFrame\n",
    "query = conn.execute(\"SELECT * From delhi_table\")\n",
    "cols = [column[0] for column in query.description]\n",
    "df= pd.DataFrame.from_records(data = query.fetchall(), columns = cols)\n",
    "data = df.copy()"
   ]
  },
  {
   "cell_type": "code",
   "execution_count": 6,
   "id": "190e47ca",
   "metadata": {},
   "outputs": [
    {
     "name": "stdout",
     "output_type": "stream",
     "text": [
      "<class 'pandas.core.frame.DataFrame'>\n",
      "RangeIndex: 80657 entries, 0 to 80656\n",
      "Data columns (total 16 columns):\n",
      " #   Column        Non-Null Count  Dtype  \n",
      "---  ------        --------------  -----  \n",
      " 0   datetime_utc  80657 non-null  object \n",
      " 1   conds         80657 non-null  object \n",
      " 2   dewptm        80657 non-null  float64\n",
      " 3   fog           80657 non-null  int64  \n",
      " 4   hail          80657 non-null  int64  \n",
      " 5   hum           80657 non-null  float64\n",
      " 6   pressurem     80657 non-null  float64\n",
      " 7   rain          80657 non-null  int64  \n",
      " 8   snow          80657 non-null  int64  \n",
      " 9   tempm         80657 non-null  float64\n",
      " 10  thunder       80657 non-null  int64  \n",
      " 11  tornado       80657 non-null  int64  \n",
      " 12  vism          80657 non-null  float64\n",
      " 13  wdird         80657 non-null  float64\n",
      " 14  wdire         80657 non-null  object \n",
      " 15  wspdm         80657 non-null  float64\n",
      "dtypes: float64(7), int64(6), object(3)\n",
      "memory usage: 9.8+ MB\n"
     ]
    }
   ],
   "source": [
    "data.info()"
   ]
  },
  {
   "cell_type": "code",
   "execution_count": 7,
   "id": "e6f31b93",
   "metadata": {},
   "outputs": [
    {
     "data": {
      "text/html": [
       "<div>\n",
       "<style scoped>\n",
       "    .dataframe tbody tr th:only-of-type {\n",
       "        vertical-align: middle;\n",
       "    }\n",
       "\n",
       "    .dataframe tbody tr th {\n",
       "        vertical-align: top;\n",
       "    }\n",
       "\n",
       "    .dataframe thead th {\n",
       "        text-align: right;\n",
       "    }\n",
       "</style>\n",
       "<table border=\"1\" class=\"dataframe\">\n",
       "  <thead>\n",
       "    <tr style=\"text-align: right;\">\n",
       "      <th></th>\n",
       "      <th>datetime_utc</th>\n",
       "      <th>conds</th>\n",
       "      <th>dewptm</th>\n",
       "      <th>fog</th>\n",
       "      <th>hail</th>\n",
       "      <th>hum</th>\n",
       "      <th>pressurem</th>\n",
       "      <th>rain</th>\n",
       "      <th>snow</th>\n",
       "      <th>tempm</th>\n",
       "      <th>thunder</th>\n",
       "      <th>tornado</th>\n",
       "      <th>vism</th>\n",
       "      <th>wdird</th>\n",
       "      <th>wdire</th>\n",
       "      <th>wspdm</th>\n",
       "    </tr>\n",
       "  </thead>\n",
       "  <tbody>\n",
       "    <tr>\n",
       "      <th>0</th>\n",
       "      <td>19961101-11:00</td>\n",
       "      <td>Haze</td>\n",
       "      <td>9.0</td>\n",
       "      <td>0</td>\n",
       "      <td>0</td>\n",
       "      <td>27.0</td>\n",
       "      <td>1010.0</td>\n",
       "      <td>0</td>\n",
       "      <td>0</td>\n",
       "      <td>30.0</td>\n",
       "      <td>0</td>\n",
       "      <td>0</td>\n",
       "      <td>5.0</td>\n",
       "      <td>280.0</td>\n",
       "      <td>West</td>\n",
       "      <td>7.4</td>\n",
       "    </tr>\n",
       "    <tr>\n",
       "      <th>1</th>\n",
       "      <td>19961101-16:00</td>\n",
       "      <td>Haze</td>\n",
       "      <td>11.0</td>\n",
       "      <td>0</td>\n",
       "      <td>0</td>\n",
       "      <td>47.0</td>\n",
       "      <td>1011.0</td>\n",
       "      <td>0</td>\n",
       "      <td>0</td>\n",
       "      <td>23.0</td>\n",
       "      <td>0</td>\n",
       "      <td>0</td>\n",
       "      <td>1.2</td>\n",
       "      <td>0.0</td>\n",
       "      <td>North</td>\n",
       "      <td>0.0</td>\n",
       "    </tr>\n",
       "    <tr>\n",
       "      <th>2</th>\n",
       "      <td>19961101-18:00</td>\n",
       "      <td>Haze</td>\n",
       "      <td>13.0</td>\n",
       "      <td>0</td>\n",
       "      <td>0</td>\n",
       "      <td>60.0</td>\n",
       "      <td>1010.0</td>\n",
       "      <td>0</td>\n",
       "      <td>0</td>\n",
       "      <td>21.0</td>\n",
       "      <td>0</td>\n",
       "      <td>0</td>\n",
       "      <td>0.8</td>\n",
       "      <td>0.0</td>\n",
       "      <td>North</td>\n",
       "      <td>0.0</td>\n",
       "    </tr>\n",
       "    <tr>\n",
       "      <th>3</th>\n",
       "      <td>19961102-02:00</td>\n",
       "      <td>Haze</td>\n",
       "      <td>10.0</td>\n",
       "      <td>0</td>\n",
       "      <td>0</td>\n",
       "      <td>52.0</td>\n",
       "      <td>1011.0</td>\n",
       "      <td>0</td>\n",
       "      <td>0</td>\n",
       "      <td>20.0</td>\n",
       "      <td>0</td>\n",
       "      <td>0</td>\n",
       "      <td>2.0</td>\n",
       "      <td>200.0</td>\n",
       "      <td>SSW</td>\n",
       "      <td>9.3</td>\n",
       "    </tr>\n",
       "    <tr>\n",
       "      <th>4</th>\n",
       "      <td>19961102-03:00</td>\n",
       "      <td>Haze</td>\n",
       "      <td>10.0</td>\n",
       "      <td>0</td>\n",
       "      <td>0</td>\n",
       "      <td>46.0</td>\n",
       "      <td>1012.0</td>\n",
       "      <td>0</td>\n",
       "      <td>0</td>\n",
       "      <td>22.0</td>\n",
       "      <td>0</td>\n",
       "      <td>0</td>\n",
       "      <td>3.5</td>\n",
       "      <td>240.0</td>\n",
       "      <td>WSW</td>\n",
       "      <td>9.3</td>\n",
       "    </tr>\n",
       "  </tbody>\n",
       "</table>\n",
       "</div>"
      ],
      "text/plain": [
       "     datetime_utc conds  dewptm  fog  hail   hum  pressurem  rain  snow  \\\n",
       "0  19961101-11:00  Haze     9.0    0     0  27.0     1010.0     0     0   \n",
       "1  19961101-16:00  Haze    11.0    0     0  47.0     1011.0     0     0   \n",
       "2  19961101-18:00  Haze    13.0    0     0  60.0     1010.0     0     0   \n",
       "3  19961102-02:00  Haze    10.0    0     0  52.0     1011.0     0     0   \n",
       "4  19961102-03:00  Haze    10.0    0     0  46.0     1012.0     0     0   \n",
       "\n",
       "   tempm  thunder  tornado  vism  wdird  wdire  wspdm  \n",
       "0   30.0        0        0   5.0  280.0   West    7.4  \n",
       "1   23.0        0        0   1.2    0.0  North    0.0  \n",
       "2   21.0        0        0   0.8    0.0  North    0.0  \n",
       "3   20.0        0        0   2.0  200.0    SSW    9.3  \n",
       "4   22.0        0        0   3.5  240.0    WSW    9.3  "
      ]
     },
     "execution_count": 7,
     "metadata": {},
     "output_type": "execute_result"
    }
   ],
   "source": [
    "data.head()"
   ]
  },
  {
   "cell_type": "code",
   "execution_count": 8,
   "id": "f72ff84b",
   "metadata": {},
   "outputs": [
    {
     "data": {
      "text/plain": [
       "<AxesSubplot:>"
      ]
     },
     "execution_count": 8,
     "metadata": {},
     "output_type": "execute_result"
    },
    {
     "data": {
      "image/png": "[encoded data removed]",
      "text/plain": [
       "<Figure size 432x288 with 2 Axes>"
      ]
     },
     "metadata": {
      "needs_background": "light"
     },
     "output_type": "display_data"
    }
   ],
   "source": [
    "corr = data.corr()\n",
    "sns.heatmap(corr, xticklabels=corr.columns, yticklabels=corr.columns, annot=False)"
   ]
  },
  {
   "cell_type": "code",
   "execution_count": 9,
   "id": "6f8843c9",
   "metadata": {},
   "outputs": [],
   "source": [
    "data['datetime_utc'] = pd.to_datetime(data['datetime_utc'])\n",
    "data.set_index('datetime_utc', inplace= True)\n",
    "data_df =data.resample('D').mean()"
   ]
  },
  {
   "cell_type": "code",
   "execution_count": 10,
   "id": "32ebecb0",
   "metadata": {},
   "outputs": [
    {
     "data": {
      "text/html": [
       "<div>\n",
       "<style scoped>\n",
       "    .dataframe tbody tr th:only-of-type {\n",
       "        vertical-align: middle;\n",
       "    }\n",
       "\n",
       "    .dataframe tbody tr th {\n",
       "        vertical-align: top;\n",
       "    }\n",
       "\n",
       "    .dataframe thead th {\n",
       "        text-align: right;\n",
       "    }\n",
       "</style>\n",
       "<table border=\"1\" class=\"dataframe\">\n",
       "  <thead>\n",
       "    <tr style=\"text-align: right;\">\n",
       "      <th></th>\n",
       "      <th>dewptm</th>\n",
       "      <th>fog</th>\n",
       "      <th>hail</th>\n",
       "      <th>hum</th>\n",
       "      <th>pressurem</th>\n",
       "      <th>rain</th>\n",
       "      <th>snow</th>\n",
       "      <th>tempm</th>\n",
       "      <th>thunder</th>\n",
       "      <th>tornado</th>\n",
       "      <th>vism</th>\n",
       "      <th>wdird</th>\n",
       "      <th>wspdm</th>\n",
       "    </tr>\n",
       "    <tr>\n",
       "      <th>datetime_utc</th>\n",
       "      <th></th>\n",
       "      <th></th>\n",
       "      <th></th>\n",
       "      <th></th>\n",
       "      <th></th>\n",
       "      <th></th>\n",
       "      <th></th>\n",
       "      <th></th>\n",
       "      <th></th>\n",
       "      <th></th>\n",
       "      <th></th>\n",
       "      <th></th>\n",
       "      <th></th>\n",
       "    </tr>\n",
       "  </thead>\n",
       "  <tbody>\n",
       "    <tr>\n",
       "      <th>1996-11-01</th>\n",
       "      <td>11.000000</td>\n",
       "      <td>0.0</td>\n",
       "      <td>0.0</td>\n",
       "      <td>44.666667</td>\n",
       "      <td>1010.333333</td>\n",
       "      <td>0.0</td>\n",
       "      <td>0.0</td>\n",
       "      <td>24.666667</td>\n",
       "      <td>0.0</td>\n",
       "      <td>0.0</td>\n",
       "      <td>2.333333</td>\n",
       "      <td>93.333333</td>\n",
       "      <td>2.466667</td>\n",
       "    </tr>\n",
       "    <tr>\n",
       "      <th>1996-11-02</th>\n",
       "      <td>10.333333</td>\n",
       "      <td>0.0</td>\n",
       "      <td>0.0</td>\n",
       "      <td>47.190476</td>\n",
       "      <td>1009.809524</td>\n",
       "      <td>0.0</td>\n",
       "      <td>0.0</td>\n",
       "      <td>23.380952</td>\n",
       "      <td>0.0</td>\n",
       "      <td>0.0</td>\n",
       "      <td>3.476190</td>\n",
       "      <td>121.904762</td>\n",
       "      <td>8.028571</td>\n",
       "    </tr>\n",
       "    <tr>\n",
       "      <th>1996-11-03</th>\n",
       "      <td>12.136364</td>\n",
       "      <td>0.0</td>\n",
       "      <td>0.0</td>\n",
       "      <td>54.681818</td>\n",
       "      <td>1010.500000</td>\n",
       "      <td>0.0</td>\n",
       "      <td>0.0</td>\n",
       "      <td>22.272727</td>\n",
       "      <td>0.0</td>\n",
       "      <td>0.0</td>\n",
       "      <td>2.286364</td>\n",
       "      <td>116.363636</td>\n",
       "      <td>4.804545</td>\n",
       "    </tr>\n",
       "    <tr>\n",
       "      <th>1996-11-04</th>\n",
       "      <td>10.133333</td>\n",
       "      <td>0.0</td>\n",
       "      <td>0.0</td>\n",
       "      <td>46.600000</td>\n",
       "      <td>1011.333333</td>\n",
       "      <td>0.0</td>\n",
       "      <td>0.0</td>\n",
       "      <td>23.133333</td>\n",
       "      <td>0.0</td>\n",
       "      <td>0.0</td>\n",
       "      <td>2.326667</td>\n",
       "      <td>66.666667</td>\n",
       "      <td>2.226667</td>\n",
       "    </tr>\n",
       "    <tr>\n",
       "      <th>1996-11-05</th>\n",
       "      <td>8.200000</td>\n",
       "      <td>0.0</td>\n",
       "      <td>0.0</td>\n",
       "      <td>29.400000</td>\n",
       "      <td>1011.800000</td>\n",
       "      <td>0.0</td>\n",
       "      <td>0.0</td>\n",
       "      <td>27.800000</td>\n",
       "      <td>0.0</td>\n",
       "      <td>0.0</td>\n",
       "      <td>3.900000</td>\n",
       "      <td>208.000000</td>\n",
       "      <td>10.020000</td>\n",
       "    </tr>\n",
       "  </tbody>\n",
       "</table>\n",
       "</div>"
      ],
      "text/plain": [
       "                 dewptm  fog  hail        hum    pressurem  rain  snow  \\\n",
       "datetime_utc                                                             \n",
       "1996-11-01    11.000000  0.0   0.0  44.666667  1010.333333   0.0   0.0   \n",
       "1996-11-02    10.333333  0.0   0.0  47.190476  1009.809524   0.0   0.0   \n",
       "1996-11-03    12.136364  0.0   0.0  54.681818  1010.500000   0.0   0.0   \n",
       "1996-11-04    10.133333  0.0   0.0  46.600000  1011.333333   0.0   0.0   \n",
       "1996-11-05     8.200000  0.0   0.0  29.400000  1011.800000   0.0   0.0   \n",
       "\n",
       "                  tempm  thunder  tornado      vism       wdird      wspdm  \n",
       "datetime_utc                                                                \n",
       "1996-11-01    24.666667      0.0      0.0  2.333333   93.333333   2.466667  \n",
       "1996-11-02    23.380952      0.0      0.0  3.476190  121.904762   8.028571  \n",
       "1996-11-03    22.272727      0.0      0.0  2.286364  116.363636   4.804545  \n",
       "1996-11-04    23.133333      0.0      0.0  2.326667   66.666667   2.226667  \n",
       "1996-11-05    27.800000      0.0      0.0  3.900000  208.000000  10.020000  "
      ]
     },
     "execution_count": 10,
     "metadata": {},
     "output_type": "execute_result"
    }
   ],
   "source": [
    "data_df.head()"
   ]
  },
  {
   "cell_type": "code",
   "execution_count": 11,
   "id": "a8617064",
   "metadata": {},
   "outputs": [],
   "source": [
    "data_df = data_df[['tempm']]"
   ]
  },
  {
   "cell_type": "code",
   "execution_count": 12,
   "id": "99eb66d5",
   "metadata": {},
   "outputs": [
    {
     "data": {
      "image/png": "[encoded data removed]",
      "text/plain": [
       "<Figure size 1440x576 with 1 Axes>"
      ]
     },
     "metadata": {
      "needs_background": "light"
     },
     "output_type": "display_data"
    }
   ],
   "source": [
    "plt.figure(figsize=(20,8))\n",
    "plt.plot(data_df)\n",
    "plt.title('Time Series')\n",
    "plt.xlabel('Date')\n",
    "plt.ylabel('temperature')\n",
    "plt.show()"
   ]
  },
  {
   "cell_type": "code",
   "execution_count": 13,
   "id": "a9876c52",
   "metadata": {},
   "outputs": [],
   "source": [
    "temp_annual = data['tempm'].resample(\"AS\").agg(['mean', 'min', 'max'])"
   ]
  },
  {
   "cell_type": "code",
   "execution_count": 14,
   "id": "7e4e9fc9",
   "metadata": {},
   "outputs": [
    {
     "data": {
      "text/html": [
       "<div>\n",
       "<style scoped>\n",
       "    .dataframe tbody tr th:only-of-type {\n",
       "        vertical-align: middle;\n",
       "    }\n",
       "\n",
       "    .dataframe tbody tr th {\n",
       "        vertical-align: top;\n",
       "    }\n",
       "\n",
       "    .dataframe thead th {\n",
       "        text-align: right;\n",
       "    }\n",
       "</style>\n",
       "<table border=\"1\" class=\"dataframe\">\n",
       "  <thead>\n",
       "    <tr style=\"text-align: right;\">\n",
       "      <th></th>\n",
       "      <th>mean</th>\n",
       "      <th>min</th>\n",
       "      <th>max</th>\n",
       "    </tr>\n",
       "    <tr>\n",
       "      <th>datetime_utc</th>\n",
       "      <th></th>\n",
       "      <th></th>\n",
       "      <th></th>\n",
       "    </tr>\n",
       "  </thead>\n",
       "  <tbody>\n",
       "    <tr>\n",
       "      <th>1996-01-01</th>\n",
       "      <td>16.723062</td>\n",
       "      <td>4.0</td>\n",
       "      <td>34.0</td>\n",
       "    </tr>\n",
       "    <tr>\n",
       "      <th>1997-01-01</th>\n",
       "      <td>24.702072</td>\n",
       "      <td>5.0</td>\n",
       "      <td>43.0</td>\n",
       "    </tr>\n",
       "    <tr>\n",
       "      <th>1998-01-01</th>\n",
       "      <td>25.321593</td>\n",
       "      <td>5.0</td>\n",
       "      <td>72.0</td>\n",
       "    </tr>\n",
       "    <tr>\n",
       "      <th>1999-01-01</th>\n",
       "      <td>27.793387</td>\n",
       "      <td>6.0</td>\n",
       "      <td>63.0</td>\n",
       "    </tr>\n",
       "    <tr>\n",
       "      <th>2000-01-01</th>\n",
       "      <td>24.168488</td>\n",
       "      <td>5.0</td>\n",
       "      <td>41.0</td>\n",
       "    </tr>\n",
       "  </tbody>\n",
       "</table>\n",
       "</div>"
      ],
      "text/plain": [
       "                   mean  min   max\n",
       "datetime_utc                      \n",
       "1996-01-01    16.723062  4.0  34.0\n",
       "1997-01-01    24.702072  5.0  43.0\n",
       "1998-01-01    25.321593  5.0  72.0\n",
       "1999-01-01    27.793387  6.0  63.0\n",
       "2000-01-01    24.168488  5.0  41.0"
      ]
     },
     "execution_count": 14,
     "metadata": {},
     "output_type": "execute_result"
    }
   ],
   "source": [
    "temp_annual.head()"
   ]
  },
  {
   "cell_type": "code",
   "execution_count": 15,
   "id": "c8ac0aea",
   "metadata": {},
   "outputs": [
    {
     "data": {
      "image/png": "[encoded data removed]",
      "text/plain": [
       "<Figure size 864x432 with 1 Axes>"
      ]
     },
     "metadata": {
      "needs_background": "light"
     },
     "output_type": "display_data"
    }
   ],
   "source": [
    "temp_annual.plot(figsize=(12, 6))\n",
    "ax = plt.gca()\n",
    "ax.grid(color= (0.1, 0.1, 0.1), linestyle='--', linewidth=1, alpha=0.5)\n",
    "plt.autoscale(enable=True, axis='x', tight=True)\n",
    "plt.ylabel(\"Temperature (°C)\")\n",
    "sns.despine()"
   ]
  },
  {
   "cell_type": "markdown",
   "id": "72c676b3",
   "metadata": {},
   "source": [
    "This line graph visualises outliers in the dataset and it also shows that the outliers dont deeply affect the mean of the dataset. Due to the outliers hardly affecting the mean, we will leave them in the dataset."
   ]
  },
  {
   "cell_type": "code",
   "execution_count": 16,
   "id": "3abc9921",
   "metadata": {},
   "outputs": [
    {
     "data": {
      "text/html": [
       "<div>\n",
       "<style scoped>\n",
       "    .dataframe tbody tr th:only-of-type {\n",
       "        vertical-align: middle;\n",
       "    }\n",
       "\n",
       "    .dataframe tbody tr th {\n",
       "        vertical-align: top;\n",
       "    }\n",
       "\n",
       "    .dataframe thead th {\n",
       "        text-align: right;\n",
       "    }\n",
       "</style>\n",
       "<table border=\"1\" class=\"dataframe\">\n",
       "  <thead>\n",
       "    <tr style=\"text-align: right;\">\n",
       "      <th></th>\n",
       "      <th>dewptm</th>\n",
       "      <th>fog</th>\n",
       "      <th>hail</th>\n",
       "      <th>hum</th>\n",
       "      <th>pressurem</th>\n",
       "      <th>rain</th>\n",
       "      <th>snow</th>\n",
       "      <th>tempm</th>\n",
       "      <th>thunder</th>\n",
       "      <th>tornado</th>\n",
       "      <th>vism</th>\n",
       "      <th>wdird</th>\n",
       "      <th>wspdm</th>\n",
       "    </tr>\n",
       "  </thead>\n",
       "  <tbody>\n",
       "    <tr>\n",
       "      <th>count</th>\n",
       "      <td>80657.000000</td>\n",
       "      <td>80657.000000</td>\n",
       "      <td>80657.000000</td>\n",
       "      <td>80657.000000</td>\n",
       "      <td>8.065700e+04</td>\n",
       "      <td>80657.000000</td>\n",
       "      <td>80657.000000</td>\n",
       "      <td>80657.000000</td>\n",
       "      <td>80657.000000</td>\n",
       "      <td>80657.000000</td>\n",
       "      <td>80657.000000</td>\n",
       "      <td>80657.000000</td>\n",
       "      <td>80657.000000</td>\n",
       "    </tr>\n",
       "    <tr>\n",
       "      <th>mean</th>\n",
       "      <td>15.676445</td>\n",
       "      <td>0.050907</td>\n",
       "      <td>0.000136</td>\n",
       "      <td>55.171926</td>\n",
       "      <td>2.199730e+03</td>\n",
       "      <td>0.027102</td>\n",
       "      <td>0.000012</td>\n",
       "      <td>26.340045</td>\n",
       "      <td>0.010216</td>\n",
       "      <td>0.000025</td>\n",
       "      <td>2.563318</td>\n",
       "      <td>169.093891</td>\n",
       "      <td>8.976131</td>\n",
       "    </tr>\n",
       "    <tr>\n",
       "      <th>std</th>\n",
       "      <td>7.150146</td>\n",
       "      <td>0.219809</td>\n",
       "      <td>0.011677</td>\n",
       "      <td>23.447379</td>\n",
       "      <td>3.558458e+05</td>\n",
       "      <td>0.162383</td>\n",
       "      <td>0.003521</td>\n",
       "      <td>8.242780</td>\n",
       "      <td>0.100558</td>\n",
       "      <td>0.004980</td>\n",
       "      <td>22.690289</td>\n",
       "      <td>118.166457</td>\n",
       "      <td>12.084670</td>\n",
       "    </tr>\n",
       "    <tr>\n",
       "      <th>min</th>\n",
       "      <td>-24.000000</td>\n",
       "      <td>0.000000</td>\n",
       "      <td>0.000000</td>\n",
       "      <td>4.000000</td>\n",
       "      <td>-9.999000e+03</td>\n",
       "      <td>0.000000</td>\n",
       "      <td>0.000000</td>\n",
       "      <td>4.000000</td>\n",
       "      <td>0.000000</td>\n",
       "      <td>0.000000</td>\n",
       "      <td>0.000000</td>\n",
       "      <td>0.000000</td>\n",
       "      <td>0.000000</td>\n",
       "    </tr>\n",
       "    <tr>\n",
       "      <th>25%</th>\n",
       "      <td>10.000000</td>\n",
       "      <td>0.000000</td>\n",
       "      <td>0.000000</td>\n",
       "      <td>36.000000</td>\n",
       "      <td>1.001000e+03</td>\n",
       "      <td>0.000000</td>\n",
       "      <td>0.000000</td>\n",
       "      <td>20.000000</td>\n",
       "      <td>0.000000</td>\n",
       "      <td>0.000000</td>\n",
       "      <td>1.800000</td>\n",
       "      <td>60.000000</td>\n",
       "      <td>3.700000</td>\n",
       "    </tr>\n",
       "    <tr>\n",
       "      <th>50%</th>\n",
       "      <td>15.000000</td>\n",
       "      <td>0.000000</td>\n",
       "      <td>0.000000</td>\n",
       "      <td>55.000000</td>\n",
       "      <td>1.008000e+03</td>\n",
       "      <td>0.000000</td>\n",
       "      <td>0.000000</td>\n",
       "      <td>28.000000</td>\n",
       "      <td>0.000000</td>\n",
       "      <td>0.000000</td>\n",
       "      <td>2.200000</td>\n",
       "      <td>170.000000</td>\n",
       "      <td>7.400000</td>\n",
       "    </tr>\n",
       "    <tr>\n",
       "      <th>75%</th>\n",
       "      <td>22.000000</td>\n",
       "      <td>0.000000</td>\n",
       "      <td>0.000000</td>\n",
       "      <td>74.000000</td>\n",
       "      <td>1.014000e+03</td>\n",
       "      <td>0.000000</td>\n",
       "      <td>0.000000</td>\n",
       "      <td>32.000000</td>\n",
       "      <td>0.000000</td>\n",
       "      <td>0.000000</td>\n",
       "      <td>3.000000</td>\n",
       "      <td>270.000000</td>\n",
       "      <td>13.000000</td>\n",
       "    </tr>\n",
       "    <tr>\n",
       "      <th>max</th>\n",
       "      <td>35.000000</td>\n",
       "      <td>1.000000</td>\n",
       "      <td>1.000000</td>\n",
       "      <td>100.000000</td>\n",
       "      <td>1.010614e+08</td>\n",
       "      <td>1.000000</td>\n",
       "      <td>1.000000</td>\n",
       "      <td>72.000000</td>\n",
       "      <td>1.000000</td>\n",
       "      <td>1.000000</td>\n",
       "      <td>6436.000000</td>\n",
       "      <td>960.000000</td>\n",
       "      <td>1514.900000</td>\n",
       "    </tr>\n",
       "  </tbody>\n",
       "</table>\n",
       "</div>"
      ],
      "text/plain": [
       "             dewptm           fog          hail           hum     pressurem  \\\n",
       "count  80657.000000  80657.000000  80657.000000  80657.000000  8.065700e+04   \n",
       "mean      15.676445      0.050907      0.000136     55.171926  2.199730e+03   \n",
       "std        7.150146      0.219809      0.011677     23.447379  3.558458e+05   \n",
       "min      -24.000000      0.000000      0.000000      4.000000 -9.999000e+03   \n",
       "25%       10.000000      0.000000      0.000000     36.000000  1.001000e+03   \n",
       "50%       15.000000      0.000000      0.000000     55.000000  1.008000e+03   \n",
       "75%       22.000000      0.000000      0.000000     74.000000  1.014000e+03   \n",
       "max       35.000000      1.000000      1.000000    100.000000  1.010614e+08   \n",
       "\n",
       "               rain          snow         tempm       thunder       tornado  \\\n",
       "count  80657.000000  80657.000000  80657.000000  80657.000000  80657.000000   \n",
       "mean       0.027102      0.000012     26.340045      0.010216      0.000025   \n",
       "std        0.162383      0.003521      8.242780      0.100558      0.004980   \n",
       "min        0.000000      0.000000      4.000000      0.000000      0.000000   \n",
       "25%        0.000000      0.000000     20.000000      0.000000      0.000000   \n",
       "50%        0.000000      0.000000     28.000000      0.000000      0.000000   \n",
       "75%        0.000000      0.000000     32.000000      0.000000      0.000000   \n",
       "max        1.000000      1.000000     72.000000      1.000000      1.000000   \n",
       "\n",
       "               vism         wdird         wspdm  \n",
       "count  80657.000000  80657.000000  80657.000000  \n",
       "mean       2.563318    169.093891      8.976131  \n",
       "std       22.690289    118.166457     12.084670  \n",
       "min        0.000000      0.000000      0.000000  \n",
       "25%        1.800000     60.000000      3.700000  \n",
       "50%        2.200000    170.000000      7.400000  \n",
       "75%        3.000000    270.000000     13.000000  \n",
       "max     6436.000000    960.000000   1514.900000  "
      ]
     },
     "execution_count": 16,
     "metadata": {},
     "output_type": "execute_result"
    }
   ],
   "source": [
    "data.describe()"
   ]
  },
  {
   "cell_type": "code",
   "execution_count": 17,
   "id": "553a08d8",
   "metadata": {},
   "outputs": [],
   "source": [
    "# Extracting the year \n",
    "def extract_year(value):\n",
    "    return (value[0:4])\n",
    "df[\"year\"] = df[\"datetime_utc\"].apply(lambda x:extract_year(x))"
   ]
  },
  {
   "cell_type": "code",
   "execution_count": 18,
   "id": "2d9af504",
   "metadata": {},
   "outputs": [],
   "source": [
    "# Extracting month\n",
    "def extract_month(value):\n",
    "    return (value[4:6])\n",
    "df[\"month\"] = df[\"datetime_utc\"].apply(lambda x:extract_month(x))"
   ]
  },
  {
   "cell_type": "code",
   "execution_count": 19,
   "id": "7c666d6e",
   "metadata": {},
   "outputs": [
    {
     "data": {
      "text/html": [
       "<div>\n",
       "<style scoped>\n",
       "    .dataframe tbody tr th:only-of-type {\n",
       "        vertical-align: middle;\n",
       "    }\n",
       "\n",
       "    .dataframe tbody tr th {\n",
       "        vertical-align: top;\n",
       "    }\n",
       "\n",
       "    .dataframe thead th {\n",
       "        text-align: right;\n",
       "    }\n",
       "</style>\n",
       "<table border=\"1\" class=\"dataframe\">\n",
       "  <thead>\n",
       "    <tr style=\"text-align: right;\">\n",
       "      <th></th>\n",
       "      <th>datetime_utc</th>\n",
       "      <th>conds</th>\n",
       "      <th>dewptm</th>\n",
       "      <th>fog</th>\n",
       "      <th>hail</th>\n",
       "      <th>hum</th>\n",
       "      <th>pressurem</th>\n",
       "      <th>rain</th>\n",
       "      <th>snow</th>\n",
       "      <th>tempm</th>\n",
       "      <th>thunder</th>\n",
       "      <th>tornado</th>\n",
       "      <th>vism</th>\n",
       "      <th>wdird</th>\n",
       "      <th>wdire</th>\n",
       "      <th>wspdm</th>\n",
       "      <th>year</th>\n",
       "      <th>month</th>\n",
       "    </tr>\n",
       "  </thead>\n",
       "  <tbody>\n",
       "    <tr>\n",
       "      <th>0</th>\n",
       "      <td>19961101-11:00</td>\n",
       "      <td>Haze</td>\n",
       "      <td>9.0</td>\n",
       "      <td>0</td>\n",
       "      <td>0</td>\n",
       "      <td>27.0</td>\n",
       "      <td>1010.0</td>\n",
       "      <td>0</td>\n",
       "      <td>0</td>\n",
       "      <td>30.0</td>\n",
       "      <td>0</td>\n",
       "      <td>0</td>\n",
       "      <td>5.0</td>\n",
       "      <td>280.0</td>\n",
       "      <td>West</td>\n",
       "      <td>7.4</td>\n",
       "      <td>1996</td>\n",
       "      <td>11</td>\n",
       "    </tr>\n",
       "    <tr>\n",
       "      <th>1</th>\n",
       "      <td>19961101-16:00</td>\n",
       "      <td>Haze</td>\n",
       "      <td>11.0</td>\n",
       "      <td>0</td>\n",
       "      <td>0</td>\n",
       "      <td>47.0</td>\n",
       "      <td>1011.0</td>\n",
       "      <td>0</td>\n",
       "      <td>0</td>\n",
       "      <td>23.0</td>\n",
       "      <td>0</td>\n",
       "      <td>0</td>\n",
       "      <td>1.2</td>\n",
       "      <td>0.0</td>\n",
       "      <td>North</td>\n",
       "      <td>0.0</td>\n",
       "      <td>1996</td>\n",
       "      <td>11</td>\n",
       "    </tr>\n",
       "    <tr>\n",
       "      <th>2</th>\n",
       "      <td>19961101-18:00</td>\n",
       "      <td>Haze</td>\n",
       "      <td>13.0</td>\n",
       "      <td>0</td>\n",
       "      <td>0</td>\n",
       "      <td>60.0</td>\n",
       "      <td>1010.0</td>\n",
       "      <td>0</td>\n",
       "      <td>0</td>\n",
       "      <td>21.0</td>\n",
       "      <td>0</td>\n",
       "      <td>0</td>\n",
       "      <td>0.8</td>\n",
       "      <td>0.0</td>\n",
       "      <td>North</td>\n",
       "      <td>0.0</td>\n",
       "      <td>1996</td>\n",
       "      <td>11</td>\n",
       "    </tr>\n",
       "    <tr>\n",
       "      <th>3</th>\n",
       "      <td>19961102-02:00</td>\n",
       "      <td>Haze</td>\n",
       "      <td>10.0</td>\n",
       "      <td>0</td>\n",
       "      <td>0</td>\n",
       "      <td>52.0</td>\n",
       "      <td>1011.0</td>\n",
       "      <td>0</td>\n",
       "      <td>0</td>\n",
       "      <td>20.0</td>\n",
       "      <td>0</td>\n",
       "      <td>0</td>\n",
       "      <td>2.0</td>\n",
       "      <td>200.0</td>\n",
       "      <td>SSW</td>\n",
       "      <td>9.3</td>\n",
       "      <td>1996</td>\n",
       "      <td>11</td>\n",
       "    </tr>\n",
       "    <tr>\n",
       "      <th>4</th>\n",
       "      <td>19961102-03:00</td>\n",
       "      <td>Haze</td>\n",
       "      <td>10.0</td>\n",
       "      <td>0</td>\n",
       "      <td>0</td>\n",
       "      <td>46.0</td>\n",
       "      <td>1012.0</td>\n",
       "      <td>0</td>\n",
       "      <td>0</td>\n",
       "      <td>22.0</td>\n",
       "      <td>0</td>\n",
       "      <td>0</td>\n",
       "      <td>3.5</td>\n",
       "      <td>240.0</td>\n",
       "      <td>WSW</td>\n",
       "      <td>9.3</td>\n",
       "      <td>1996</td>\n",
       "      <td>11</td>\n",
       "    </tr>\n",
       "  </tbody>\n",
       "</table>\n",
       "</div>"
      ],
      "text/plain": [
       "     datetime_utc conds  dewptm  fog  hail   hum  pressurem  rain  snow  \\\n",
       "0  19961101-11:00  Haze     9.0    0     0  27.0     1010.0     0     0   \n",
       "1  19961101-16:00  Haze    11.0    0     0  47.0     1011.0     0     0   \n",
       "2  19961101-18:00  Haze    13.0    0     0  60.0     1010.0     0     0   \n",
       "3  19961102-02:00  Haze    10.0    0     0  52.0     1011.0     0     0   \n",
       "4  19961102-03:00  Haze    10.0    0     0  46.0     1012.0     0     0   \n",
       "\n",
       "   tempm  thunder  tornado  vism  wdird  wdire  wspdm  year month  \n",
       "0   30.0        0        0   5.0  280.0   West    7.4  1996    11  \n",
       "1   23.0        0        0   1.2    0.0  North    0.0  1996    11  \n",
       "2   21.0        0        0   0.8    0.0  North    0.0  1996    11  \n",
       "3   20.0        0        0   2.0  200.0    SSW    9.3  1996    11  \n",
       "4   22.0        0        0   3.5  240.0    WSW    9.3  1996    11  "
      ]
     },
     "execution_count": 19,
     "metadata": {},
     "output_type": "execute_result"
    }
   ],
   "source": [
    "df.head()"
   ]
  },
  {
   "cell_type": "code",
   "execution_count": 20,
   "id": "9fd1a374",
   "metadata": {},
   "outputs": [
    {
     "data": {
      "text/plain": [
       "datetime_utc     object\n",
       "conds            object\n",
       "dewptm          float64\n",
       "fog               int64\n",
       "hail              int64\n",
       "hum             float64\n",
       "pressurem       float64\n",
       "rain              int64\n",
       "snow              int64\n",
       "tempm           float64\n",
       "thunder           int64\n",
       "tornado           int64\n",
       "vism            float64\n",
       "wdird           float64\n",
       "wdire            object\n",
       "wspdm           float64\n",
       "year             object\n",
       "month            object\n",
       "dtype: object"
      ]
     },
     "execution_count": 20,
     "metadata": {},
     "output_type": "execute_result"
    }
   ],
   "source": [
    "df.dtypes"
   ]
  },
  {
   "cell_type": "code",
   "execution_count": 21,
   "id": "a641ced0",
   "metadata": {},
   "outputs": [
    {
     "data": {
      "text/html": [
       "<div>\n",
       "<style scoped>\n",
       "    .dataframe tbody tr th:only-of-type {\n",
       "        vertical-align: middle;\n",
       "    }\n",
       "\n",
       "    .dataframe tbody tr th {\n",
       "        vertical-align: top;\n",
       "    }\n",
       "\n",
       "    .dataframe thead th {\n",
       "        text-align: right;\n",
       "    }\n",
       "</style>\n",
       "<table border=\"1\" class=\"dataframe\">\n",
       "  <thead>\n",
       "    <tr style=\"text-align: right;\">\n",
       "      <th></th>\n",
       "      <th>conds</th>\n",
       "      <th>dewptm</th>\n",
       "      <th>fog</th>\n",
       "      <th>hail</th>\n",
       "      <th>hum</th>\n",
       "      <th>pressurem</th>\n",
       "      <th>rain</th>\n",
       "      <th>snow</th>\n",
       "      <th>tempm</th>\n",
       "      <th>thunder</th>\n",
       "      <th>tornado</th>\n",
       "      <th>vism</th>\n",
       "      <th>wdird</th>\n",
       "      <th>wspdm</th>\n",
       "      <th>year</th>\n",
       "      <th>month</th>\n",
       "    </tr>\n",
       "  </thead>\n",
       "  <tbody>\n",
       "    <tr>\n",
       "      <th>0</th>\n",
       "      <td>Haze</td>\n",
       "      <td>9.0</td>\n",
       "      <td>0</td>\n",
       "      <td>0</td>\n",
       "      <td>27.0</td>\n",
       "      <td>1010.0</td>\n",
       "      <td>0</td>\n",
       "      <td>0</td>\n",
       "      <td>30.0</td>\n",
       "      <td>0</td>\n",
       "      <td>0</td>\n",
       "      <td>5.0</td>\n",
       "      <td>280.0</td>\n",
       "      <td>7.4</td>\n",
       "      <td>1996</td>\n",
       "      <td>11</td>\n",
       "    </tr>\n",
       "    <tr>\n",
       "      <th>1</th>\n",
       "      <td>Haze</td>\n",
       "      <td>11.0</td>\n",
       "      <td>0</td>\n",
       "      <td>0</td>\n",
       "      <td>47.0</td>\n",
       "      <td>1011.0</td>\n",
       "      <td>0</td>\n",
       "      <td>0</td>\n",
       "      <td>23.0</td>\n",
       "      <td>0</td>\n",
       "      <td>0</td>\n",
       "      <td>1.2</td>\n",
       "      <td>0.0</td>\n",
       "      <td>0.0</td>\n",
       "      <td>1996</td>\n",
       "      <td>11</td>\n",
       "    </tr>\n",
       "    <tr>\n",
       "      <th>2</th>\n",
       "      <td>Haze</td>\n",
       "      <td>13.0</td>\n",
       "      <td>0</td>\n",
       "      <td>0</td>\n",
       "      <td>60.0</td>\n",
       "      <td>1010.0</td>\n",
       "      <td>0</td>\n",
       "      <td>0</td>\n",
       "      <td>21.0</td>\n",
       "      <td>0</td>\n",
       "      <td>0</td>\n",
       "      <td>0.8</td>\n",
       "      <td>0.0</td>\n",
       "      <td>0.0</td>\n",
       "      <td>1996</td>\n",
       "      <td>11</td>\n",
       "    </tr>\n",
       "    <tr>\n",
       "      <th>3</th>\n",
       "      <td>Haze</td>\n",
       "      <td>10.0</td>\n",
       "      <td>0</td>\n",
       "      <td>0</td>\n",
       "      <td>52.0</td>\n",
       "      <td>1011.0</td>\n",
       "      <td>0</td>\n",
       "      <td>0</td>\n",
       "      <td>20.0</td>\n",
       "      <td>0</td>\n",
       "      <td>0</td>\n",
       "      <td>2.0</td>\n",
       "      <td>200.0</td>\n",
       "      <td>9.3</td>\n",
       "      <td>1996</td>\n",
       "      <td>11</td>\n",
       "    </tr>\n",
       "    <tr>\n",
       "      <th>4</th>\n",
       "      <td>Haze</td>\n",
       "      <td>10.0</td>\n",
       "      <td>0</td>\n",
       "      <td>0</td>\n",
       "      <td>46.0</td>\n",
       "      <td>1012.0</td>\n",
       "      <td>0</td>\n",
       "      <td>0</td>\n",
       "      <td>22.0</td>\n",
       "      <td>0</td>\n",
       "      <td>0</td>\n",
       "      <td>3.5</td>\n",
       "      <td>240.0</td>\n",
       "      <td>9.3</td>\n",
       "      <td>1996</td>\n",
       "      <td>11</td>\n",
       "    </tr>\n",
       "  </tbody>\n",
       "</table>\n",
       "</div>"
      ],
      "text/plain": [
       "  conds  dewptm  fog  hail   hum  pressurem  rain  snow  tempm  thunder  \\\n",
       "0  Haze     9.0    0     0  27.0     1010.0     0     0   30.0        0   \n",
       "1  Haze    11.0    0     0  47.0     1011.0     0     0   23.0        0   \n",
       "2  Haze    13.0    0     0  60.0     1010.0     0     0   21.0        0   \n",
       "3  Haze    10.0    0     0  52.0     1011.0     0     0   20.0        0   \n",
       "4  Haze    10.0    0     0  46.0     1012.0     0     0   22.0        0   \n",
       "\n",
       "   tornado  vism  wdird  wspdm  year month  \n",
       "0        0   5.0  280.0    7.4  1996    11  \n",
       "1        0   1.2    0.0    0.0  1996    11  \n",
       "2        0   0.8    0.0    0.0  1996    11  \n",
       "3        0   2.0  200.0    9.3  1996    11  \n",
       "4        0   3.5  240.0    9.3  1996    11  "
      ]
     },
     "execution_count": 21,
     "metadata": {},
     "output_type": "execute_result"
    }
   ],
   "source": [
    "# Dropping three columns 'datetime_utc', 'wdire', 'Unnamed: 0'\n",
    "df = df.drop(['datetime_utc', 'wdire'], axis =1)\n",
    "df.head()"
   ]
  },
  {
   "cell_type": "code",
   "execution_count": 22,
   "id": "1822ade3",
   "metadata": {},
   "outputs": [
    {
     "data": {
      "text/plain": [
       "Index(['conds', 'dewptm', 'fog', 'hail', 'hum', 'pressurem', 'rain', 'snow',\n",
       "       'tempm', 'thunder', 'tornado', 'vism', 'wdird', 'wspdm', 'year',\n",
       "       'month'],\n",
       "      dtype='object')"
      ]
     },
     "execution_count": 22,
     "metadata": {},
     "output_type": "execute_result"
    }
   ],
   "source": [
    "df.columns"
   ]
  },
  {
   "cell_type": "code",
   "execution_count": 23,
   "id": "b6d31449",
   "metadata": {},
   "outputs": [],
   "source": [
    "ordered_columns = ['year','month', 'dewptm', 'fog', 'hail', 'hum', 'pressurem', 'rain', 'snow',\n",
    "       'tempm', 'thunder', 'tornado', 'vism', 'wdird', 'wspdm', 'conds']\n",
    "df = df[ordered_columns]"
   ]
  },
  {
   "cell_type": "code",
   "execution_count": 24,
   "id": "0475222c",
   "metadata": {},
   "outputs": [
    {
     "data": {
      "text/html": [
       "<div>\n",
       "<style scoped>\n",
       "    .dataframe tbody tr th:only-of-type {\n",
       "        vertical-align: middle;\n",
       "    }\n",
       "\n",
       "    .dataframe tbody tr th {\n",
       "        vertical-align: top;\n",
       "    }\n",
       "\n",
       "    .dataframe thead th {\n",
       "        text-align: right;\n",
       "    }\n",
       "</style>\n",
       "<table border=\"1\" class=\"dataframe\">\n",
       "  <thead>\n",
       "    <tr style=\"text-align: right;\">\n",
       "      <th></th>\n",
       "      <th>year</th>\n",
       "      <th>month</th>\n",
       "      <th>dewptm</th>\n",
       "      <th>fog</th>\n",
       "      <th>hail</th>\n",
       "      <th>hum</th>\n",
       "      <th>pressurem</th>\n",
       "      <th>rain</th>\n",
       "      <th>snow</th>\n",
       "      <th>tempm</th>\n",
       "      <th>thunder</th>\n",
       "      <th>tornado</th>\n",
       "      <th>vism</th>\n",
       "      <th>wdird</th>\n",
       "      <th>wspdm</th>\n",
       "      <th>conds</th>\n",
       "    </tr>\n",
       "  </thead>\n",
       "  <tbody>\n",
       "    <tr>\n",
       "      <th>0</th>\n",
       "      <td>1996</td>\n",
       "      <td>11</td>\n",
       "      <td>9.0</td>\n",
       "      <td>0</td>\n",
       "      <td>0</td>\n",
       "      <td>27.0</td>\n",
       "      <td>1010.0</td>\n",
       "      <td>0</td>\n",
       "      <td>0</td>\n",
       "      <td>30.0</td>\n",
       "      <td>0</td>\n",
       "      <td>0</td>\n",
       "      <td>5.0</td>\n",
       "      <td>280.0</td>\n",
       "      <td>7.4</td>\n",
       "      <td>Haze</td>\n",
       "    </tr>\n",
       "    <tr>\n",
       "      <th>1</th>\n",
       "      <td>1996</td>\n",
       "      <td>11</td>\n",
       "      <td>11.0</td>\n",
       "      <td>0</td>\n",
       "      <td>0</td>\n",
       "      <td>47.0</td>\n",
       "      <td>1011.0</td>\n",
       "      <td>0</td>\n",
       "      <td>0</td>\n",
       "      <td>23.0</td>\n",
       "      <td>0</td>\n",
       "      <td>0</td>\n",
       "      <td>1.2</td>\n",
       "      <td>0.0</td>\n",
       "      <td>0.0</td>\n",
       "      <td>Haze</td>\n",
       "    </tr>\n",
       "    <tr>\n",
       "      <th>2</th>\n",
       "      <td>1996</td>\n",
       "      <td>11</td>\n",
       "      <td>13.0</td>\n",
       "      <td>0</td>\n",
       "      <td>0</td>\n",
       "      <td>60.0</td>\n",
       "      <td>1010.0</td>\n",
       "      <td>0</td>\n",
       "      <td>0</td>\n",
       "      <td>21.0</td>\n",
       "      <td>0</td>\n",
       "      <td>0</td>\n",
       "      <td>0.8</td>\n",
       "      <td>0.0</td>\n",
       "      <td>0.0</td>\n",
       "      <td>Haze</td>\n",
       "    </tr>\n",
       "    <tr>\n",
       "      <th>3</th>\n",
       "      <td>1996</td>\n",
       "      <td>11</td>\n",
       "      <td>10.0</td>\n",
       "      <td>0</td>\n",
       "      <td>0</td>\n",
       "      <td>52.0</td>\n",
       "      <td>1011.0</td>\n",
       "      <td>0</td>\n",
       "      <td>0</td>\n",
       "      <td>20.0</td>\n",
       "      <td>0</td>\n",
       "      <td>0</td>\n",
       "      <td>2.0</td>\n",
       "      <td>200.0</td>\n",
       "      <td>9.3</td>\n",
       "      <td>Haze</td>\n",
       "    </tr>\n",
       "    <tr>\n",
       "      <th>4</th>\n",
       "      <td>1996</td>\n",
       "      <td>11</td>\n",
       "      <td>10.0</td>\n",
       "      <td>0</td>\n",
       "      <td>0</td>\n",
       "      <td>46.0</td>\n",
       "      <td>1012.0</td>\n",
       "      <td>0</td>\n",
       "      <td>0</td>\n",
       "      <td>22.0</td>\n",
       "      <td>0</td>\n",
       "      <td>0</td>\n",
       "      <td>3.5</td>\n",
       "      <td>240.0</td>\n",
       "      <td>9.3</td>\n",
       "      <td>Haze</td>\n",
       "    </tr>\n",
       "  </tbody>\n",
       "</table>\n",
       "</div>"
      ],
      "text/plain": [
       "   year month  dewptm  fog  hail   hum  pressurem  rain  snow  tempm  thunder  \\\n",
       "0  1996    11     9.0    0     0  27.0     1010.0     0     0   30.0        0   \n",
       "1  1996    11    11.0    0     0  47.0     1011.0     0     0   23.0        0   \n",
       "2  1996    11    13.0    0     0  60.0     1010.0     0     0   21.0        0   \n",
       "3  1996    11    10.0    0     0  52.0     1011.0     0     0   20.0        0   \n",
       "4  1996    11    10.0    0     0  46.0     1012.0     0     0   22.0        0   \n",
       "\n",
       "   tornado  vism  wdird  wspdm conds  \n",
       "0        0   5.0  280.0    7.4  Haze  \n",
       "1        0   1.2    0.0    0.0  Haze  \n",
       "2        0   0.8    0.0    0.0  Haze  \n",
       "3        0   2.0  200.0    9.3  Haze  \n",
       "4        0   3.5  240.0    9.3  Haze  "
      ]
     },
     "execution_count": 24,
     "metadata": {},
     "output_type": "execute_result"
    }
   ],
   "source": [
    "df.head()"
   ]
  },
  {
   "cell_type": "code",
   "execution_count": 25,
   "id": "dd9ffd96",
   "metadata": {},
   "outputs": [
    {
     "data": {
      "text/plain": [
       "Haze      65925\n",
       "Rain       6022\n",
       "Cloudy     5832\n",
       "Clear      2878\n",
       "Name: conds, dtype: int64"
      ]
     },
     "execution_count": 25,
     "metadata": {},
     "output_type": "execute_result"
    }
   ],
   "source": [
    "df.conds.value_counts()"
   ]
  },
  {
   "cell_type": "markdown",
   "id": "88af5c79",
   "metadata": {},
   "source": [
    "# Split the Data into Training and Testing"
   ]
  },
  {
   "cell_type": "code",
   "execution_count": 26,
   "id": "6efad19a",
   "metadata": {},
   "outputs": [],
   "source": [
    "# Create our features\n",
    "X = df.drop(\"conds\", axis=1)\n",
    "\n",
    "# Create our target\n",
    "y = df[\"conds\"]\n"
   ]
  },
  {
   "cell_type": "code",
   "execution_count": 27,
   "id": "84fdc7b7",
   "metadata": {},
   "outputs": [],
   "source": [
    "i = y.value_counts()"
   ]
  },
  {
   "cell_type": "code",
   "execution_count": 28,
   "id": "6aabae6e",
   "metadata": {},
   "outputs": [
    {
     "data": {
      "image/png": "[encoded data removed]",
      "text/plain": [
       "<Figure size 432x288 with 1 Axes>"
      ]
     },
     "metadata": {},
     "output_type": "display_data"
    }
   ],
   "source": [
    "plt.pie(i, labels=['Haze', 'Rain', 'Cloudy', 'Clear'], autopct='%.2f')\n",
    "plt.show()"
   ]
  },
  {
   "cell_type": "markdown",
   "id": "d37b7d17",
   "metadata": {},
   "source": [
    "This pie chart shows an imbalanced dataset with about 82% of the data belonging to one particular class."
   ]
  },
  {
   "cell_type": "code",
   "execution_count": 29,
   "id": "d652eaf4",
   "metadata": {},
   "outputs": [
    {
     "data": {
      "text/html": [
       "<div>\n",
       "<style scoped>\n",
       "    .dataframe tbody tr th:only-of-type {\n",
       "        vertical-align: middle;\n",
       "    }\n",
       "\n",
       "    .dataframe tbody tr th {\n",
       "        vertical-align: top;\n",
       "    }\n",
       "\n",
       "    .dataframe thead th {\n",
       "        text-align: right;\n",
       "    }\n",
       "</style>\n",
       "<table border=\"1\" class=\"dataframe\">\n",
       "  <thead>\n",
       "    <tr style=\"text-align: right;\">\n",
       "      <th></th>\n",
       "      <th>dewptm</th>\n",
       "      <th>fog</th>\n",
       "      <th>hail</th>\n",
       "      <th>hum</th>\n",
       "      <th>pressurem</th>\n",
       "      <th>rain</th>\n",
       "      <th>snow</th>\n",
       "      <th>tempm</th>\n",
       "      <th>thunder</th>\n",
       "      <th>tornado</th>\n",
       "      <th>vism</th>\n",
       "      <th>wdird</th>\n",
       "      <th>wspdm</th>\n",
       "    </tr>\n",
       "  </thead>\n",
       "  <tbody>\n",
       "    <tr>\n",
       "      <th>count</th>\n",
       "      <td>80657.000000</td>\n",
       "      <td>80657.000000</td>\n",
       "      <td>80657.000000</td>\n",
       "      <td>80657.000000</td>\n",
       "      <td>8.065700e+04</td>\n",
       "      <td>80657.000000</td>\n",
       "      <td>80657.000000</td>\n",
       "      <td>80657.000000</td>\n",
       "      <td>80657.000000</td>\n",
       "      <td>80657.000000</td>\n",
       "      <td>80657.000000</td>\n",
       "      <td>80657.000000</td>\n",
       "      <td>80657.000000</td>\n",
       "    </tr>\n",
       "    <tr>\n",
       "      <th>mean</th>\n",
       "      <td>15.676445</td>\n",
       "      <td>0.050907</td>\n",
       "      <td>0.000136</td>\n",
       "      <td>55.171926</td>\n",
       "      <td>2.199730e+03</td>\n",
       "      <td>0.027102</td>\n",
       "      <td>0.000012</td>\n",
       "      <td>26.340045</td>\n",
       "      <td>0.010216</td>\n",
       "      <td>0.000025</td>\n",
       "      <td>2.563318</td>\n",
       "      <td>169.093891</td>\n",
       "      <td>8.976131</td>\n",
       "    </tr>\n",
       "    <tr>\n",
       "      <th>std</th>\n",
       "      <td>7.150146</td>\n",
       "      <td>0.219809</td>\n",
       "      <td>0.011677</td>\n",
       "      <td>23.447379</td>\n",
       "      <td>3.558458e+05</td>\n",
       "      <td>0.162383</td>\n",
       "      <td>0.003521</td>\n",
       "      <td>8.242780</td>\n",
       "      <td>0.100558</td>\n",
       "      <td>0.004980</td>\n",
       "      <td>22.690289</td>\n",
       "      <td>118.166457</td>\n",
       "      <td>12.084670</td>\n",
       "    </tr>\n",
       "    <tr>\n",
       "      <th>min</th>\n",
       "      <td>-24.000000</td>\n",
       "      <td>0.000000</td>\n",
       "      <td>0.000000</td>\n",
       "      <td>4.000000</td>\n",
       "      <td>-9.999000e+03</td>\n",
       "      <td>0.000000</td>\n",
       "      <td>0.000000</td>\n",
       "      <td>4.000000</td>\n",
       "      <td>0.000000</td>\n",
       "      <td>0.000000</td>\n",
       "      <td>0.000000</td>\n",
       "      <td>0.000000</td>\n",
       "      <td>0.000000</td>\n",
       "    </tr>\n",
       "    <tr>\n",
       "      <th>25%</th>\n",
       "      <td>10.000000</td>\n",
       "      <td>0.000000</td>\n",
       "      <td>0.000000</td>\n",
       "      <td>36.000000</td>\n",
       "      <td>1.001000e+03</td>\n",
       "      <td>0.000000</td>\n",
       "      <td>0.000000</td>\n",
       "      <td>20.000000</td>\n",
       "      <td>0.000000</td>\n",
       "      <td>0.000000</td>\n",
       "      <td>1.800000</td>\n",
       "      <td>60.000000</td>\n",
       "      <td>3.700000</td>\n",
       "    </tr>\n",
       "    <tr>\n",
       "      <th>50%</th>\n",
       "      <td>15.000000</td>\n",
       "      <td>0.000000</td>\n",
       "      <td>0.000000</td>\n",
       "      <td>55.000000</td>\n",
       "      <td>1.008000e+03</td>\n",
       "      <td>0.000000</td>\n",
       "      <td>0.000000</td>\n",
       "      <td>28.000000</td>\n",
       "      <td>0.000000</td>\n",
       "      <td>0.000000</td>\n",
       "      <td>2.200000</td>\n",
       "      <td>170.000000</td>\n",
       "      <td>7.400000</td>\n",
       "    </tr>\n",
       "    <tr>\n",
       "      <th>75%</th>\n",
       "      <td>22.000000</td>\n",
       "      <td>0.000000</td>\n",
       "      <td>0.000000</td>\n",
       "      <td>74.000000</td>\n",
       "      <td>1.014000e+03</td>\n",
       "      <td>0.000000</td>\n",
       "      <td>0.000000</td>\n",
       "      <td>32.000000</td>\n",
       "      <td>0.000000</td>\n",
       "      <td>0.000000</td>\n",
       "      <td>3.000000</td>\n",
       "      <td>270.000000</td>\n",
       "      <td>13.000000</td>\n",
       "    </tr>\n",
       "    <tr>\n",
       "      <th>max</th>\n",
       "      <td>35.000000</td>\n",
       "      <td>1.000000</td>\n",
       "      <td>1.000000</td>\n",
       "      <td>100.000000</td>\n",
       "      <td>1.010614e+08</td>\n",
       "      <td>1.000000</td>\n",
       "      <td>1.000000</td>\n",
       "      <td>72.000000</td>\n",
       "      <td>1.000000</td>\n",
       "      <td>1.000000</td>\n",
       "      <td>6436.000000</td>\n",
       "      <td>960.000000</td>\n",
       "      <td>1514.900000</td>\n",
       "    </tr>\n",
       "  </tbody>\n",
       "</table>\n",
       "</div>"
      ],
      "text/plain": [
       "             dewptm           fog          hail           hum     pressurem  \\\n",
       "count  80657.000000  80657.000000  80657.000000  80657.000000  8.065700e+04   \n",
       "mean      15.676445      0.050907      0.000136     55.171926  2.199730e+03   \n",
       "std        7.150146      0.219809      0.011677     23.447379  3.558458e+05   \n",
       "min      -24.000000      0.000000      0.000000      4.000000 -9.999000e+03   \n",
       "25%       10.000000      0.000000      0.000000     36.000000  1.001000e+03   \n",
       "50%       15.000000      0.000000      0.000000     55.000000  1.008000e+03   \n",
       "75%       22.000000      0.000000      0.000000     74.000000  1.014000e+03   \n",
       "max       35.000000      1.000000      1.000000    100.000000  1.010614e+08   \n",
       "\n",
       "               rain          snow         tempm       thunder       tornado  \\\n",
       "count  80657.000000  80657.000000  80657.000000  80657.000000  80657.000000   \n",
       "mean       0.027102      0.000012     26.340045      0.010216      0.000025   \n",
       "std        0.162383      0.003521      8.242780      0.100558      0.004980   \n",
       "min        0.000000      0.000000      4.000000      0.000000      0.000000   \n",
       "25%        0.000000      0.000000     20.000000      0.000000      0.000000   \n",
       "50%        0.000000      0.000000     28.000000      0.000000      0.000000   \n",
       "75%        0.000000      0.000000     32.000000      0.000000      0.000000   \n",
       "max        1.000000      1.000000     72.000000      1.000000      1.000000   \n",
       "\n",
       "               vism         wdird         wspdm  \n",
       "count  80657.000000  80657.000000  80657.000000  \n",
       "mean       2.563318    169.093891      8.976131  \n",
       "std       22.690289    118.166457     12.084670  \n",
       "min        0.000000      0.000000      0.000000  \n",
       "25%        1.800000     60.000000      3.700000  \n",
       "50%        2.200000    170.000000      7.400000  \n",
       "75%        3.000000    270.000000     13.000000  \n",
       "max     6436.000000    960.000000   1514.900000  "
      ]
     },
     "execution_count": 29,
     "metadata": {},
     "output_type": "execute_result"
    }
   ],
   "source": [
    "X.describe()"
   ]
  },
  {
   "cell_type": "code",
   "execution_count": 30,
   "id": "cd96bbd5",
   "metadata": {},
   "outputs": [
    {
     "data": {
      "text/plain": [
       "Haze      65925\n",
       "Rain       6022\n",
       "Cloudy     5832\n",
       "Clear      2878\n",
       "Name: conds, dtype: int64"
      ]
     },
     "execution_count": 30,
     "metadata": {},
     "output_type": "execute_result"
    }
   ],
   "source": [
    "y.value_counts()"
   ]
  },
  {
   "cell_type": "code",
   "execution_count": 31,
   "id": "64753064",
   "metadata": {},
   "outputs": [],
   "source": [
    "from sklearn.model_selection import train_test_split\n",
    "X_train, X_test, y_train, y_test = train_test_split(X, y, random_state=1)"
   ]
  },
  {
   "cell_type": "markdown",
   "id": "afa7e835",
   "metadata": {},
   "source": [
    "# Logistic Regression"
   ]
  },
  {
   "cell_type": "code",
   "execution_count": 32,
   "id": "1dd61a41",
   "metadata": {},
   "outputs": [
    {
     "name": "stdout",
     "output_type": "stream",
     "text": [
      "Training Score: 0.8565430139522582\n",
      "Testing Score: 0.8520208281676172\n"
     ]
    }
   ],
   "source": [
    "# Train the Logistic Regression model using the resampled data\n",
    "from sklearn.linear_model import LogisticRegression\n",
    "lr_model = LogisticRegression(solver='newton-cg', random_state=1)\n",
    "lr_model.fit(X_train, y_train)\n",
    "print(f'Training Score: {lr_model.score(X_train, y_train)}')\n",
    "print(f'Testing Score: {lr_model.score(X_test, y_test)}')\n",
    "\n",
    "lr_train_score = lr_model.score(X_train, y_train)\n",
    "lr_test_score = lr_model.score(X_test, y_test)"
   ]
  },
  {
   "cell_type": "code",
   "execution_count": 33,
   "id": "ce3e7f9d",
   "metadata": {},
   "outputs": [
    {
     "data": {
      "text/plain": [
       "array(['Haze', 'Haze', 'Haze', ..., 'Haze', 'Haze', 'Haze'], dtype=object)"
      ]
     },
     "execution_count": 33,
     "metadata": {},
     "output_type": "execute_result"
    }
   ],
   "source": [
    "y_pred_lr = lr_model.predict(X_test)\n",
    "y_pred_lr"
   ]
  },
  {
   "cell_type": "code",
   "execution_count": 34,
   "id": "9dbc2e7b",
   "metadata": {},
   "outputs": [
    {
     "data": {
      "text/plain": [
       "<sklearn.metrics._plot.confusion_matrix.ConfusionMatrixDisplay at 0x21faa34dbc8>"
      ]
     },
     "execution_count": 34,
     "metadata": {},
     "output_type": "execute_result"
    },
    {
     "data": {
      "image/png": "[encoded data removed]",
      "text/plain": [
       "<Figure size 432x288 with 2 Axes>"
      ]
     },
     "metadata": {
      "needs_background": "light"
     },
     "output_type": "display_data"
    }
   ],
   "source": [
    "# Displaying the confusion_matrix\n",
    "from sklearn.metrics import confusion_matrix, ConfusionMatrixDisplay\n",
    "cm = confusion_matrix(y_test, y_pred_lr, labels=lr_model.classes_)\n",
    "disp = ConfusionMatrixDisplay(confusion_matrix=cm, display_labels=lr_model.classes_)\n",
    "disp.plot()"
   ]
  },
  {
   "cell_type": "code",
   "execution_count": 106,
   "id": "7eab4859",
   "metadata": {},
   "outputs": [],
   "source": [
    "# Calulating metrics\n",
    "from sklearn.metrics import balanced_accuracy_score, precision_score, recall_score\n",
    "lr_accuracy = balanced_accuracy_score(y_test, y_pred_lr)\n",
    "lr_precision = precision_score(y_test, y_pred_lr, average='weighted')\n",
    "lr_recall = recall_score(y_test, y_pred_lr, average='weighted')"
   ]
  },
  {
   "cell_type": "code",
   "execution_count": 36,
   "id": "8635d8ea",
   "metadata": {},
   "outputs": [
    {
     "name": "stdout",
     "output_type": "stream",
     "text": [
      "              precision    recall  f1-score   support\n",
      "\n",
      "       Clear       0.34      0.06      0.10       735\n",
      "      Cloudy       0.36      0.07      0.11      1502\n",
      "        Haze       0.86      0.98      0.92     16408\n",
      "        Rain       0.87      0.58      0.70      1520\n",
      "\n",
      "    accuracy                           0.85     20165\n",
      "   macro avg       0.61      0.42      0.46     20165\n",
      "weighted avg       0.81      0.85      0.81     20165\n",
      "\n"
     ]
    }
   ],
   "source": [
    "# printing the classification report\n",
    "from sklearn.metrics import classification_report\n",
    "clf_report = (classification_report(y_test, y_pred_lr))\n",
    "print(clf_report)"
   ]
  },
  {
   "cell_type": "code",
   "execution_count": 37,
   "id": "6f12cac0",
   "metadata": {},
   "outputs": [
    {
     "name": "stdout",
     "output_type": "stream",
     "text": [
      "Feature: 0, Score: -0.00526\n",
      "Feature: 1, Score: -0.04283\n",
      "Feature: 2, Score: -0.60973\n",
      "Feature: 3, Score: -1.19564\n",
      "Feature: 4, Score: -0.02126\n",
      "Feature: 5, Score: 0.11346\n",
      "Feature: 6, Score: 0.00000\n",
      "Feature: 7, Score: -1.04769\n",
      "Feature: 8, Score: 0.00000\n",
      "Feature: 9, Score: 0.52290\n",
      "Feature: 10, Score: -0.77591\n",
      "Feature: 11, Score: -0.00387\n",
      "Feature: 12, Score: 0.20052\n",
      "Feature: 13, Score: -0.00158\n",
      "Feature: 14, Score: 0.00021\n"
     ]
    },
    {
     "data": {
      "image/png": "[encoded data removed]",
      "text/plain": [
       "<Figure size 432x288 with 1 Axes>"
      ]
     },
     "metadata": {
      "needs_background": "light"
     },
     "output_type": "display_data"
    }
   ],
   "source": [
    "# get importance\n",
    "importance = lr_model.coef_[0]\n",
    "# summarize feature importance\n",
    "for i,v in enumerate(importance):\n",
    "\tprint('Feature: %0d, Score: %.5f' % (i,v))\n",
    "# plot feature importance\n",
    "plt.bar([x for x in range(len(importance))], importance)\n",
    "plt.show()"
   ]
  },
  {
   "cell_type": "code",
   "execution_count": 38,
   "id": "0467b1c0",
   "metadata": {},
   "outputs": [
    {
     "name": "stdout",
     "output_type": "stream",
     "text": [
      "<class 'pandas.core.frame.DataFrame'>\n",
      "RangeIndex: 80657 entries, 0 to 80656\n",
      "Data columns (total 15 columns):\n",
      " #   Column     Non-Null Count  Dtype  \n",
      "---  ------     --------------  -----  \n",
      " 0   year       80657 non-null  object \n",
      " 1   month      80657 non-null  object \n",
      " 2   dewptm     80657 non-null  float64\n",
      " 3   fog        80657 non-null  int64  \n",
      " 4   hail       80657 non-null  int64  \n",
      " 5   hum        80657 non-null  float64\n",
      " 6   pressurem  80657 non-null  float64\n",
      " 7   rain       80657 non-null  int64  \n",
      " 8   snow       80657 non-null  int64  \n",
      " 9   tempm      80657 non-null  float64\n",
      " 10  thunder    80657 non-null  int64  \n",
      " 11  tornado    80657 non-null  int64  \n",
      " 12  vism       80657 non-null  float64\n",
      " 13  wdird      80657 non-null  float64\n",
      " 14  wspdm      80657 non-null  float64\n",
      "dtypes: float64(7), int64(6), object(2)\n",
      "memory usage: 9.2+ MB\n"
     ]
    }
   ],
   "source": [
    "X.info()"
   ]
  },
  {
   "cell_type": "markdown",
   "id": "afa66159",
   "metadata": {},
   "source": [
    "# DecisionTreeClassifier"
   ]
  },
  {
   "cell_type": "code",
   "execution_count": 39,
   "id": "51c31773",
   "metadata": {},
   "outputs": [
    {
     "name": "stdout",
     "output_type": "stream",
     "text": [
      "Training Score: 0.9991073199761952\n",
      "Testing Score: 0.9015125216960079\n"
     ]
    }
   ],
   "source": [
    "from sklearn.tree import DecisionTreeClassifier\n",
    "clf_model = DecisionTreeClassifier()\n",
    "clf_model = clf_model.fit(X_train, y_train)\n",
    "print(f'Training Score: {clf_model.score(X_train, y_train)}')\n",
    "print(f'Testing Score: {clf_model.score(X_test, y_test)}')\n",
    "\n",
    "dtc_train_score = clf_model.score(X_train, y_train)\n",
    "dtc_test_score = clf_model.score(X_test, y_test)"
   ]
  },
  {
   "cell_type": "code",
   "execution_count": 40,
   "id": "d26afd96",
   "metadata": {},
   "outputs": [
    {
     "data": {
      "text/plain": [
       "array(['Haze', 'Haze', 'Haze', ..., 'Haze', 'Haze', 'Haze'], dtype=object)"
      ]
     },
     "execution_count": 40,
     "metadata": {},
     "output_type": "execute_result"
    }
   ],
   "source": [
    "y_pred_dtc = clf_model.predict(X_test)\n",
    "y_pred_dtc"
   ]
  },
  {
   "cell_type": "code",
   "execution_count": 41,
   "id": "17d821c8",
   "metadata": {},
   "outputs": [
    {
     "data": {
      "text/plain": [
       "<sklearn.metrics._plot.confusion_matrix.ConfusionMatrixDisplay at 0x21faa522588>"
      ]
     },
     "execution_count": 41,
     "metadata": {},
     "output_type": "execute_result"
    },
    {
     "data": {
      "image/png": "[encoded data removed]",
      "text/plain": [
       "<Figure size 432x288 with 2 Axes>"
      ]
     },
     "metadata": {
      "needs_background": "light"
     },
     "output_type": "display_data"
    }
   ],
   "source": [
    "# Displaying the confusion_matrix\n",
    "from sklearn.metrics import confusion_matrix, ConfusionMatrixDisplay\n",
    "cm = confusion_matrix(y_test, y_pred_dtc, labels=clf_model.classes_)\n",
    "disp = ConfusionMatrixDisplay(confusion_matrix=cm, display_labels=clf_model.classes_)\n",
    "disp.plot()"
   ]
  },
  {
   "cell_type": "code",
   "execution_count": 107,
   "id": "cca575e0",
   "metadata": {},
   "outputs": [],
   "source": [
    "# Calulating metrics\n",
    "from sklearn.metrics import accuracy_score, precision_score, recall_score\n",
    "dtc_accuracy = balanced_accuracy_score(y_test, y_pred_dtc)\n",
    "dtc_precision = precision_score(y_test, y_pred_dtc, average='weighted')\n",
    "dtc_recall = recall_score(y_test, y_pred_dtc, average='weighted')"
   ]
  },
  {
   "cell_type": "code",
   "execution_count": 43,
   "id": "44669a03",
   "metadata": {},
   "outputs": [
    {
     "name": "stdout",
     "output_type": "stream",
     "text": [
      "              precision    recall  f1-score   support\n",
      "\n",
      "       Clear       0.50      0.52      0.51       735\n",
      "      Cloudy       0.56      0.57      0.57      1502\n",
      "        Haze       0.96      0.95      0.95     16408\n",
      "        Rain       0.86      0.87      0.87      1520\n",
      "\n",
      "    accuracy                           0.90     20165\n",
      "   macro avg       0.72      0.73      0.72     20165\n",
      "weighted avg       0.90      0.90      0.90     20165\n",
      "\n"
     ]
    }
   ],
   "source": [
    "# printing the classification report\n",
    "from sklearn.metrics import classification_report\n",
    "clf_report = (classification_report(y_test, y_pred_dtc))\n",
    "print(clf_report)"
   ]
  },
  {
   "cell_type": "code",
   "execution_count": 44,
   "id": "76a37fd0",
   "metadata": {},
   "outputs": [
    {
     "name": "stdout",
     "output_type": "stream",
     "text": [
      "Feature: 0, Score: 0.16912\n",
      "Feature: 1, Score: 0.04172\n",
      "Feature: 2, Score: 0.05461\n",
      "Feature: 3, Score: 0.05165\n",
      "Feature: 4, Score: 0.00000\n",
      "Feature: 5, Score: 0.12289\n",
      "Feature: 6, Score: 0.07588\n",
      "Feature: 7, Score: 0.13309\n",
      "Feature: 8, Score: 0.00000\n",
      "Feature: 9, Score: 0.07592\n",
      "Feature: 10, Score: 0.01316\n",
      "Feature: 11, Score: 0.00010\n",
      "Feature: 12, Score: 0.14817\n",
      "Feature: 13, Score: 0.06009\n",
      "Feature: 14, Score: 0.05359\n"
     ]
    },
    {
     "data": {
      "image/png": "[encoded data removed]",
      "text/plain": [
       "<Figure size 432x288 with 1 Axes>"
      ]
     },
     "metadata": {
      "needs_background": "light"
     },
     "output_type": "display_data"
    }
   ],
   "source": [
    "# get importance\n",
    "importance = clf_model.feature_importances_\n",
    "# summarize feature importance\n",
    "for i,v in enumerate(importance):\n",
    "    print('Feature: %0d, Score: %.5f' % (i,v))\n",
    "# plot feature importance\n",
    "plt.bar([x for x in range(len(importance))], importance)\n",
    "plt.show()"
   ]
  },
  {
   "cell_type": "code",
   "execution_count": 45,
   "id": "ee255376",
   "metadata": {},
   "outputs": [
    {
     "name": "stdout",
     "output_type": "stream",
     "text": [
      "<class 'pandas.core.frame.DataFrame'>\n",
      "RangeIndex: 80657 entries, 0 to 80656\n",
      "Data columns (total 15 columns):\n",
      " #   Column     Non-Null Count  Dtype  \n",
      "---  ------     --------------  -----  \n",
      " 0   year       80657 non-null  object \n",
      " 1   month      80657 non-null  object \n",
      " 2   dewptm     80657 non-null  float64\n",
      " 3   fog        80657 non-null  int64  \n",
      " 4   hail       80657 non-null  int64  \n",
      " 5   hum        80657 non-null  float64\n",
      " 6   pressurem  80657 non-null  float64\n",
      " 7   rain       80657 non-null  int64  \n",
      " 8   snow       80657 non-null  int64  \n",
      " 9   tempm      80657 non-null  float64\n",
      " 10  thunder    80657 non-null  int64  \n",
      " 11  tornado    80657 non-null  int64  \n",
      " 12  vism       80657 non-null  float64\n",
      " 13  wdird      80657 non-null  float64\n",
      " 14  wspdm      80657 non-null  float64\n",
      "dtypes: float64(7), int64(6), object(2)\n",
      "memory usage: 9.2+ MB\n"
     ]
    }
   ],
   "source": [
    "X.info()"
   ]
  },
  {
   "cell_type": "markdown",
   "id": "785da39e",
   "metadata": {},
   "source": [
    "# RandomForestClassifier"
   ]
  },
  {
   "cell_type": "code",
   "execution_count": 46,
   "id": "272f2fc1",
   "metadata": {},
   "outputs": [],
   "source": [
    "from sklearn.preprocessing import StandardScaler\n",
    "scaler = StandardScaler().fit(X_train)\n",
    "X_train_scaled = scaler.transform(X_train)\n",
    "X_test_scaled = scaler.transform(X_test)"
   ]
  },
  {
   "cell_type": "code",
   "execution_count": 47,
   "id": "8736ed0b",
   "metadata": {},
   "outputs": [
    {
     "name": "stdout",
     "output_type": "stream",
     "text": [
      "Training Score: 0.9991073199761952\n",
      "Testing Score: 0.9342920902553931\n"
     ]
    }
   ],
   "source": [
    "from sklearn.ensemble import RandomForestClassifier\n",
    "clf = RandomForestClassifier(random_state=1, n_estimators=500).fit(X_train_scaled, y_train)\n",
    "print(f'Training Score: {clf.score(X_train_scaled, y_train)}')\n",
    "print(f'Testing Score: {clf.score(X_test_scaled, y_test)}')\n",
    "\n",
    "rfc_train_score = clf.score(X_train_scaled, y_train)\n",
    "rfc_test_score = clf.score(X_test_scaled, y_test)"
   ]
  },
  {
   "cell_type": "code",
   "execution_count": 48,
   "id": "217d42ad",
   "metadata": {},
   "outputs": [
    {
     "data": {
      "text/plain": [
       "array(['Haze', 'Haze', 'Haze', ..., 'Haze', 'Haze', 'Haze'], dtype=object)"
      ]
     },
     "execution_count": 48,
     "metadata": {},
     "output_type": "execute_result"
    }
   ],
   "source": [
    "y_pred_rfc = clf.predict(X_test_scaled)\n",
    "y_pred_rfc"
   ]
  },
  {
   "cell_type": "code",
   "execution_count": 49,
   "id": "0f231a7a",
   "metadata": {},
   "outputs": [
    {
     "data": {
      "text/plain": [
       "<sklearn.metrics._plot.confusion_matrix.ConfusionMatrixDisplay at 0x21faab1a288>"
      ]
     },
     "execution_count": 49,
     "metadata": {},
     "output_type": "execute_result"
    },
    {
     "data": {
      "image/png": "[encoded data removed]",
      "text/plain": [
       "<Figure size 432x288 with 2 Axes>"
      ]
     },
     "metadata": {
      "needs_background": "light"
     },
     "output_type": "display_data"
    }
   ],
   "source": [
    "# Displaying the confusion_matrix\n",
    "from sklearn.metrics import confusion_matrix, ConfusionMatrixDisplay\n",
    "cm = confusion_matrix(y_test, y_pred_rfc, labels=clf.classes_)\n",
    "disp = ConfusionMatrixDisplay(confusion_matrix=cm, display_labels=clf.classes_)\n",
    "disp.plot()"
   ]
  },
  {
   "cell_type": "code",
   "execution_count": 108,
   "id": "09c0f387",
   "metadata": {},
   "outputs": [],
   "source": [
    "# Calulating metrics\n",
    "from sklearn.metrics import accuracy_score, precision_score, recall_score\n",
    "rfc_accuracy = balanced_accuracy_score(y_test, y_pred_rfc)\n",
    "rfc_precision = precision_score(y_test, y_pred_rfc, average='weighted')\n",
    "rfc_recall = recall_score(y_test, y_pred_rfc, average='weighted')"
   ]
  },
  {
   "cell_type": "code",
   "execution_count": 51,
   "id": "417b06c9",
   "metadata": {},
   "outputs": [
    {
     "name": "stdout",
     "output_type": "stream",
     "text": [
      "              precision    recall  f1-score   support\n",
      "\n",
      "       Clear       0.74      0.52      0.61       735\n",
      "      Cloudy       0.79      0.59      0.68      1502\n",
      "        Haze       0.95      0.99      0.97     16408\n",
      "        Rain       0.93      0.90      0.92      1520\n",
      "\n",
      "    accuracy                           0.93     20165\n",
      "   macro avg       0.85      0.75      0.79     20165\n",
      "weighted avg       0.93      0.93      0.93     20165\n",
      "\n"
     ]
    }
   ],
   "source": [
    "from sklearn.metrics import classification_report\n",
    "clf_report = (classification_report(y_test, y_pred_rfc))\n",
    "print(clf_report)"
   ]
  },
  {
   "cell_type": "code",
   "execution_count": 52,
   "id": "1052015e",
   "metadata": {},
   "outputs": [
    {
     "name": "stdout",
     "output_type": "stream",
     "text": [
      "Feature: 0, Score: 0.12410\n",
      "Feature: 1, Score: 0.04564\n",
      "Feature: 2, Score: 0.06668\n",
      "Feature: 3, Score: 0.02590\n",
      "Feature: 4, Score: 0.00005\n",
      "Feature: 5, Score: 0.17251\n",
      "Feature: 6, Score: 0.07409\n",
      "Feature: 7, Score: 0.09472\n",
      "Feature: 8, Score: 0.00000\n",
      "Feature: 9, Score: 0.08457\n",
      "Feature: 10, Score: 0.02587\n",
      "Feature: 11, Score: 0.00006\n",
      "Feature: 12, Score: 0.16643\n",
      "Feature: 13, Score: 0.06499\n",
      "Feature: 14, Score: 0.05440\n"
     ]
    },
    {
     "data": {
      "image/png": "[encoded data removed]",
      "text/plain": [
       "<Figure size 432x288 with 1 Axes>"
      ]
     },
     "metadata": {
      "needs_background": "light"
     },
     "output_type": "display_data"
    }
   ],
   "source": [
    "# get importance\n",
    "importance = clf.feature_importances_\n",
    "# summarize feature importance\n",
    "for i,v in enumerate(importance):\n",
    "\tprint('Feature: %0d, Score: %.5f' % (i,v))\n",
    "# plot feature importance\n",
    "plt.bar([x for x in range(len(importance))], importance)\n",
    "plt.show()"
   ]
  },
  {
   "cell_type": "code",
   "execution_count": 53,
   "id": "9915dd05",
   "metadata": {},
   "outputs": [
    {
     "name": "stdout",
     "output_type": "stream",
     "text": [
      "<class 'pandas.core.frame.DataFrame'>\n",
      "RangeIndex: 80657 entries, 0 to 80656\n",
      "Data columns (total 15 columns):\n",
      " #   Column     Non-Null Count  Dtype  \n",
      "---  ------     --------------  -----  \n",
      " 0   year       80657 non-null  object \n",
      " 1   month      80657 non-null  object \n",
      " 2   dewptm     80657 non-null  float64\n",
      " 3   fog        80657 non-null  int64  \n",
      " 4   hail       80657 non-null  int64  \n",
      " 5   hum        80657 non-null  float64\n",
      " 6   pressurem  80657 non-null  float64\n",
      " 7   rain       80657 non-null  int64  \n",
      " 8   snow       80657 non-null  int64  \n",
      " 9   tempm      80657 non-null  float64\n",
      " 10  thunder    80657 non-null  int64  \n",
      " 11  tornado    80657 non-null  int64  \n",
      " 12  vism       80657 non-null  float64\n",
      " 13  wdird      80657 non-null  float64\n",
      " 14  wspdm      80657 non-null  float64\n",
      "dtypes: float64(7), int64(6), object(2)\n",
      "memory usage: 9.2+ MB\n"
     ]
    }
   ],
   "source": [
    "X.info()"
   ]
  },
  {
   "cell_type": "markdown",
   "id": "1562637d",
   "metadata": {},
   "source": [
    "# RandomOverSampler - Logistic Regression"
   ]
  },
  {
   "cell_type": "code",
   "execution_count": 54,
   "id": "6cd4663d",
   "metadata": {},
   "outputs": [
    {
     "data": {
      "text/plain": [
       "Counter({'Clear': 49517, 'Haze': 49517, 'Cloudy': 49517, 'Rain': 49517})"
      ]
     },
     "execution_count": 54,
     "metadata": {},
     "output_type": "execute_result"
    }
   ],
   "source": [
    "# Resample the training data with the RandomOversampler\n",
    "from imblearn.over_sampling import RandomOverSampler\n",
    "from sklearn.preprocessing import StandardScaler\n",
    "from collections import Counter\n",
    "ros = RandomOverSampler(random_state=1)\n",
    "X_resampled, y_resampled = ros.fit_resample(X_train, y_train)\n",
    "\n",
    "Counter(y_resampled)"
   ]
  },
  {
   "cell_type": "code",
   "execution_count": 55,
   "id": "3b803dae",
   "metadata": {},
   "outputs": [
    {
     "name": "stdout",
     "output_type": "stream",
     "text": [
      "Training Score: 0.6447836096694065\n",
      "Testing Score: 0.6595090503347384\n"
     ]
    }
   ],
   "source": [
    "# Train the Logistic Regression model using the resampled data\n",
    "from sklearn.linear_model import LogisticRegression\n",
    "ros_lr_model = LogisticRegression(solver='newton-cg', random_state=1)\n",
    "ros_lr_model.fit(X_resampled, y_resampled)\n",
    "print(f'Training Score: {ros_lr_model.score(X_resampled, y_resampled)}')\n",
    "print(f'Testing Score: {ros_lr_model.score(X_test, y_test)}')\n",
    "\n",
    "ros_lr_train_score = ros_lr_model.score(X_resampled, y_resampled)\n",
    "ros_lr_test_score = ros_lr_model.score(X_test, y_test)"
   ]
  },
  {
   "cell_type": "code",
   "execution_count": 56,
   "id": "eb334545",
   "metadata": {},
   "outputs": [
    {
     "data": {
      "text/plain": [
       "array(['Clear', 'Haze', 'Haze', ..., 'Haze', 'Haze', 'Haze'], dtype=object)"
      ]
     },
     "execution_count": 56,
     "metadata": {},
     "output_type": "execute_result"
    }
   ],
   "source": [
    "y_pred_ros_lr = ros_lr_model.predict(X_test)\n",
    "y_pred_ros_lr"
   ]
  },
  {
   "cell_type": "code",
   "execution_count": 57,
   "id": "a65081f5",
   "metadata": {},
   "outputs": [
    {
     "data": {
      "text/plain": [
       "<sklearn.metrics._plot.confusion_matrix.ConfusionMatrixDisplay at 0x21faa807588>"
      ]
     },
     "execution_count": 57,
     "metadata": {},
     "output_type": "execute_result"
    },
    {
     "data": {
      "image/png": "[encoded data removed]",
      "text/plain": [
       "<Figure size 432x288 with 2 Axes>"
      ]
     },
     "metadata": {
      "needs_background": "light"
     },
     "output_type": "display_data"
    }
   ],
   "source": [
    "# Displaying the confusion_matrix\n",
    "from sklearn.metrics import confusion_matrix, ConfusionMatrixDisplay\n",
    "cm = confusion_matrix(y_test, y_pred_ros_lr, labels=ros_lr_model.classes_)\n",
    "disp = ConfusionMatrixDisplay(confusion_matrix=cm, display_labels=ros_lr_model.classes_)\n",
    "disp.plot()"
   ]
  },
  {
   "cell_type": "code",
   "execution_count": 109,
   "id": "4b0eede3",
   "metadata": {},
   "outputs": [],
   "source": [
    "# Calulating metrics\n",
    "from sklearn.metrics import accuracy_score, precision_score, recall_score\n",
    "ros_lr_accuracy = balanced_accuracy_score(y_test, y_pred_ros_lr)\n",
    "ros_lr_precision = precision_score(y_test, y_pred_ros_lr, average='weighted')\n",
    "ros_lr_recall = recall_score(y_test, y_pred_ros_lr, average='weighted')"
   ]
  },
  {
   "cell_type": "code",
   "execution_count": 59,
   "id": "ccf89d0f",
   "metadata": {},
   "outputs": [
    {
     "name": "stdout",
     "output_type": "stream",
     "text": [
      "              precision    recall  f1-score   support\n",
      "\n",
      "       Clear       0.15      0.60      0.23       735\n",
      "      Cloudy       0.19      0.43      0.26      1502\n",
      "        Haze       0.95      0.66      0.78     16408\n",
      "        Rain       0.56      0.87      0.68      1520\n",
      "\n",
      "    accuracy                           0.66     20165\n",
      "   macro avg       0.46      0.64      0.49     20165\n",
      "weighted avg       0.84      0.66      0.72     20165\n",
      "\n"
     ]
    }
   ],
   "source": [
    "# printing the classification report\n",
    "from sklearn.metrics import classification_report\n",
    "clf_report = (classification_report(y_test, y_pred_ros_lr))\n",
    "print(clf_report)"
   ]
  },
  {
   "cell_type": "code",
   "execution_count": 60,
   "id": "c16671b3",
   "metadata": {},
   "outputs": [
    {
     "name": "stdout",
     "output_type": "stream",
     "text": [
      "Feature: 0, Score: -0.00598\n",
      "Feature: 1, Score: -0.03558\n",
      "Feature: 2, Score: -0.71976\n",
      "Feature: 3, Score: -1.91621\n",
      "Feature: 4, Score: -0.11585\n",
      "Feature: 5, Score: 0.14188\n",
      "Feature: 6, Score: -0.00000\n",
      "Feature: 7, Score: -2.37479\n",
      "Feature: 8, Score: 0.00000\n",
      "Feature: 9, Score: 0.62323\n",
      "Feature: 10, Score: -2.13628\n",
      "Feature: 11, Score: -0.03666\n",
      "Feature: 12, Score: 0.05930\n",
      "Feature: 13, Score: -0.00165\n",
      "Feature: 14, Score: 0.00233\n"
     ]
    },
    {
     "data": {
      "image/png": "[encoded data removed]",
      "text/plain": [
       "<Figure size 432x288 with 1 Axes>"
      ]
     },
     "metadata": {
      "needs_background": "light"
     },
     "output_type": "display_data"
    }
   ],
   "source": [
    "# get importance\n",
    "importance = ros_lr_model.coef_[0]\n",
    "# summarize feature importance\n",
    "for i,v in enumerate(importance):\n",
    "\tprint('Feature: %0d, Score: %.5f' % (i,v))\n",
    "# plot feature importance\n",
    "plt.bar([x for x in range(len(importance))], importance)\n",
    "plt.show()"
   ]
  },
  {
   "cell_type": "code",
   "execution_count": 61,
   "id": "02c5aa87",
   "metadata": {},
   "outputs": [
    {
     "name": "stdout",
     "output_type": "stream",
     "text": [
      "<class 'pandas.core.frame.DataFrame'>\n",
      "RangeIndex: 80657 entries, 0 to 80656\n",
      "Data columns (total 15 columns):\n",
      " #   Column     Non-Null Count  Dtype  \n",
      "---  ------     --------------  -----  \n",
      " 0   year       80657 non-null  object \n",
      " 1   month      80657 non-null  object \n",
      " 2   dewptm     80657 non-null  float64\n",
      " 3   fog        80657 non-null  int64  \n",
      " 4   hail       80657 non-null  int64  \n",
      " 5   hum        80657 non-null  float64\n",
      " 6   pressurem  80657 non-null  float64\n",
      " 7   rain       80657 non-null  int64  \n",
      " 8   snow       80657 non-null  int64  \n",
      " 9   tempm      80657 non-null  float64\n",
      " 10  thunder    80657 non-null  int64  \n",
      " 11  tornado    80657 non-null  int64  \n",
      " 12  vism       80657 non-null  float64\n",
      " 13  wdird      80657 non-null  float64\n",
      " 14  wspdm      80657 non-null  float64\n",
      "dtypes: float64(7), int64(6), object(2)\n",
      "memory usage: 9.2+ MB\n"
     ]
    }
   ],
   "source": [
    "X.info()"
   ]
  },
  {
   "cell_type": "markdown",
   "id": "3d4983eb",
   "metadata": {},
   "source": [
    "# RandomOverSampler - DecisionTreeClassifier"
   ]
  },
  {
   "cell_type": "code",
   "execution_count": 62,
   "id": "1069e6db",
   "metadata": {},
   "outputs": [
    {
     "name": "stdout",
     "output_type": "stream",
     "text": [
      "Training Score: 0.9990811236545025\n",
      "Testing Score: 0.9019092486982395\n"
     ]
    }
   ],
   "source": [
    "from sklearn.tree import DecisionTreeClassifier\n",
    "ros_clf_model = DecisionTreeClassifier()\n",
    "ros_clf_model = ros_clf_model.fit(X_resampled, y_resampled)\n",
    "print(f'Training Score: {ros_clf_model.score(X_resampled, y_resampled)}')\n",
    "print(f'Testing Score: {ros_clf_model.score(X_test, y_test)}')\n",
    "\n",
    "ros_dtc_train_score = ros_clf_model.score(X_resampled, y_resampled)\n",
    "ros_dtc_test_score = ros_clf_model.score(X_test, y_test)"
   ]
  },
  {
   "cell_type": "code",
   "execution_count": 63,
   "id": "48704072",
   "metadata": {},
   "outputs": [
    {
     "data": {
      "text/plain": [
       "array(['Clear', 'Haze', 'Haze', ..., 'Haze', 'Haze', 'Haze'], dtype=object)"
      ]
     },
     "execution_count": 63,
     "metadata": {},
     "output_type": "execute_result"
    }
   ],
   "source": [
    "y_pred_ros_dtc = ros_clf_model.predict(X_test)\n",
    "y_pred_ros_dtc"
   ]
  },
  {
   "cell_type": "code",
   "execution_count": 64,
   "id": "e27da124",
   "metadata": {},
   "outputs": [
    {
     "data": {
      "text/plain": [
       "<sklearn.metrics._plot.confusion_matrix.ConfusionMatrixDisplay at 0x21fa93067c8>"
      ]
     },
     "execution_count": 64,
     "metadata": {},
     "output_type": "execute_result"
    },
    {
     "data": {
      "image/png": "[encoded data removed]",
      "text/plain": [
       "<Figure size 432x288 with 2 Axes>"
      ]
     },
     "metadata": {
      "needs_background": "light"
     },
     "output_type": "display_data"
    }
   ],
   "source": [
    "# Displaying the confusion_matrix\n",
    "from sklearn.metrics import confusion_matrix, ConfusionMatrixDisplay\n",
    "cm = confusion_matrix(y_test, y_pred_ros_dtc, labels=ros_clf_model.classes_)\n",
    "disp = ConfusionMatrixDisplay(confusion_matrix=cm, display_labels=ros_clf_model.classes_)\n",
    "disp.plot()"
   ]
  },
  {
   "cell_type": "code",
   "execution_count": 110,
   "id": "63b82056",
   "metadata": {},
   "outputs": [],
   "source": [
    "# Calulating metrics\n",
    "from sklearn.metrics import accuracy_score, precision_score, recall_score\n",
    "ros_dtc_accuracy = balanced_accuracy_score(y_test, y_pred_ros_dtc)\n",
    "ros_dtc_precision = precision_score(y_test, y_pred_ros_dtc, average='weighted')\n",
    "ros_dtc_recall = recall_score(y_test, y_pred_ros_dtc, average='weighted')"
   ]
  },
  {
   "cell_type": "code",
   "execution_count": 66,
   "id": "8dfcc250",
   "metadata": {},
   "outputs": [
    {
     "name": "stdout",
     "output_type": "stream",
     "text": [
      "              precision    recall  f1-score   support\n",
      "\n",
      "       Clear       0.52      0.51      0.52       735\n",
      "      Cloudy       0.58      0.58      0.58      1502\n",
      "        Haze       0.95      0.95      0.95     16408\n",
      "        Rain       0.86      0.85      0.86      1520\n",
      "\n",
      "    accuracy                           0.90     20165\n",
      "   macro avg       0.73      0.73      0.73     20165\n",
      "weighted avg       0.90      0.90      0.90     20165\n",
      "\n"
     ]
    }
   ],
   "source": [
    "# printing the classification report\n",
    "from sklearn.metrics import classification_report\n",
    "clf_report = (classification_report(y_test, y_pred_ros_dtc))\n",
    "print(clf_report)"
   ]
  },
  {
   "cell_type": "code",
   "execution_count": 67,
   "id": "7ed53cd4",
   "metadata": {},
   "outputs": [
    {
     "name": "stdout",
     "output_type": "stream",
     "text": [
      "Feature: 0, Score: 0.18736\n",
      "Feature: 1, Score: 0.06351\n",
      "Feature: 2, Score: 0.07298\n",
      "Feature: 3, Score: 0.02636\n",
      "Feature: 4, Score: 0.00000\n",
      "Feature: 5, Score: 0.16710\n",
      "Feature: 6, Score: 0.06995\n",
      "Feature: 7, Score: 0.09245\n",
      "Feature: 8, Score: 0.00000\n",
      "Feature: 9, Score: 0.05864\n",
      "Feature: 10, Score: 0.01431\n",
      "Feature: 11, Score: 0.00017\n",
      "Feature: 12, Score: 0.12745\n",
      "Feature: 13, Score: 0.06279\n",
      "Feature: 14, Score: 0.05694\n"
     ]
    },
    {
     "data": {
      "image/png": "[encoded data removed]",
      "text/plain": [
       "<Figure size 432x288 with 1 Axes>"
      ]
     },
     "metadata": {
      "needs_background": "light"
     },
     "output_type": "display_data"
    }
   ],
   "source": [
    "# get importance\n",
    "importance = ros_clf_model.feature_importances_\n",
    "# summarize feature importance\n",
    "for i,v in enumerate(importance):\n",
    "    print('Feature: %0d, Score: %.5f' % (i,v))\n",
    "# plot feature importance\n",
    "plt.bar([x for x in range(len(importance))], importance)\n",
    "plt.show()"
   ]
  },
  {
   "cell_type": "code",
   "execution_count": 68,
   "id": "ece7d8f4",
   "metadata": {},
   "outputs": [
    {
     "name": "stdout",
     "output_type": "stream",
     "text": [
      "<class 'pandas.core.frame.DataFrame'>\n",
      "RangeIndex: 80657 entries, 0 to 80656\n",
      "Data columns (total 15 columns):\n",
      " #   Column     Non-Null Count  Dtype  \n",
      "---  ------     --------------  -----  \n",
      " 0   year       80657 non-null  object \n",
      " 1   month      80657 non-null  object \n",
      " 2   dewptm     80657 non-null  float64\n",
      " 3   fog        80657 non-null  int64  \n",
      " 4   hail       80657 non-null  int64  \n",
      " 5   hum        80657 non-null  float64\n",
      " 6   pressurem  80657 non-null  float64\n",
      " 7   rain       80657 non-null  int64  \n",
      " 8   snow       80657 non-null  int64  \n",
      " 9   tempm      80657 non-null  float64\n",
      " 10  thunder    80657 non-null  int64  \n",
      " 11  tornado    80657 non-null  int64  \n",
      " 12  vism       80657 non-null  float64\n",
      " 13  wdird      80657 non-null  float64\n",
      " 14  wspdm      80657 non-null  float64\n",
      "dtypes: float64(7), int64(6), object(2)\n",
      "memory usage: 9.2+ MB\n"
     ]
    }
   ],
   "source": [
    "X.info()"
   ]
  },
  {
   "cell_type": "markdown",
   "id": "a12d576b",
   "metadata": {},
   "source": [
    "# RandomOverSample - RandomForestClassifier"
   ]
  },
  {
   "cell_type": "code",
   "execution_count": 69,
   "id": "7be5c81a",
   "metadata": {},
   "outputs": [
    {
     "data": {
      "text/plain": [
       "Counter({'Clear': 49517, 'Haze': 49517, 'Cloudy': 49517, 'Rain': 49517})"
      ]
     },
     "execution_count": 69,
     "metadata": {},
     "output_type": "execute_result"
    }
   ],
   "source": [
    "# Resampling scaled data\n",
    "X_resampled, y_resampled = ros.fit_resample(X_train_scaled, y_train)\n",
    "\n",
    "Counter(y_resampled)"
   ]
  },
  {
   "cell_type": "code",
   "execution_count": 70,
   "id": "d86cdfac",
   "metadata": {
    "scrolled": true
   },
   "outputs": [
    {
     "name": "stdout",
     "output_type": "stream",
     "text": [
      "Training Score: 0.9990811236545025\n",
      "Testing Score: 0.9351847260104141\n"
     ]
    }
   ],
   "source": [
    "ros_clf = RandomForestClassifier(random_state=1, n_estimators=500).fit(X_resampled, y_resampled)\n",
    "print(f'Training Score: {ros_clf.score(X_resampled, y_resampled)}')\n",
    "print(f'Testing Score: {ros_clf.score(X_test_scaled, y_test)}')\n",
    "\n",
    "ros_rfc_train_score = ros_clf.score(X_resampled, y_resampled)\n",
    "ros_rfc_test_score = ros_clf.score(X_test_scaled, y_test)"
   ]
  },
  {
   "cell_type": "code",
   "execution_count": 71,
   "id": "5c78cb68",
   "metadata": {},
   "outputs": [
    {
     "data": {
      "text/plain": [
       "array(['Haze', 'Haze', 'Haze', ..., 'Haze', 'Haze', 'Haze'], dtype=object)"
      ]
     },
     "execution_count": 71,
     "metadata": {},
     "output_type": "execute_result"
    }
   ],
   "source": [
    "y_pred_ros_rfc = ros_clf.predict(X_test_scaled)\n",
    "y_pred_ros_rfc"
   ]
  },
  {
   "cell_type": "code",
   "execution_count": 72,
   "id": "90fc1315",
   "metadata": {},
   "outputs": [
    {
     "data": {
      "text/plain": [
       "<sklearn.metrics._plot.confusion_matrix.ConfusionMatrixDisplay at 0x21fa88d6488>"
      ]
     },
     "execution_count": 72,
     "metadata": {},
     "output_type": "execute_result"
    },
    {
     "data": {
      "image/png": "[encoded data removed]",
      "text/plain": [
       "<Figure size 432x288 with 2 Axes>"
      ]
     },
     "metadata": {
      "needs_background": "light"
     },
     "output_type": "display_data"
    }
   ],
   "source": [
    "# Displaying the confusion_matrix\n",
    "from sklearn.metrics import confusion_matrix, ConfusionMatrixDisplay\n",
    "cm = confusion_matrix(y_test, y_pred_ros_rfc, labels=ros_clf.classes_)\n",
    "disp = ConfusionMatrixDisplay(confusion_matrix=cm, display_labels=ros_clf.classes_)\n",
    "disp.plot()"
   ]
  },
  {
   "cell_type": "code",
   "execution_count": 111,
   "id": "7b7627f0",
   "metadata": {},
   "outputs": [],
   "source": [
    "# Calulating metrics\n",
    "from sklearn.metrics import accuracy_score, precision_score, recall_score\n",
    "ros_rfc_accuracy = balanced_accuracy_score(y_test, y_pred_ros_rfc)\n",
    "ros_rfc_precision = precision_score(y_test, y_pred_ros_rfc, average='weighted')\n",
    "ros_rfc_recall = recall_score(y_test, y_pred_ros_rfc, average='weighted')"
   ]
  },
  {
   "cell_type": "code",
   "execution_count": 74,
   "id": "cc60b235",
   "metadata": {},
   "outputs": [
    {
     "name": "stdout",
     "output_type": "stream",
     "text": [
      "              precision    recall  f1-score   support\n",
      "\n",
      "       Clear       0.72      0.59      0.65       735\n",
      "      Cloudy       0.74      0.66      0.70      1502\n",
      "        Haze       0.96      0.98      0.97     16408\n",
      "        Rain       0.90      0.92      0.91      1520\n",
      "\n",
      "    accuracy                           0.94     20165\n",
      "   macro avg       0.83      0.78      0.81     20165\n",
      "weighted avg       0.93      0.94      0.93     20165\n",
      "\n"
     ]
    }
   ],
   "source": [
    "from sklearn.metrics import classification_report\n",
    "clf_report = (classification_report(y_test, y_pred_ros_rfc))\n",
    "print(clf_report)"
   ]
  },
  {
   "cell_type": "code",
   "execution_count": 75,
   "id": "62bb945a",
   "metadata": {},
   "outputs": [
    {
     "name": "stdout",
     "output_type": "stream",
     "text": [
      "Feature: 0, Score: 0.16685\n",
      "Feature: 1, Score: 0.06194\n",
      "Feature: 2, Score: 0.08031\n",
      "Feature: 3, Score: 0.01716\n",
      "Feature: 4, Score: 0.00006\n",
      "Feature: 5, Score: 0.15455\n",
      "Feature: 6, Score: 0.08222\n",
      "Feature: 7, Score: 0.07284\n",
      "Feature: 8, Score: 0.00000\n",
      "Feature: 9, Score: 0.08951\n",
      "Feature: 10, Score: 0.01781\n",
      "Feature: 11, Score: 0.00012\n",
      "Feature: 12, Score: 0.12789\n",
      "Feature: 13, Score: 0.06792\n",
      "Feature: 14, Score: 0.06081\n"
     ]
    },
    {
     "data": {
      "image/png": "[encoded data removed]",
      "text/plain": [
       "<Figure size 432x288 with 1 Axes>"
      ]
     },
     "metadata": {
      "needs_background": "light"
     },
     "output_type": "display_data"
    }
   ],
   "source": [
    "# get importance\n",
    "importance = ros_clf.feature_importances_\n",
    "# summarize feature importance\n",
    "for i,v in enumerate(importance):\n",
    "\tprint('Feature: %0d, Score: %.5f' % (i,v))\n",
    "# plot feature importance\n",
    "plt.bar([x for x in range(len(importance))], importance)\n",
    "plt.show()"
   ]
  },
  {
   "cell_type": "code",
   "execution_count": 76,
   "id": "33b92115",
   "metadata": {},
   "outputs": [
    {
     "name": "stdout",
     "output_type": "stream",
     "text": [
      "<class 'pandas.core.frame.DataFrame'>\n",
      "RangeIndex: 80657 entries, 0 to 80656\n",
      "Data columns (total 15 columns):\n",
      " #   Column     Non-Null Count  Dtype  \n",
      "---  ------     --------------  -----  \n",
      " 0   year       80657 non-null  object \n",
      " 1   month      80657 non-null  object \n",
      " 2   dewptm     80657 non-null  float64\n",
      " 3   fog        80657 non-null  int64  \n",
      " 4   hail       80657 non-null  int64  \n",
      " 5   hum        80657 non-null  float64\n",
      " 6   pressurem  80657 non-null  float64\n",
      " 7   rain       80657 non-null  int64  \n",
      " 8   snow       80657 non-null  int64  \n",
      " 9   tempm      80657 non-null  float64\n",
      " 10  thunder    80657 non-null  int64  \n",
      " 11  tornado    80657 non-null  int64  \n",
      " 12  vism       80657 non-null  float64\n",
      " 13  wdird      80657 non-null  float64\n",
      " 14  wspdm      80657 non-null  float64\n",
      "dtypes: float64(7), int64(6), object(2)\n",
      "memory usage: 9.2+ MB\n"
     ]
    }
   ],
   "source": [
    "X.info()"
   ]
  },
  {
   "cell_type": "markdown",
   "id": "ef0531ba",
   "metadata": {},
   "source": [
    "# RandomUnderSampler - Logistic Regression"
   ]
  },
  {
   "cell_type": "code",
   "execution_count": 77,
   "id": "8360a448",
   "metadata": {},
   "outputs": [
    {
     "data": {
      "text/plain": [
       "Counter({'Clear': 2143, 'Cloudy': 2143, 'Haze': 2143, 'Rain': 2143})"
      ]
     },
     "execution_count": 77,
     "metadata": {},
     "output_type": "execute_result"
    }
   ],
   "source": [
    "from imblearn.under_sampling import RandomUnderSampler\n",
    "rus = RandomUnderSampler(random_state=1)\n",
    "X_resampled, y_resampled = rus.fit_resample(X_train, y_train)\n",
    "Counter(y_resampled)"
   ]
  },
  {
   "cell_type": "code",
   "execution_count": 78,
   "id": "a3ceb51f",
   "metadata": {},
   "outputs": [
    {
     "name": "stdout",
     "output_type": "stream",
     "text": [
      "Training Score: 0.6560895940270649\n",
      "Testing Score: 0.6586660054549963\n"
     ]
    }
   ],
   "source": [
    "from sklearn.linear_model import LogisticRegression\n",
    "rus_model = LogisticRegression(solver='newton-cg', random_state=1, max_iter=150)\n",
    "rus_model.fit(X_resampled, y_resampled)\n",
    "print(f'Training Score: {rus_model.score(X_resampled, y_resampled)}')\n",
    "print(f'Testing Score: {rus_model.score(X_test, y_test)}')\n",
    "\n",
    "rus_lr_train_score = rus_model.score(X_resampled, y_resampled)\n",
    "rus_lr_test_score = rus_model.score(X_test, y_test)"
   ]
  },
  {
   "cell_type": "code",
   "execution_count": 79,
   "id": "ae2c9994",
   "metadata": {},
   "outputs": [
    {
     "data": {
      "text/plain": [
       "array(['Clear', 'Haze', 'Haze', ..., 'Haze', 'Haze', 'Haze'], dtype=object)"
      ]
     },
     "execution_count": 79,
     "metadata": {},
     "output_type": "execute_result"
    }
   ],
   "source": [
    "y_pred_rus_lr = rus_model.predict(X_test)\n",
    "y_pred_rus_lr"
   ]
  },
  {
   "cell_type": "code",
   "execution_count": 80,
   "id": "244e568c",
   "metadata": {},
   "outputs": [
    {
     "data": {
      "text/plain": [
       "<sklearn.metrics._plot.confusion_matrix.ConfusionMatrixDisplay at 0x21fa9c31148>"
      ]
     },
     "execution_count": 80,
     "metadata": {},
     "output_type": "execute_result"
    },
    {
     "data": {
      "image/png": "[encoded data removed]",
      "text/plain": [
       "<Figure size 432x288 with 2 Axes>"
      ]
     },
     "metadata": {
      "needs_background": "light"
     },
     "output_type": "display_data"
    }
   ],
   "source": [
    "# Displaying the confusion_matrix\n",
    "from sklearn.metrics import confusion_matrix, ConfusionMatrixDisplay\n",
    "cm = confusion_matrix(y_test, y_pred_rus_lr, labels=rus_model.classes_)\n",
    "disp = ConfusionMatrixDisplay(confusion_matrix=cm, display_labels=rus_model.classes_)\n",
    "disp.plot()"
   ]
  },
  {
   "cell_type": "code",
   "execution_count": 112,
   "id": "af1588ca",
   "metadata": {},
   "outputs": [],
   "source": [
    "# Calulating metrics\n",
    "from sklearn.metrics import accuracy_score, precision_score, recall_score\n",
    "rus_lr_accuracy = balanced_accuracy_score(y_test, y_pred_rus_lr)\n",
    "rus_lr_precision = precision_score(y_test, y_pred_rus_lr, average='weighted')\n",
    "rus_lr_recall = recall_score(y_test, y_pred_rus_lr, average='weighted')"
   ]
  },
  {
   "cell_type": "code",
   "execution_count": 82,
   "id": "4d6ae1ce",
   "metadata": {},
   "outputs": [
    {
     "name": "stdout",
     "output_type": "stream",
     "text": [
      "              precision    recall  f1-score   support\n",
      "\n",
      "       Clear       0.15      0.62      0.24       735\n",
      "      Cloudy       0.18      0.42      0.25      1502\n",
      "        Haze       0.96      0.66      0.78     16408\n",
      "        Rain       0.59      0.90      0.71      1520\n",
      "\n",
      "    accuracy                           0.66     20165\n",
      "   macro avg       0.47      0.65      0.50     20165\n",
      "weighted avg       0.84      0.66      0.72     20165\n",
      "\n"
     ]
    }
   ],
   "source": [
    "# printing the classification report\n",
    "from sklearn.metrics import classification_report\n",
    "clf_report = (classification_report(y_test, y_pred_rus_lr))\n",
    "print(clf_report)"
   ]
  },
  {
   "cell_type": "code",
   "execution_count": 83,
   "id": "f80fc623",
   "metadata": {},
   "outputs": [
    {
     "name": "stdout",
     "output_type": "stream",
     "text": [
      "Feature: 0, Score: -0.03553\n",
      "Feature: 1, Score: -0.04051\n",
      "Feature: 2, Score: -0.65395\n",
      "Feature: 3, Score: -1.57366\n",
      "Feature: 4, Score: -0.00204\n",
      "Feature: 5, Score: 0.12871\n",
      "Feature: 6, Score: -0.00005\n",
      "Feature: 7, Score: -2.69210\n",
      "Feature: 8, Score: 0.00000\n",
      "Feature: 9, Score: 0.56296\n",
      "Feature: 10, Score: -2.38327\n",
      "Feature: 11, Score: -0.24209\n",
      "Feature: 12, Score: 0.05264\n",
      "Feature: 13, Score: -0.00161\n",
      "Feature: 14, Score: 0.00078\n"
     ]
    },
    {
     "data": {
      "image/png": "[encoded data removed]",
      "text/plain": [
       "<Figure size 432x288 with 1 Axes>"
      ]
     },
     "metadata": {
      "needs_background": "light"
     },
     "output_type": "display_data"
    }
   ],
   "source": [
    "# get importance\n",
    "importance = rus_model.coef_[0]\n",
    "# summarize feature importance\n",
    "for i,v in enumerate(importance):\n",
    "\tprint('Feature: %0d, Score: %.5f' % (i,v))\n",
    "# plot feature importance\n",
    "plt.bar([x for x in range(len(importance))], importance)\n",
    "plt.show()"
   ]
  },
  {
   "cell_type": "markdown",
   "id": "13aa0dfb",
   "metadata": {},
   "source": [
    "# RandomUnderSampler - DecisionTreeClassifier"
   ]
  },
  {
   "cell_type": "code",
   "execution_count": 84,
   "id": "de5e5df4",
   "metadata": {},
   "outputs": [
    {
     "name": "stdout",
     "output_type": "stream",
     "text": [
      "Training Score: 0.999066728884741\n",
      "Testing Score: 0.7554178031242251\n"
     ]
    }
   ],
   "source": [
    "#Fitting Decision Tree model\n",
    "\n",
    "rus_clf_model = clf_model.fit(X_resampled, y_resampled)\n",
    "print(f'Training Score: {rus_clf_model.score(X_resampled, y_resampled)}')\n",
    "print(f'Testing Score: {rus_clf_model.score(X_test, y_test)}')\n",
    "\n",
    "rus_dtc_train_score = rus_clf_model.score(X_resampled, y_resampled)\n",
    "rus_dtc_test_score = rus_clf_model.score(X_test, y_test)"
   ]
  },
  {
   "cell_type": "code",
   "execution_count": 85,
   "id": "398e45c6",
   "metadata": {},
   "outputs": [
    {
     "data": {
      "text/plain": [
       "array(['Cloudy', 'Haze', 'Haze', ..., 'Haze', 'Haze', 'Haze'],\n",
       "      dtype=object)"
      ]
     },
     "execution_count": 85,
     "metadata": {},
     "output_type": "execute_result"
    }
   ],
   "source": [
    "y_pred_rus_dtc = rus_clf_model.predict(X_test)\n",
    "y_pred_rus_dtc"
   ]
  },
  {
   "cell_type": "code",
   "execution_count": 86,
   "id": "cef6953c",
   "metadata": {},
   "outputs": [
    {
     "data": {
      "text/plain": [
       "<sklearn.metrics._plot.confusion_matrix.ConfusionMatrixDisplay at 0x21fa841c2c8>"
      ]
     },
     "execution_count": 86,
     "metadata": {},
     "output_type": "execute_result"
    },
    {
     "data": {
      "image/png": "[encoded data removed]",
      "text/plain": [
       "<Figure size 432x288 with 2 Axes>"
      ]
     },
     "metadata": {
      "needs_background": "light"
     },
     "output_type": "display_data"
    }
   ],
   "source": [
    "# Displaying the confusion_matrix\n",
    "from sklearn.metrics import confusion_matrix, ConfusionMatrixDisplay\n",
    "cm = confusion_matrix(y_test, y_pred_rus_dtc, labels=rus_clf_model.classes_)\n",
    "disp = ConfusionMatrixDisplay(confusion_matrix=cm, display_labels=rus_clf_model.classes_)\n",
    "disp.plot()"
   ]
  },
  {
   "cell_type": "code",
   "execution_count": 113,
   "id": "f9cb18ed",
   "metadata": {},
   "outputs": [],
   "source": [
    "# Calulating metrics\n",
    "from sklearn.metrics import accuracy_score, precision_score, recall_score\n",
    "rus_dtc_accuracy = balanced_accuracy_score(y_test, y_pred_rus_dtc)\n",
    "rus_dtc_precision = precision_score(y_test, y_pred_rus_dtc, average='weighted')\n",
    "rus_dtc_recall = recall_score(y_test, y_pred_rus_dtc, average='weighted')"
   ]
  },
  {
   "cell_type": "code",
   "execution_count": 88,
   "id": "2e93a37a",
   "metadata": {},
   "outputs": [
    {
     "name": "stdout",
     "output_type": "stream",
     "text": [
      "              precision    recall  f1-score   support\n",
      "\n",
      "       Clear       0.24      0.71      0.36       735\n",
      "      Cloudy       0.30      0.64      0.41      1502\n",
      "        Haze       0.98      0.75      0.85     16408\n",
      "        Rain       0.65      0.90      0.75      1520\n",
      "\n",
      "    accuracy                           0.76     20165\n",
      "   macro avg       0.54      0.75      0.59     20165\n",
      "weighted avg       0.88      0.76      0.79     20165\n",
      "\n"
     ]
    }
   ],
   "source": [
    "from sklearn.metrics import classification_report\n",
    "clf_report = (classification_report(y_test, y_pred_rus_dtc))\n",
    "print(clf_report)"
   ]
  },
  {
   "cell_type": "code",
   "execution_count": 89,
   "id": "c0e0443b",
   "metadata": {},
   "outputs": [
    {
     "name": "stdout",
     "output_type": "stream",
     "text": [
      "Feature: 0, Score: 0.18112\n",
      "Feature: 1, Score: 0.07003\n",
      "Feature: 2, Score: 0.05314\n",
      "Feature: 3, Score: 0.02625\n",
      "Feature: 4, Score: 0.00000\n",
      "Feature: 5, Score: 0.18009\n",
      "Feature: 6, Score: 0.07445\n",
      "Feature: 7, Score: 0.08832\n",
      "Feature: 8, Score: 0.00000\n",
      "Feature: 9, Score: 0.06848\n",
      "Feature: 10, Score: 0.01177\n",
      "Feature: 11, Score: 0.00030\n",
      "Feature: 12, Score: 0.12258\n",
      "Feature: 13, Score: 0.06381\n",
      "Feature: 14, Score: 0.05966\n"
     ]
    },
    {
     "data": {
      "image/png": "[encoded data removed]",
      "text/plain": [
       "<Figure size 432x288 with 1 Axes>"
      ]
     },
     "metadata": {
      "needs_background": "light"
     },
     "output_type": "display_data"
    }
   ],
   "source": [
    "# get importance\n",
    "importance = rus_clf_model.feature_importances_\n",
    "# summarize feature importance\n",
    "for i,v in enumerate(importance):\n",
    "    print('Feature: %0d, Score: %.5f' % (i,v))\n",
    "# plot feature importance\n",
    "plt.bar([x for x in range(len(importance))], importance)\n",
    "plt.show()"
   ]
  },
  {
   "cell_type": "code",
   "execution_count": 90,
   "id": "d048ef6f",
   "metadata": {},
   "outputs": [
    {
     "name": "stdout",
     "output_type": "stream",
     "text": [
      "<class 'pandas.core.frame.DataFrame'>\n",
      "RangeIndex: 80657 entries, 0 to 80656\n",
      "Data columns (total 15 columns):\n",
      " #   Column     Non-Null Count  Dtype  \n",
      "---  ------     --------------  -----  \n",
      " 0   year       80657 non-null  object \n",
      " 1   month      80657 non-null  object \n",
      " 2   dewptm     80657 non-null  float64\n",
      " 3   fog        80657 non-null  int64  \n",
      " 4   hail       80657 non-null  int64  \n",
      " 5   hum        80657 non-null  float64\n",
      " 6   pressurem  80657 non-null  float64\n",
      " 7   rain       80657 non-null  int64  \n",
      " 8   snow       80657 non-null  int64  \n",
      " 9   tempm      80657 non-null  float64\n",
      " 10  thunder    80657 non-null  int64  \n",
      " 11  tornado    80657 non-null  int64  \n",
      " 12  vism       80657 non-null  float64\n",
      " 13  wdird      80657 non-null  float64\n",
      " 14  wspdm      80657 non-null  float64\n",
      "dtypes: float64(7), int64(6), object(2)\n",
      "memory usage: 9.2+ MB\n"
     ]
    }
   ],
   "source": [
    "X.info()"
   ]
  },
  {
   "cell_type": "markdown",
   "id": "ec4ec98a",
   "metadata": {},
   "source": [
    "# RandomUnderSampler - RandomForestClassifier"
   ]
  },
  {
   "cell_type": "code",
   "execution_count": 91,
   "id": "62af5ded",
   "metadata": {},
   "outputs": [
    {
     "data": {
      "text/plain": [
       "Counter({'Clear': 2143, 'Cloudy': 2143, 'Haze': 2143, 'Rain': 2143})"
      ]
     },
     "execution_count": 91,
     "metadata": {},
     "output_type": "execute_result"
    }
   ],
   "source": [
    "# Resampling scaled data\n",
    "X_resampled, y_resampled = rus.fit_resample(X_train_scaled, y_train)\n",
    "Counter(y_resampled)"
   ]
  },
  {
   "cell_type": "code",
   "execution_count": 92,
   "id": "f77c3f64",
   "metadata": {},
   "outputs": [
    {
     "name": "stdout",
     "output_type": "stream",
     "text": [
      "Training Score: 0.999066728884741\n",
      "Testing Score: 0.8418546987354327\n"
     ]
    }
   ],
   "source": [
    "from sklearn.ensemble import RandomForestClassifier\n",
    "rus_clf = RandomForestClassifier(random_state=1, n_estimators=500).fit(X_resampled, y_resampled)\n",
    "print(f'Training Score: {rus_clf.score(X_resampled, y_resampled)}')\n",
    "print(f'Testing Score: {rus_clf.score(X_test_scaled, y_test)}')\n",
    "\n",
    "rus_rfc_train_score = rus_clf.score(X_resampled, y_resampled)\n",
    "rus_rfc_test_score = rus_clf.score(X_test_scaled, y_test)"
   ]
  },
  {
   "cell_type": "code",
   "execution_count": 93,
   "id": "d3cf8f76",
   "metadata": {},
   "outputs": [
    {
     "data": {
      "text/plain": [
       "array(['Clear', 'Haze', 'Haze', ..., 'Haze', 'Haze', 'Haze'], dtype=object)"
      ]
     },
     "execution_count": 93,
     "metadata": {},
     "output_type": "execute_result"
    }
   ],
   "source": [
    "y_pred_rus_rfc = rus_clf.predict(X_test_scaled)\n",
    "y_pred_rus_rfc"
   ]
  },
  {
   "cell_type": "code",
   "execution_count": 94,
   "id": "1604444c",
   "metadata": {},
   "outputs": [
    {
     "data": {
      "text/plain": [
       "<sklearn.metrics._plot.confusion_matrix.ConfusionMatrixDisplay at 0x21faabcca08>"
      ]
     },
     "execution_count": 94,
     "metadata": {},
     "output_type": "execute_result"
    },
    {
     "data": {
      "image/png": "[encoded data removed]",
      "text/plain": [
       "<Figure size 432x288 with 2 Axes>"
      ]
     },
     "metadata": {
      "needs_background": "light"
     },
     "output_type": "display_data"
    }
   ],
   "source": [
    "# Displaying the confusion_matrix\n",
    "from sklearn.metrics import confusion_matrix, ConfusionMatrixDisplay\n",
    "cm = confusion_matrix(y_test, y_pred_rus_rfc, labels=rus_clf.classes_)\n",
    "disp = ConfusionMatrixDisplay(confusion_matrix=cm, display_labels=rus_clf.classes_)\n",
    "disp.plot()"
   ]
  },
  {
   "cell_type": "code",
   "execution_count": 114,
   "id": "55b284f7",
   "metadata": {},
   "outputs": [],
   "source": [
    "# Calulating metrics\n",
    "from sklearn.metrics import accuracy_score, precision_score, recall_score\n",
    "rus_rfc_accuracy = balanced_accuracy_score(y_test, y_pred_rus_rfc)\n",
    "rus_rfc_precision = precision_score(y_test, y_pred_rus_rfc, average='weighted')\n",
    "rus_rfc_recall = recall_score(y_test, y_pred_rus_rfc, average='weighted')"
   ]
  },
  {
   "cell_type": "code",
   "execution_count": 96,
   "id": "f0f8e513",
   "metadata": {},
   "outputs": [
    {
     "name": "stdout",
     "output_type": "stream",
     "text": [
      "              precision    recall  f1-score   support\n",
      "\n",
      "       Clear       0.31      0.82      0.45       735\n",
      "      Cloudy       0.45      0.69      0.55      1502\n",
      "        Haze       0.99      0.85      0.91     16408\n",
      "        Rain       0.78      0.94      0.85      1520\n",
      "\n",
      "    accuracy                           0.84     20165\n",
      "   macro avg       0.63      0.83      0.69     20165\n",
      "weighted avg       0.91      0.84      0.86     20165\n",
      "\n"
     ]
    }
   ],
   "source": [
    "from sklearn.metrics import classification_report\n",
    "clf_report = (classification_report(y_test, y_pred_rus_rfc))\n",
    "print(clf_report)"
   ]
  },
  {
   "cell_type": "code",
   "execution_count": 97,
   "id": "fd0f18a9",
   "metadata": {},
   "outputs": [
    {
     "name": "stdout",
     "output_type": "stream",
     "text": [
      "Feature: 0, Score: 0.16141\n",
      "Feature: 1, Score: 0.06362\n",
      "Feature: 2, Score: 0.08528\n",
      "Feature: 3, Score: 0.01604\n",
      "Feature: 4, Score: 0.00005\n",
      "Feature: 5, Score: 0.15690\n",
      "Feature: 6, Score: 0.08193\n",
      "Feature: 7, Score: 0.06720\n",
      "Feature: 8, Score: 0.00000\n",
      "Feature: 9, Score: 0.09329\n",
      "Feature: 10, Score: 0.01406\n",
      "Feature: 11, Score: 0.00018\n",
      "Feature: 12, Score: 0.12311\n",
      "Feature: 13, Score: 0.07151\n",
      "Feature: 14, Score: 0.06540\n"
     ]
    },
    {
     "data": {
      "image/png": "[encoded data removed]",
      "text/plain": [
       "<Figure size 432x288 with 1 Axes>"
      ]
     },
     "metadata": {
      "needs_background": "light"
     },
     "output_type": "display_data"
    }
   ],
   "source": [
    "# get importance\n",
    "importance = rus_clf.feature_importances_\n",
    "# summarize feature importance\n",
    "for i,v in enumerate(importance):\n",
    "\tprint('Feature: %0d, Score: %.5f' % (i,v))\n",
    "# plot feature importance\n",
    "plt.bar([x for x in range(len(importance))], importance)\n",
    "plt.show()"
   ]
  },
  {
   "cell_type": "code",
   "execution_count": 98,
   "id": "00125bad",
   "metadata": {},
   "outputs": [
    {
     "name": "stdout",
     "output_type": "stream",
     "text": [
      "<class 'pandas.core.frame.DataFrame'>\n",
      "RangeIndex: 80657 entries, 0 to 80656\n",
      "Data columns (total 15 columns):\n",
      " #   Column     Non-Null Count  Dtype  \n",
      "---  ------     --------------  -----  \n",
      " 0   year       80657 non-null  object \n",
      " 1   month      80657 non-null  object \n",
      " 2   dewptm     80657 non-null  float64\n",
      " 3   fog        80657 non-null  int64  \n",
      " 4   hail       80657 non-null  int64  \n",
      " 5   hum        80657 non-null  float64\n",
      " 6   pressurem  80657 non-null  float64\n",
      " 7   rain       80657 non-null  int64  \n",
      " 8   snow       80657 non-null  int64  \n",
      " 9   tempm      80657 non-null  float64\n",
      " 10  thunder    80657 non-null  int64  \n",
      " 11  tornado    80657 non-null  int64  \n",
      " 12  vism       80657 non-null  float64\n",
      " 13  wdird      80657 non-null  float64\n",
      " 14  wspdm      80657 non-null  float64\n",
      "dtypes: float64(7), int64(6), object(2)\n",
      "memory usage: 9.2+ MB\n"
     ]
    }
   ],
   "source": [
    "X.info()"
   ]
  },
  {
   "cell_type": "markdown",
   "id": "df07f84a",
   "metadata": {},
   "source": [
    "#  Comparing Models"
   ]
  },
  {
   "cell_type": "code",
   "execution_count": 115,
   "id": "4daa7f3c",
   "metadata": {},
   "outputs": [
    {
     "data": {
      "text/html": [
       "<div>\n",
       "<style scoped>\n",
       "    .dataframe tbody tr th:only-of-type {\n",
       "        vertical-align: middle;\n",
       "    }\n",
       "\n",
       "    .dataframe tbody tr th {\n",
       "        vertical-align: top;\n",
       "    }\n",
       "\n",
       "    .dataframe thead th {\n",
       "        text-align: right;\n",
       "    }\n",
       "</style>\n",
       "<table border=\"1\" class=\"dataframe\">\n",
       "  <thead>\n",
       "    <tr style=\"text-align: right;\">\n",
       "      <th></th>\n",
       "      <th>Classifier</th>\n",
       "      <th>Model_Accuracy_Score</th>\n",
       "      <th>Model_Recall_Score</th>\n",
       "      <th>Accuracy_Random_Oversampling</th>\n",
       "      <th>Recall_Random_Oversampling</th>\n",
       "      <th>Accuracy_Random_Undersampling</th>\n",
       "      <th>Recall_Random_Undersampling</th>\n",
       "    </tr>\n",
       "  </thead>\n",
       "  <tbody>\n",
       "    <tr>\n",
       "      <th>0</th>\n",
       "      <td>Logistic Regression</td>\n",
       "      <td>0.423144</td>\n",
       "      <td>0.852021</td>\n",
       "      <td>0.638880</td>\n",
       "      <td>0.659509</td>\n",
       "      <td>0.649238</td>\n",
       "      <td>0.658666</td>\n",
       "    </tr>\n",
       "    <tr>\n",
       "      <th>1</th>\n",
       "      <td>Decision Tree</td>\n",
       "      <td>0.728101</td>\n",
       "      <td>0.901513</td>\n",
       "      <td>0.725491</td>\n",
       "      <td>0.901909</td>\n",
       "      <td>0.751542</td>\n",
       "      <td>0.755418</td>\n",
       "    </tr>\n",
       "    <tr>\n",
       "      <th>2</th>\n",
       "      <td>Random Forest</td>\n",
       "      <td>0.751299</td>\n",
       "      <td>0.934292</td>\n",
       "      <td>0.784961</td>\n",
       "      <td>0.935185</td>\n",
       "      <td>0.825293</td>\n",
       "      <td>0.841855</td>\n",
       "    </tr>\n",
       "  </tbody>\n",
       "</table>\n",
       "</div>"
      ],
      "text/plain": [
       "            Classifier  Model_Accuracy_Score  Model_Recall_Score  \\\n",
       "0  Logistic Regression              0.423144            0.852021   \n",
       "1        Decision Tree              0.728101            0.901513   \n",
       "2        Random Forest              0.751299            0.934292   \n",
       "\n",
       "   Accuracy_Random_Oversampling  Recall_Random_Oversampling  \\\n",
       "0                      0.638880                    0.659509   \n",
       "1                      0.725491                    0.901909   \n",
       "2                      0.784961                    0.935185   \n",
       "\n",
       "   Accuracy_Random_Undersampling  Recall_Random_Undersampling  \n",
       "0                       0.649238                     0.658666  \n",
       "1                       0.751542                     0.755418  \n",
       "2                       0.825293                     0.841855  "
      ]
     },
     "execution_count": 115,
     "metadata": {},
     "output_type": "execute_result"
    }
   ],
   "source": [
    "results = [['Logistic Regression', lr_accuracy, lr_recall, ros_lr_accuracy, ros_lr_recall, rus_lr_accuracy, rus_lr_recall],\n",
    "           ['Decision Tree', dtc_accuracy, dtc_recall, ros_dtc_accuracy, ros_dtc_recall, rus_dtc_accuracy, rus_dtc_recall],\n",
    "           ['Random Forest', rfc_accuracy, rfc_recall, ros_rfc_accuracy, ros_rfc_recall, rus_rfc_accuracy, rus_rfc_recall],\n",
    "          ]\n",
    "\n",
    "results_df = pd.DataFrame(results, columns = ['Classifier', 'Model_Accuracy_Score', 'Model_Recall_Score', 'Accuracy_Random_Oversampling', 'Recall_Random_Oversampling'\n",
    "                                             , 'Accuracy_Random_Undersampling', 'Recall_Random_Undersampling'])\n",
    "results_df"
   ]
  },
  {
   "cell_type": "code",
   "execution_count": 116,
   "id": "5bf40b25",
   "metadata": {},
   "outputs": [
    {
     "data": {
      "text/html": [
       "<div>\n",
       "<style scoped>\n",
       "    .dataframe tbody tr th:only-of-type {\n",
       "        vertical-align: middle;\n",
       "    }\n",
       "\n",
       "    .dataframe tbody tr th {\n",
       "        vertical-align: top;\n",
       "    }\n",
       "\n",
       "    .dataframe thead th {\n",
       "        text-align: right;\n",
       "    }\n",
       "</style>\n",
       "<table border=\"1\" class=\"dataframe\">\n",
       "  <thead>\n",
       "    <tr style=\"text-align: right;\">\n",
       "      <th></th>\n",
       "      <th>Classifier</th>\n",
       "      <th>Model_Train_Score</th>\n",
       "      <th>Model_Test_Score</th>\n",
       "      <th>ROS_Train_Score</th>\n",
       "      <th>ROS_Test_Score</th>\n",
       "      <th>RUS_Train_Score</th>\n",
       "      <th>RUS_Test_Score</th>\n",
       "    </tr>\n",
       "  </thead>\n",
       "  <tbody>\n",
       "    <tr>\n",
       "      <th>0</th>\n",
       "      <td>Logistic Regression</td>\n",
       "      <td>0.856543</td>\n",
       "      <td>0.852021</td>\n",
       "      <td>0.644784</td>\n",
       "      <td>0.659509</td>\n",
       "      <td>0.656090</td>\n",
       "      <td>0.658666</td>\n",
       "    </tr>\n",
       "    <tr>\n",
       "      <th>1</th>\n",
       "      <td>Decision Tree</td>\n",
       "      <td>0.999107</td>\n",
       "      <td>0.901513</td>\n",
       "      <td>0.999081</td>\n",
       "      <td>0.901909</td>\n",
       "      <td>0.999067</td>\n",
       "      <td>0.755418</td>\n",
       "    </tr>\n",
       "    <tr>\n",
       "      <th>2</th>\n",
       "      <td>Random Forest</td>\n",
       "      <td>0.999107</td>\n",
       "      <td>0.934292</td>\n",
       "      <td>0.999081</td>\n",
       "      <td>0.935185</td>\n",
       "      <td>0.999067</td>\n",
       "      <td>0.841855</td>\n",
       "    </tr>\n",
       "  </tbody>\n",
       "</table>\n",
       "</div>"
      ],
      "text/plain": [
       "            Classifier  Model_Train_Score  Model_Test_Score  ROS_Train_Score  \\\n",
       "0  Logistic Regression           0.856543          0.852021         0.644784   \n",
       "1        Decision Tree           0.999107          0.901513         0.999081   \n",
       "2        Random Forest           0.999107          0.934292         0.999081   \n",
       "\n",
       "   ROS_Test_Score  RUS_Train_Score  RUS_Test_Score  \n",
       "0        0.659509         0.656090        0.658666  \n",
       "1        0.901909         0.999067        0.755418  \n",
       "2        0.935185         0.999067        0.841855  "
      ]
     },
     "execution_count": 116,
     "metadata": {},
     "output_type": "execute_result"
    }
   ],
   "source": [
    "scores = [['Logistic Regression', lr_train_score, lr_test_score, ros_lr_train_score, ros_lr_test_score, rus_lr_train_score, rus_lr_test_score],\n",
    "          ['Decision Tree', dtc_train_score, dtc_test_score, ros_dtc_train_score, ros_dtc_test_score, rus_dtc_train_score, rus_dtc_test_score],\n",
    "          ['Random Forest', rfc_train_score, rfc_test_score, ros_rfc_train_score, ros_rfc_test_score, rus_rfc_train_score, rus_rfc_test_score]\n",
    "    \n",
    "]\n",
    "\n",
    "scores_df = pd.DataFrame(scores, columns = ['Classifier', 'Model_Train_Score', 'Model_Test_Score', 'ROS_Train_Score', 'ROS_Test_Score', 'RUS_Train_Score', 'RUS_Test_Score'])\n",
    "scores_df"
   ]
  },
  {
   "cell_type": "code",
   "execution_count": 120,
   "id": "ccac6f22",
   "metadata": {},
   "outputs": [
    {
     "data": {
      "text/html": [
       "<div>\n",
       "<style scoped>\n",
       "    .dataframe tbody tr th:only-of-type {\n",
       "        vertical-align: middle;\n",
       "    }\n",
       "\n",
       "    .dataframe tbody tr th {\n",
       "        vertical-align: top;\n",
       "    }\n",
       "\n",
       "    .dataframe thead th {\n",
       "        text-align: right;\n",
       "    }\n",
       "</style>\n",
       "<table border=\"1\" class=\"dataframe\">\n",
       "  <thead>\n",
       "    <tr style=\"text-align: right;\">\n",
       "      <th></th>\n",
       "      <th>Classifier</th>\n",
       "      <th>Bal_Accuracy_Score</th>\n",
       "      <th>Recall_Score</th>\n",
       "      <th>Precision_Score</th>\n",
       "    </tr>\n",
       "  </thead>\n",
       "  <tbody>\n",
       "    <tr>\n",
       "      <th>0</th>\n",
       "      <td>Logistic Regression</td>\n",
       "      <td>0.423144</td>\n",
       "      <td>0.852021</td>\n",
       "      <td>0.805913</td>\n",
       "    </tr>\n",
       "    <tr>\n",
       "      <th>1</th>\n",
       "      <td>Decision Tree</td>\n",
       "      <td>0.728101</td>\n",
       "      <td>0.901513</td>\n",
       "      <td>0.902739</td>\n",
       "    </tr>\n",
       "    <tr>\n",
       "      <th>2</th>\n",
       "      <td>Random Forest</td>\n",
       "      <td>0.751299</td>\n",
       "      <td>0.934292</td>\n",
       "      <td>0.929005</td>\n",
       "    </tr>\n",
       "  </tbody>\n",
       "</table>\n",
       "</div>"
      ],
      "text/plain": [
       "            Classifier  Bal_Accuracy_Score  Recall_Score  Precision_Score\n",
       "0  Logistic Regression            0.423144      0.852021         0.805913\n",
       "1        Decision Tree            0.728101      0.901513         0.902739\n",
       "2        Random Forest            0.751299      0.934292         0.929005"
      ]
     },
     "execution_count": 120,
     "metadata": {},
     "output_type": "execute_result"
    }
   ],
   "source": [
    "model_results = [['Logistic Regression', lr_accuracy, lr_recall, lr_precision],\n",
    "                ['Decision Tree', dtc_accuracy, dtc_recall, dtc_precision],\n",
    "                ['Random Forest', rfc_accuracy, rfc_recall, rfc_precision]]\n",
    "model_df = pd.DataFrame(model_results, columns = ['Classifier', 'Bal_Accuracy_Score', 'Recall_Score', 'Precision_Score'])\n",
    "model_df"
   ]
  },
  {
   "cell_type": "code",
   "execution_count": 121,
   "id": "ced86c95",
   "metadata": {},
   "outputs": [
    {
     "data": {
      "text/html": [
       "<div>\n",
       "<style scoped>\n",
       "    .dataframe tbody tr th:only-of-type {\n",
       "        vertical-align: middle;\n",
       "    }\n",
       "\n",
       "    .dataframe tbody tr th {\n",
       "        vertical-align: top;\n",
       "    }\n",
       "\n",
       "    .dataframe thead th {\n",
       "        text-align: right;\n",
       "    }\n",
       "</style>\n",
       "<table border=\"1\" class=\"dataframe\">\n",
       "  <thead>\n",
       "    <tr style=\"text-align: right;\">\n",
       "      <th></th>\n",
       "      <th>Classifier</th>\n",
       "      <th>Bal_Accuracy_Oversampling</th>\n",
       "      <th>Recall_Oversampling</th>\n",
       "      <th>Precision_Oversampling</th>\n",
       "    </tr>\n",
       "  </thead>\n",
       "  <tbody>\n",
       "    <tr>\n",
       "      <th>0</th>\n",
       "      <td>Logistic Regression</td>\n",
       "      <td>0.638880</td>\n",
       "      <td>0.659509</td>\n",
       "      <td>0.838634</td>\n",
       "    </tr>\n",
       "    <tr>\n",
       "      <th>1</th>\n",
       "      <td>Decision Tree</td>\n",
       "      <td>0.725491</td>\n",
       "      <td>0.901909</td>\n",
       "      <td>0.901691</td>\n",
       "    </tr>\n",
       "    <tr>\n",
       "      <th>2</th>\n",
       "      <td>Random Forest</td>\n",
       "      <td>0.784961</td>\n",
       "      <td>0.935185</td>\n",
       "      <td>0.931750</td>\n",
       "    </tr>\n",
       "  </tbody>\n",
       "</table>\n",
       "</div>"
      ],
      "text/plain": [
       "            Classifier  Bal_Accuracy_Oversampling  Recall_Oversampling  \\\n",
       "0  Logistic Regression                   0.638880             0.659509   \n",
       "1        Decision Tree                   0.725491             0.901909   \n",
       "2        Random Forest                   0.784961             0.935185   \n",
       "\n",
       "   Precision_Oversampling  \n",
       "0                0.838634  \n",
       "1                0.901691  \n",
       "2                0.931750  "
      ]
     },
     "execution_count": 121,
     "metadata": {},
     "output_type": "execute_result"
    }
   ],
   "source": [
    "ros_results = [['Logistic Regression', ros_lr_accuracy, ros_lr_recall, ros_lr_precision],\n",
    "                ['Decision Tree', ros_dtc_accuracy, ros_dtc_recall, ros_dtc_precision],\n",
    "                ['Random Forest', ros_rfc_accuracy, ros_rfc_recall, ros_rfc_precision]]\n",
    "ros_df = pd.DataFrame(ros_results, columns = ['Classifier', 'Bal_Accuracy_Oversampling', 'Recall_Oversampling', 'Precision_Oversampling'])\n",
    "ros_df"
   ]
  },
  {
   "cell_type": "code",
   "execution_count": 122,
   "id": "75029dcb",
   "metadata": {},
   "outputs": [
    {
     "data": {
      "text/html": [
       "<div>\n",
       "<style scoped>\n",
       "    .dataframe tbody tr th:only-of-type {\n",
       "        vertical-align: middle;\n",
       "    }\n",
       "\n",
       "    .dataframe tbody tr th {\n",
       "        vertical-align: top;\n",
       "    }\n",
       "\n",
       "    .dataframe thead th {\n",
       "        text-align: right;\n",
       "    }\n",
       "</style>\n",
       "<table border=\"1\" class=\"dataframe\">\n",
       "  <thead>\n",
       "    <tr style=\"text-align: right;\">\n",
       "      <th></th>\n",
       "      <th>Classifier</th>\n",
       "      <th>Bal_Accuracy_Undersampling</th>\n",
       "      <th>Recall_Undersampling</th>\n",
       "      <th>Precision_Undersampling</th>\n",
       "    </tr>\n",
       "  </thead>\n",
       "  <tbody>\n",
       "    <tr>\n",
       "      <th>0</th>\n",
       "      <td>Logistic Regression</td>\n",
       "      <td>0.649238</td>\n",
       "      <td>0.658666</td>\n",
       "      <td>0.841974</td>\n",
       "    </tr>\n",
       "    <tr>\n",
       "      <th>1</th>\n",
       "      <td>Decision Tree</td>\n",
       "      <td>0.751542</td>\n",
       "      <td>0.755418</td>\n",
       "      <td>0.876566</td>\n",
       "    </tr>\n",
       "    <tr>\n",
       "      <th>2</th>\n",
       "      <td>Random Forest</td>\n",
       "      <td>0.825293</td>\n",
       "      <td>0.841855</td>\n",
       "      <td>0.907594</td>\n",
       "    </tr>\n",
       "  </tbody>\n",
       "</table>\n",
       "</div>"
      ],
      "text/plain": [
       "            Classifier  Bal_Accuracy_Undersampling  Recall_Undersampling  \\\n",
       "0  Logistic Regression                    0.649238              0.658666   \n",
       "1        Decision Tree                    0.751542              0.755418   \n",
       "2        Random Forest                    0.825293              0.841855   \n",
       "\n",
       "   Precision_Undersampling  \n",
       "0                 0.841974  \n",
       "1                 0.876566  \n",
       "2                 0.907594  "
      ]
     },
     "execution_count": 122,
     "metadata": {},
     "output_type": "execute_result"
    }
   ],
   "source": [
    "rus_results = [['Logistic Regression', rus_lr_accuracy, rus_lr_recall, rus_lr_precision],\n",
    "                ['Decision Tree', rus_dtc_accuracy, rus_dtc_recall, rus_dtc_precision],\n",
    "                ['Random Forest', rus_rfc_accuracy, rus_rfc_recall, rus_rfc_precision]]\n",
    "rus_df = pd.DataFrame(rus_results, columns = ['Classifier', 'Bal_Accuracy_Undersampling', 'Recall_Undersampling', 'Precision_Undersampling'])\n",
    "rus_df"
   ]
  }
 ],
 "metadata": {
  "kernelspec": {
   "display_name": "mlenv",
   "language": "python",
   "name": "mlenv"
  },
  "language_info": {
   "codemirror_mode": {
    "name": "ipython",
    "version": 3
   },
   "file_extension": ".py",
   "mimetype": "text/x-python",
   "name": "python",
   "nbconvert_exporter": "python",
   "pygments_lexer": "ipython3",
   "version": "3.7.11"
  }
 },
 "nbformat": 4,
 "nbformat_minor": 5
}

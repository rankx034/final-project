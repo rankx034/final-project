{
 "cells": [
  {
   "cell_type": "code",
   "execution_count": 1,
   "id": "fbae084e",
   "metadata": {},
   "outputs": [],
   "source": [
    "import sqlite3\n",
    "import numpy as np\n",
    "import pandas as pd\n",
    "import seaborn as sns\n",
    "import matplotlib.pyplot as plt"
   ]
  },
  {
   "cell_type": "markdown",
   "id": "1c41c2bb",
   "metadata": {},
   "source": [
    "# Read the CSV and Process the data"
   ]
  },
  {
   "cell_type": "code",
   "execution_count": 2,
   "id": "03a93986",
   "metadata": {},
   "outputs": [],
   "source": [
    "#Connecting Database instance \n",
    "conn = sqlite3.connect('../database/delhi.sqlite')"
   ]
  },
  {
   "cell_type": "code",
   "execution_count": 3,
   "id": "8fb0986a",
   "metadata": {},
   "outputs": [
    {
     "data": {
      "text/html": [
       "<div>\n",
       "<style scoped>\n",
       "    .dataframe tbody tr th:only-of-type {\n",
       "        vertical-align: middle;\n",
       "    }\n",
       "\n",
       "    .dataframe tbody tr th {\n",
       "        vertical-align: top;\n",
       "    }\n",
       "\n",
       "    .dataframe thead th {\n",
       "        text-align: right;\n",
       "    }\n",
       "</style>\n",
       "<table border=\"1\" class=\"dataframe\">\n",
       "  <thead>\n",
       "    <tr style=\"text-align: right;\">\n",
       "      <th></th>\n",
       "      <th>datetime_utc</th>\n",
       "      <th>conds</th>\n",
       "      <th>dewptm</th>\n",
       "      <th>fog</th>\n",
       "      <th>hail</th>\n",
       "      <th>hum</th>\n",
       "      <th>pressurem</th>\n",
       "      <th>rain</th>\n",
       "      <th>snow</th>\n",
       "      <th>tempm</th>\n",
       "      <th>thunder</th>\n",
       "      <th>tornado</th>\n",
       "      <th>vism</th>\n",
       "      <th>wdird</th>\n",
       "      <th>wdire</th>\n",
       "      <th>wspdm</th>\n",
       "    </tr>\n",
       "  </thead>\n",
       "  <tbody>\n",
       "    <tr>\n",
       "      <th>0</th>\n",
       "      <td>19961101-11:00</td>\n",
       "      <td>Haze</td>\n",
       "      <td>9.0</td>\n",
       "      <td>0</td>\n",
       "      <td>0</td>\n",
       "      <td>27.0</td>\n",
       "      <td>1010.0</td>\n",
       "      <td>0</td>\n",
       "      <td>0</td>\n",
       "      <td>30.0</td>\n",
       "      <td>0</td>\n",
       "      <td>0</td>\n",
       "      <td>5.0</td>\n",
       "      <td>280.0</td>\n",
       "      <td>West</td>\n",
       "      <td>7.4</td>\n",
       "    </tr>\n",
       "    <tr>\n",
       "      <th>1</th>\n",
       "      <td>19961101-16:00</td>\n",
       "      <td>Haze</td>\n",
       "      <td>11.0</td>\n",
       "      <td>0</td>\n",
       "      <td>0</td>\n",
       "      <td>47.0</td>\n",
       "      <td>1011.0</td>\n",
       "      <td>0</td>\n",
       "      <td>0</td>\n",
       "      <td>23.0</td>\n",
       "      <td>0</td>\n",
       "      <td>0</td>\n",
       "      <td>1.2</td>\n",
       "      <td>0.0</td>\n",
       "      <td>North</td>\n",
       "      <td>0.0</td>\n",
       "    </tr>\n",
       "    <tr>\n",
       "      <th>2</th>\n",
       "      <td>19961101-18:00</td>\n",
       "      <td>Haze</td>\n",
       "      <td>13.0</td>\n",
       "      <td>0</td>\n",
       "      <td>0</td>\n",
       "      <td>60.0</td>\n",
       "      <td>1010.0</td>\n",
       "      <td>0</td>\n",
       "      <td>0</td>\n",
       "      <td>21.0</td>\n",
       "      <td>0</td>\n",
       "      <td>0</td>\n",
       "      <td>0.8</td>\n",
       "      <td>0.0</td>\n",
       "      <td>North</td>\n",
       "      <td>0.0</td>\n",
       "    </tr>\n",
       "    <tr>\n",
       "      <th>3</th>\n",
       "      <td>19961102-02:00</td>\n",
       "      <td>Haze</td>\n",
       "      <td>10.0</td>\n",
       "      <td>0</td>\n",
       "      <td>0</td>\n",
       "      <td>52.0</td>\n",
       "      <td>1011.0</td>\n",
       "      <td>0</td>\n",
       "      <td>0</td>\n",
       "      <td>20.0</td>\n",
       "      <td>0</td>\n",
       "      <td>0</td>\n",
       "      <td>2.0</td>\n",
       "      <td>200.0</td>\n",
       "      <td>SSW</td>\n",
       "      <td>9.3</td>\n",
       "    </tr>\n",
       "    <tr>\n",
       "      <th>4</th>\n",
       "      <td>19961102-03:00</td>\n",
       "      <td>Haze</td>\n",
       "      <td>10.0</td>\n",
       "      <td>0</td>\n",
       "      <td>0</td>\n",
       "      <td>46.0</td>\n",
       "      <td>1012.0</td>\n",
       "      <td>0</td>\n",
       "      <td>0</td>\n",
       "      <td>22.0</td>\n",
       "      <td>0</td>\n",
       "      <td>0</td>\n",
       "      <td>3.5</td>\n",
       "      <td>240.0</td>\n",
       "      <td>WSW</td>\n",
       "      <td>9.3</td>\n",
       "    </tr>\n",
       "    <tr>\n",
       "      <th>...</th>\n",
       "      <td>...</td>\n",
       "      <td>...</td>\n",
       "      <td>...</td>\n",
       "      <td>...</td>\n",
       "      <td>...</td>\n",
       "      <td>...</td>\n",
       "      <td>...</td>\n",
       "      <td>...</td>\n",
       "      <td>...</td>\n",
       "      <td>...</td>\n",
       "      <td>...</td>\n",
       "      <td>...</td>\n",
       "      <td>...</td>\n",
       "      <td>...</td>\n",
       "      <td>...</td>\n",
       "      <td>...</td>\n",
       "    </tr>\n",
       "    <tr>\n",
       "      <th>80652</th>\n",
       "      <td>20170424-06:00</td>\n",
       "      <td>Haze</td>\n",
       "      <td>17.0</td>\n",
       "      <td>0</td>\n",
       "      <td>0</td>\n",
       "      <td>25.0</td>\n",
       "      <td>1005.0</td>\n",
       "      <td>0</td>\n",
       "      <td>0</td>\n",
       "      <td>34.0</td>\n",
       "      <td>0</td>\n",
       "      <td>0</td>\n",
       "      <td>4.0</td>\n",
       "      <td>320.0</td>\n",
       "      <td>NW</td>\n",
       "      <td>11.1</td>\n",
       "    </tr>\n",
       "    <tr>\n",
       "      <th>80653</th>\n",
       "      <td>20170424-09:00</td>\n",
       "      <td>Haze</td>\n",
       "      <td>14.0</td>\n",
       "      <td>0</td>\n",
       "      <td>0</td>\n",
       "      <td>16.0</td>\n",
       "      <td>1003.0</td>\n",
       "      <td>0</td>\n",
       "      <td>0</td>\n",
       "      <td>38.0</td>\n",
       "      <td>0</td>\n",
       "      <td>0</td>\n",
       "      <td>4.0</td>\n",
       "      <td>320.0</td>\n",
       "      <td>NW</td>\n",
       "      <td>22.2</td>\n",
       "    </tr>\n",
       "    <tr>\n",
       "      <th>80654</th>\n",
       "      <td>20170424-12:00</td>\n",
       "      <td>Haze</td>\n",
       "      <td>12.0</td>\n",
       "      <td>0</td>\n",
       "      <td>0</td>\n",
       "      <td>14.0</td>\n",
       "      <td>1002.0</td>\n",
       "      <td>0</td>\n",
       "      <td>0</td>\n",
       "      <td>36.0</td>\n",
       "      <td>0</td>\n",
       "      <td>0</td>\n",
       "      <td>4.0</td>\n",
       "      <td>270.0</td>\n",
       "      <td>West</td>\n",
       "      <td>18.5</td>\n",
       "    </tr>\n",
       "    <tr>\n",
       "      <th>80655</th>\n",
       "      <td>20170424-15:00</td>\n",
       "      <td>Haze</td>\n",
       "      <td>15.0</td>\n",
       "      <td>0</td>\n",
       "      <td>0</td>\n",
       "      <td>27.0</td>\n",
       "      <td>1004.0</td>\n",
       "      <td>0</td>\n",
       "      <td>0</td>\n",
       "      <td>32.0</td>\n",
       "      <td>0</td>\n",
       "      <td>0</td>\n",
       "      <td>2.0</td>\n",
       "      <td>320.0</td>\n",
       "      <td>NW</td>\n",
       "      <td>3.7</td>\n",
       "    </tr>\n",
       "    <tr>\n",
       "      <th>80656</th>\n",
       "      <td>20170424-18:00</td>\n",
       "      <td>Haze</td>\n",
       "      <td>15.0</td>\n",
       "      <td>0</td>\n",
       "      <td>0</td>\n",
       "      <td>30.0</td>\n",
       "      <td>1005.0</td>\n",
       "      <td>0</td>\n",
       "      <td>0</td>\n",
       "      <td>30.0</td>\n",
       "      <td>0</td>\n",
       "      <td>0</td>\n",
       "      <td>2.0</td>\n",
       "      <td>320.0</td>\n",
       "      <td>NW</td>\n",
       "      <td>3.7</td>\n",
       "    </tr>\n",
       "  </tbody>\n",
       "</table>\n",
       "<p>80657 rows × 16 columns</p>\n",
       "</div>"
      ],
      "text/plain": [
       "         datetime_utc conds  dewptm  fog  hail   hum  pressurem  rain  snow  \\\n",
       "0      19961101-11:00  Haze     9.0    0     0  27.0     1010.0     0     0   \n",
       "1      19961101-16:00  Haze    11.0    0     0  47.0     1011.0     0     0   \n",
       "2      19961101-18:00  Haze    13.0    0     0  60.0     1010.0     0     0   \n",
       "3      19961102-02:00  Haze    10.0    0     0  52.0     1011.0     0     0   \n",
       "4      19961102-03:00  Haze    10.0    0     0  46.0     1012.0     0     0   \n",
       "...               ...   ...     ...  ...   ...   ...        ...   ...   ...   \n",
       "80652  20170424-06:00  Haze    17.0    0     0  25.0     1005.0     0     0   \n",
       "80653  20170424-09:00  Haze    14.0    0     0  16.0     1003.0     0     0   \n",
       "80654  20170424-12:00  Haze    12.0    0     0  14.0     1002.0     0     0   \n",
       "80655  20170424-15:00  Haze    15.0    0     0  27.0     1004.0     0     0   \n",
       "80656  20170424-18:00  Haze    15.0    0     0  30.0     1005.0     0     0   \n",
       "\n",
       "       tempm  thunder  tornado  vism  wdird  wdire  wspdm  \n",
       "0       30.0        0        0   5.0  280.0   West    7.4  \n",
       "1       23.0        0        0   1.2    0.0  North    0.0  \n",
       "2       21.0        0        0   0.8    0.0  North    0.0  \n",
       "3       20.0        0        0   2.0  200.0    SSW    9.3  \n",
       "4       22.0        0        0   3.5  240.0    WSW    9.3  \n",
       "...      ...      ...      ...   ...    ...    ...    ...  \n",
       "80652   34.0        0        0   4.0  320.0     NW   11.1  \n",
       "80653   38.0        0        0   4.0  320.0     NW   22.2  \n",
       "80654   36.0        0        0   4.0  270.0   West   18.5  \n",
       "80655   32.0        0        0   2.0  320.0     NW    3.7  \n",
       "80656   30.0        0        0   2.0  320.0     NW    3.7  \n",
       "\n",
       "[80657 rows x 16 columns]"
      ]
     },
     "execution_count": 3,
     "metadata": {},
     "output_type": "execute_result"
    }
   ],
   "source": [
    "#Creating the cursor\n",
    "c = conn.cursor()\n",
    "#Creating the DataFrame\n",
    "query = c.execute(\"SELECT * From delhi_table;\")\n",
    "cols = [column[0] for column in query.description]\n",
    "df= pd.DataFrame.from_records(data = query.fetchall(), columns = cols)\n",
    "df"
   ]
  },
  {
   "cell_type": "code",
   "execution_count": 4,
   "id": "553a08d8",
   "metadata": {},
   "outputs": [],
   "source": [
    "# Extracting the year \n",
    "def extract_year(value):\n",
    "    return (value[0:4])\n",
    "df[\"year\"] = df[\"datetime_utc\"].apply(lambda x:extract_year(x))"
   ]
  },
  {
   "cell_type": "code",
   "execution_count": 5,
   "id": "2d9af504",
   "metadata": {},
   "outputs": [],
   "source": [
    "# Extracting month\n",
    "def extract_month(value):\n",
    "    return (value[4:6])\n",
    "df[\"month\"] = df[\"datetime_utc\"].apply(lambda x:extract_month(x))"
   ]
  },
  {
   "cell_type": "code",
   "execution_count": 6,
   "id": "7c666d6e",
   "metadata": {},
   "outputs": [
    {
     "data": {
      "text/html": [
       "<div>\n",
       "<style scoped>\n",
       "    .dataframe tbody tr th:only-of-type {\n",
       "        vertical-align: middle;\n",
       "    }\n",
       "\n",
       "    .dataframe tbody tr th {\n",
       "        vertical-align: top;\n",
       "    }\n",
       "\n",
       "    .dataframe thead th {\n",
       "        text-align: right;\n",
       "    }\n",
       "</style>\n",
       "<table border=\"1\" class=\"dataframe\">\n",
       "  <thead>\n",
       "    <tr style=\"text-align: right;\">\n",
       "      <th></th>\n",
       "      <th>datetime_utc</th>\n",
       "      <th>conds</th>\n",
       "      <th>dewptm</th>\n",
       "      <th>fog</th>\n",
       "      <th>hail</th>\n",
       "      <th>hum</th>\n",
       "      <th>pressurem</th>\n",
       "      <th>rain</th>\n",
       "      <th>snow</th>\n",
       "      <th>tempm</th>\n",
       "      <th>thunder</th>\n",
       "      <th>tornado</th>\n",
       "      <th>vism</th>\n",
       "      <th>wdird</th>\n",
       "      <th>wdire</th>\n",
       "      <th>wspdm</th>\n",
       "      <th>year</th>\n",
       "      <th>month</th>\n",
       "    </tr>\n",
       "  </thead>\n",
       "  <tbody>\n",
       "    <tr>\n",
       "      <th>0</th>\n",
       "      <td>19961101-11:00</td>\n",
       "      <td>Haze</td>\n",
       "      <td>9.0</td>\n",
       "      <td>0</td>\n",
       "      <td>0</td>\n",
       "      <td>27.0</td>\n",
       "      <td>1010.0</td>\n",
       "      <td>0</td>\n",
       "      <td>0</td>\n",
       "      <td>30.0</td>\n",
       "      <td>0</td>\n",
       "      <td>0</td>\n",
       "      <td>5.0</td>\n",
       "      <td>280.0</td>\n",
       "      <td>West</td>\n",
       "      <td>7.4</td>\n",
       "      <td>1996</td>\n",
       "      <td>11</td>\n",
       "    </tr>\n",
       "    <tr>\n",
       "      <th>1</th>\n",
       "      <td>19961101-16:00</td>\n",
       "      <td>Haze</td>\n",
       "      <td>11.0</td>\n",
       "      <td>0</td>\n",
       "      <td>0</td>\n",
       "      <td>47.0</td>\n",
       "      <td>1011.0</td>\n",
       "      <td>0</td>\n",
       "      <td>0</td>\n",
       "      <td>23.0</td>\n",
       "      <td>0</td>\n",
       "      <td>0</td>\n",
       "      <td>1.2</td>\n",
       "      <td>0.0</td>\n",
       "      <td>North</td>\n",
       "      <td>0.0</td>\n",
       "      <td>1996</td>\n",
       "      <td>11</td>\n",
       "    </tr>\n",
       "    <tr>\n",
       "      <th>2</th>\n",
       "      <td>19961101-18:00</td>\n",
       "      <td>Haze</td>\n",
       "      <td>13.0</td>\n",
       "      <td>0</td>\n",
       "      <td>0</td>\n",
       "      <td>60.0</td>\n",
       "      <td>1010.0</td>\n",
       "      <td>0</td>\n",
       "      <td>0</td>\n",
       "      <td>21.0</td>\n",
       "      <td>0</td>\n",
       "      <td>0</td>\n",
       "      <td>0.8</td>\n",
       "      <td>0.0</td>\n",
       "      <td>North</td>\n",
       "      <td>0.0</td>\n",
       "      <td>1996</td>\n",
       "      <td>11</td>\n",
       "    </tr>\n",
       "    <tr>\n",
       "      <th>3</th>\n",
       "      <td>19961102-02:00</td>\n",
       "      <td>Haze</td>\n",
       "      <td>10.0</td>\n",
       "      <td>0</td>\n",
       "      <td>0</td>\n",
       "      <td>52.0</td>\n",
       "      <td>1011.0</td>\n",
       "      <td>0</td>\n",
       "      <td>0</td>\n",
       "      <td>20.0</td>\n",
       "      <td>0</td>\n",
       "      <td>0</td>\n",
       "      <td>2.0</td>\n",
       "      <td>200.0</td>\n",
       "      <td>SSW</td>\n",
       "      <td>9.3</td>\n",
       "      <td>1996</td>\n",
       "      <td>11</td>\n",
       "    </tr>\n",
       "    <tr>\n",
       "      <th>4</th>\n",
       "      <td>19961102-03:00</td>\n",
       "      <td>Haze</td>\n",
       "      <td>10.0</td>\n",
       "      <td>0</td>\n",
       "      <td>0</td>\n",
       "      <td>46.0</td>\n",
       "      <td>1012.0</td>\n",
       "      <td>0</td>\n",
       "      <td>0</td>\n",
       "      <td>22.0</td>\n",
       "      <td>0</td>\n",
       "      <td>0</td>\n",
       "      <td>3.5</td>\n",
       "      <td>240.0</td>\n",
       "      <td>WSW</td>\n",
       "      <td>9.3</td>\n",
       "      <td>1996</td>\n",
       "      <td>11</td>\n",
       "    </tr>\n",
       "  </tbody>\n",
       "</table>\n",
       "</div>"
      ],
      "text/plain": [
       "     datetime_utc conds  dewptm  fog  hail   hum  pressurem  rain  snow  \\\n",
       "0  19961101-11:00  Haze     9.0    0     0  27.0     1010.0     0     0   \n",
       "1  19961101-16:00  Haze    11.0    0     0  47.0     1011.0     0     0   \n",
       "2  19961101-18:00  Haze    13.0    0     0  60.0     1010.0     0     0   \n",
       "3  19961102-02:00  Haze    10.0    0     0  52.0     1011.0     0     0   \n",
       "4  19961102-03:00  Haze    10.0    0     0  46.0     1012.0     0     0   \n",
       "\n",
       "   tempm  thunder  tornado  vism  wdird  wdire  wspdm  year month  \n",
       "0   30.0        0        0   5.0  280.0   West    7.4  1996    11  \n",
       "1   23.0        0        0   1.2    0.0  North    0.0  1996    11  \n",
       "2   21.0        0        0   0.8    0.0  North    0.0  1996    11  \n",
       "3   20.0        0        0   2.0  200.0    SSW    9.3  1996    11  \n",
       "4   22.0        0        0   3.5  240.0    WSW    9.3  1996    11  "
      ]
     },
     "execution_count": 6,
     "metadata": {},
     "output_type": "execute_result"
    }
   ],
   "source": [
    "df.head()"
   ]
  },
  {
   "cell_type": "code",
   "execution_count": 7,
   "id": "9fd1a374",
   "metadata": {},
   "outputs": [
    {
     "data": {
      "text/plain": [
       "datetime_utc     object\n",
       "conds            object\n",
       "dewptm          float64\n",
       "fog               int64\n",
       "hail              int64\n",
       "hum             float64\n",
       "pressurem       float64\n",
       "rain              int64\n",
       "snow              int64\n",
       "tempm           float64\n",
       "thunder           int64\n",
       "tornado           int64\n",
       "vism            float64\n",
       "wdird           float64\n",
       "wdire            object\n",
       "wspdm           float64\n",
       "year             object\n",
       "month            object\n",
       "dtype: object"
      ]
     },
     "execution_count": 7,
     "metadata": {},
     "output_type": "execute_result"
    }
   ],
   "source": [
    "df.dtypes"
   ]
  },
  {
   "cell_type": "code",
   "execution_count": 8,
   "id": "a641ced0",
   "metadata": {},
   "outputs": [
    {
     "data": {
      "text/html": [
       "<div>\n",
       "<style scoped>\n",
       "    .dataframe tbody tr th:only-of-type {\n",
       "        vertical-align: middle;\n",
       "    }\n",
       "\n",
       "    .dataframe tbody tr th {\n",
       "        vertical-align: top;\n",
       "    }\n",
       "\n",
       "    .dataframe thead th {\n",
       "        text-align: right;\n",
       "    }\n",
       "</style>\n",
       "<table border=\"1\" class=\"dataframe\">\n",
       "  <thead>\n",
       "    <tr style=\"text-align: right;\">\n",
       "      <th></th>\n",
       "      <th>conds</th>\n",
       "      <th>dewptm</th>\n",
       "      <th>fog</th>\n",
       "      <th>hail</th>\n",
       "      <th>hum</th>\n",
       "      <th>pressurem</th>\n",
       "      <th>rain</th>\n",
       "      <th>snow</th>\n",
       "      <th>tempm</th>\n",
       "      <th>thunder</th>\n",
       "      <th>tornado</th>\n",
       "      <th>vism</th>\n",
       "      <th>wdird</th>\n",
       "      <th>wspdm</th>\n",
       "      <th>year</th>\n",
       "      <th>month</th>\n",
       "    </tr>\n",
       "  </thead>\n",
       "  <tbody>\n",
       "    <tr>\n",
       "      <th>0</th>\n",
       "      <td>Haze</td>\n",
       "      <td>9.0</td>\n",
       "      <td>0</td>\n",
       "      <td>0</td>\n",
       "      <td>27.0</td>\n",
       "      <td>1010.0</td>\n",
       "      <td>0</td>\n",
       "      <td>0</td>\n",
       "      <td>30.0</td>\n",
       "      <td>0</td>\n",
       "      <td>0</td>\n",
       "      <td>5.0</td>\n",
       "      <td>280.0</td>\n",
       "      <td>7.4</td>\n",
       "      <td>1996</td>\n",
       "      <td>11</td>\n",
       "    </tr>\n",
       "    <tr>\n",
       "      <th>1</th>\n",
       "      <td>Haze</td>\n",
       "      <td>11.0</td>\n",
       "      <td>0</td>\n",
       "      <td>0</td>\n",
       "      <td>47.0</td>\n",
       "      <td>1011.0</td>\n",
       "      <td>0</td>\n",
       "      <td>0</td>\n",
       "      <td>23.0</td>\n",
       "      <td>0</td>\n",
       "      <td>0</td>\n",
       "      <td>1.2</td>\n",
       "      <td>0.0</td>\n",
       "      <td>0.0</td>\n",
       "      <td>1996</td>\n",
       "      <td>11</td>\n",
       "    </tr>\n",
       "    <tr>\n",
       "      <th>2</th>\n",
       "      <td>Haze</td>\n",
       "      <td>13.0</td>\n",
       "      <td>0</td>\n",
       "      <td>0</td>\n",
       "      <td>60.0</td>\n",
       "      <td>1010.0</td>\n",
       "      <td>0</td>\n",
       "      <td>0</td>\n",
       "      <td>21.0</td>\n",
       "      <td>0</td>\n",
       "      <td>0</td>\n",
       "      <td>0.8</td>\n",
       "      <td>0.0</td>\n",
       "      <td>0.0</td>\n",
       "      <td>1996</td>\n",
       "      <td>11</td>\n",
       "    </tr>\n",
       "    <tr>\n",
       "      <th>3</th>\n",
       "      <td>Haze</td>\n",
       "      <td>10.0</td>\n",
       "      <td>0</td>\n",
       "      <td>0</td>\n",
       "      <td>52.0</td>\n",
       "      <td>1011.0</td>\n",
       "      <td>0</td>\n",
       "      <td>0</td>\n",
       "      <td>20.0</td>\n",
       "      <td>0</td>\n",
       "      <td>0</td>\n",
       "      <td>2.0</td>\n",
       "      <td>200.0</td>\n",
       "      <td>9.3</td>\n",
       "      <td>1996</td>\n",
       "      <td>11</td>\n",
       "    </tr>\n",
       "    <tr>\n",
       "      <th>4</th>\n",
       "      <td>Haze</td>\n",
       "      <td>10.0</td>\n",
       "      <td>0</td>\n",
       "      <td>0</td>\n",
       "      <td>46.0</td>\n",
       "      <td>1012.0</td>\n",
       "      <td>0</td>\n",
       "      <td>0</td>\n",
       "      <td>22.0</td>\n",
       "      <td>0</td>\n",
       "      <td>0</td>\n",
       "      <td>3.5</td>\n",
       "      <td>240.0</td>\n",
       "      <td>9.3</td>\n",
       "      <td>1996</td>\n",
       "      <td>11</td>\n",
       "    </tr>\n",
       "  </tbody>\n",
       "</table>\n",
       "</div>"
      ],
      "text/plain": [
       "  conds  dewptm  fog  hail   hum  pressurem  rain  snow  tempm  thunder  \\\n",
       "0  Haze     9.0    0     0  27.0     1010.0     0     0   30.0        0   \n",
       "1  Haze    11.0    0     0  47.0     1011.0     0     0   23.0        0   \n",
       "2  Haze    13.0    0     0  60.0     1010.0     0     0   21.0        0   \n",
       "3  Haze    10.0    0     0  52.0     1011.0     0     0   20.0        0   \n",
       "4  Haze    10.0    0     0  46.0     1012.0     0     0   22.0        0   \n",
       "\n",
       "   tornado  vism  wdird  wspdm  year month  \n",
       "0        0   5.0  280.0    7.4  1996    11  \n",
       "1        0   1.2    0.0    0.0  1996    11  \n",
       "2        0   0.8    0.0    0.0  1996    11  \n",
       "3        0   2.0  200.0    9.3  1996    11  \n",
       "4        0   3.5  240.0    9.3  1996    11  "
      ]
     },
     "execution_count": 8,
     "metadata": {},
     "output_type": "execute_result"
    }
   ],
   "source": [
    "# Dropping three columns 'datetime_utc', 'wdire'\n",
    "df = df.drop(['datetime_utc', 'wdire'], axis =1)\n",
    "df.head()"
   ]
  },
  {
   "cell_type": "code",
   "execution_count": 9,
   "id": "1822ade3",
   "metadata": {},
   "outputs": [
    {
     "data": {
      "text/plain": [
       "Index(['conds', 'dewptm', 'fog', 'hail', 'hum', 'pressurem', 'rain', 'snow',\n",
       "       'tempm', 'thunder', 'tornado', 'vism', 'wdird', 'wspdm', 'year',\n",
       "       'month'],\n",
       "      dtype='object')"
      ]
     },
     "execution_count": 9,
     "metadata": {},
     "output_type": "execute_result"
    }
   ],
   "source": [
    "df.columns"
   ]
  },
  {
   "cell_type": "code",
   "execution_count": 10,
   "id": "b6d31449",
   "metadata": {},
   "outputs": [],
   "source": [
    "ordered_columns = ['year','month', 'dewptm', 'fog', 'hail', 'hum', 'pressurem', 'rain', 'snow',\n",
    "       'tempm', 'thunder', 'tornado', 'vism', 'wdird', 'wspdm', 'conds']\n",
    "df = df[ordered_columns]"
   ]
  },
  {
   "cell_type": "code",
   "execution_count": 11,
   "id": "0475222c",
   "metadata": {},
   "outputs": [
    {
     "data": {
      "text/html": [
       "<div>\n",
       "<style scoped>\n",
       "    .dataframe tbody tr th:only-of-type {\n",
       "        vertical-align: middle;\n",
       "    }\n",
       "\n",
       "    .dataframe tbody tr th {\n",
       "        vertical-align: top;\n",
       "    }\n",
       "\n",
       "    .dataframe thead th {\n",
       "        text-align: right;\n",
       "    }\n",
       "</style>\n",
       "<table border=\"1\" class=\"dataframe\">\n",
       "  <thead>\n",
       "    <tr style=\"text-align: right;\">\n",
       "      <th></th>\n",
       "      <th>year</th>\n",
       "      <th>month</th>\n",
       "      <th>dewptm</th>\n",
       "      <th>fog</th>\n",
       "      <th>hail</th>\n",
       "      <th>hum</th>\n",
       "      <th>pressurem</th>\n",
       "      <th>rain</th>\n",
       "      <th>snow</th>\n",
       "      <th>tempm</th>\n",
       "      <th>thunder</th>\n",
       "      <th>tornado</th>\n",
       "      <th>vism</th>\n",
       "      <th>wdird</th>\n",
       "      <th>wspdm</th>\n",
       "      <th>conds</th>\n",
       "    </tr>\n",
       "  </thead>\n",
       "  <tbody>\n",
       "    <tr>\n",
       "      <th>0</th>\n",
       "      <td>1996</td>\n",
       "      <td>11</td>\n",
       "      <td>9.0</td>\n",
       "      <td>0</td>\n",
       "      <td>0</td>\n",
       "      <td>27.0</td>\n",
       "      <td>1010.0</td>\n",
       "      <td>0</td>\n",
       "      <td>0</td>\n",
       "      <td>30.0</td>\n",
       "      <td>0</td>\n",
       "      <td>0</td>\n",
       "      <td>5.0</td>\n",
       "      <td>280.0</td>\n",
       "      <td>7.4</td>\n",
       "      <td>Haze</td>\n",
       "    </tr>\n",
       "    <tr>\n",
       "      <th>1</th>\n",
       "      <td>1996</td>\n",
       "      <td>11</td>\n",
       "      <td>11.0</td>\n",
       "      <td>0</td>\n",
       "      <td>0</td>\n",
       "      <td>47.0</td>\n",
       "      <td>1011.0</td>\n",
       "      <td>0</td>\n",
       "      <td>0</td>\n",
       "      <td>23.0</td>\n",
       "      <td>0</td>\n",
       "      <td>0</td>\n",
       "      <td>1.2</td>\n",
       "      <td>0.0</td>\n",
       "      <td>0.0</td>\n",
       "      <td>Haze</td>\n",
       "    </tr>\n",
       "    <tr>\n",
       "      <th>2</th>\n",
       "      <td>1996</td>\n",
       "      <td>11</td>\n",
       "      <td>13.0</td>\n",
       "      <td>0</td>\n",
       "      <td>0</td>\n",
       "      <td>60.0</td>\n",
       "      <td>1010.0</td>\n",
       "      <td>0</td>\n",
       "      <td>0</td>\n",
       "      <td>21.0</td>\n",
       "      <td>0</td>\n",
       "      <td>0</td>\n",
       "      <td>0.8</td>\n",
       "      <td>0.0</td>\n",
       "      <td>0.0</td>\n",
       "      <td>Haze</td>\n",
       "    </tr>\n",
       "    <tr>\n",
       "      <th>3</th>\n",
       "      <td>1996</td>\n",
       "      <td>11</td>\n",
       "      <td>10.0</td>\n",
       "      <td>0</td>\n",
       "      <td>0</td>\n",
       "      <td>52.0</td>\n",
       "      <td>1011.0</td>\n",
       "      <td>0</td>\n",
       "      <td>0</td>\n",
       "      <td>20.0</td>\n",
       "      <td>0</td>\n",
       "      <td>0</td>\n",
       "      <td>2.0</td>\n",
       "      <td>200.0</td>\n",
       "      <td>9.3</td>\n",
       "      <td>Haze</td>\n",
       "    </tr>\n",
       "    <tr>\n",
       "      <th>4</th>\n",
       "      <td>1996</td>\n",
       "      <td>11</td>\n",
       "      <td>10.0</td>\n",
       "      <td>0</td>\n",
       "      <td>0</td>\n",
       "      <td>46.0</td>\n",
       "      <td>1012.0</td>\n",
       "      <td>0</td>\n",
       "      <td>0</td>\n",
       "      <td>22.0</td>\n",
       "      <td>0</td>\n",
       "      <td>0</td>\n",
       "      <td>3.5</td>\n",
       "      <td>240.0</td>\n",
       "      <td>9.3</td>\n",
       "      <td>Haze</td>\n",
       "    </tr>\n",
       "  </tbody>\n",
       "</table>\n",
       "</div>"
      ],
      "text/plain": [
       "   year month  dewptm  fog  hail   hum  pressurem  rain  snow  tempm  thunder  \\\n",
       "0  1996    11     9.0    0     0  27.0     1010.0     0     0   30.0        0   \n",
       "1  1996    11    11.0    0     0  47.0     1011.0     0     0   23.0        0   \n",
       "2  1996    11    13.0    0     0  60.0     1010.0     0     0   21.0        0   \n",
       "3  1996    11    10.0    0     0  52.0     1011.0     0     0   20.0        0   \n",
       "4  1996    11    10.0    0     0  46.0     1012.0     0     0   22.0        0   \n",
       "\n",
       "   tornado  vism  wdird  wspdm conds  \n",
       "0        0   5.0  280.0    7.4  Haze  \n",
       "1        0   1.2    0.0    0.0  Haze  \n",
       "2        0   0.8    0.0    0.0  Haze  \n",
       "3        0   2.0  200.0    9.3  Haze  \n",
       "4        0   3.5  240.0    9.3  Haze  "
      ]
     },
     "execution_count": 11,
     "metadata": {},
     "output_type": "execute_result"
    }
   ],
   "source": [
    "df.head()"
   ]
  },
  {
   "cell_type": "code",
   "execution_count": 12,
   "id": "dd9ffd96",
   "metadata": {},
   "outputs": [
    {
     "data": {
      "text/plain": [
       "Haze      65925\n",
       "Rain       6022\n",
       "Cloudy     5832\n",
       "Clear      2878\n",
       "Name: conds, dtype: int64"
      ]
     },
     "execution_count": 12,
     "metadata": {},
     "output_type": "execute_result"
    }
   ],
   "source": [
    "df.conds.value_counts()"
   ]
  },
  {
   "cell_type": "code",
   "execution_count": 13,
   "id": "6efad19a",
   "metadata": {},
   "outputs": [],
   "source": [
    "# Create our features\n",
    "X = df.drop(\"conds\", axis=1)\n",
    "\n",
    "# Create our target\n",
    "y = df[\"conds\"]\n"
   ]
  },
  {
   "cell_type": "code",
   "execution_count": 14,
   "id": "d652eaf4",
   "metadata": {},
   "outputs": [
    {
     "data": {
      "text/html": [
       "<div>\n",
       "<style scoped>\n",
       "    .dataframe tbody tr th:only-of-type {\n",
       "        vertical-align: middle;\n",
       "    }\n",
       "\n",
       "    .dataframe tbody tr th {\n",
       "        vertical-align: top;\n",
       "    }\n",
       "\n",
       "    .dataframe thead th {\n",
       "        text-align: right;\n",
       "    }\n",
       "</style>\n",
       "<table border=\"1\" class=\"dataframe\">\n",
       "  <thead>\n",
       "    <tr style=\"text-align: right;\">\n",
       "      <th></th>\n",
       "      <th>dewptm</th>\n",
       "      <th>fog</th>\n",
       "      <th>hail</th>\n",
       "      <th>hum</th>\n",
       "      <th>pressurem</th>\n",
       "      <th>rain</th>\n",
       "      <th>snow</th>\n",
       "      <th>tempm</th>\n",
       "      <th>thunder</th>\n",
       "      <th>tornado</th>\n",
       "      <th>vism</th>\n",
       "      <th>wdird</th>\n",
       "      <th>wspdm</th>\n",
       "    </tr>\n",
       "  </thead>\n",
       "  <tbody>\n",
       "    <tr>\n",
       "      <th>count</th>\n",
       "      <td>80657.000000</td>\n",
       "      <td>80657.000000</td>\n",
       "      <td>80657.000000</td>\n",
       "      <td>80657.000000</td>\n",
       "      <td>8.065700e+04</td>\n",
       "      <td>80657.000000</td>\n",
       "      <td>80657.000000</td>\n",
       "      <td>80657.000000</td>\n",
       "      <td>80657.000000</td>\n",
       "      <td>80657.000000</td>\n",
       "      <td>80657.000000</td>\n",
       "      <td>80657.000000</td>\n",
       "      <td>80657.000000</td>\n",
       "    </tr>\n",
       "    <tr>\n",
       "      <th>mean</th>\n",
       "      <td>15.676445</td>\n",
       "      <td>0.050907</td>\n",
       "      <td>0.000136</td>\n",
       "      <td>55.171926</td>\n",
       "      <td>2.199730e+03</td>\n",
       "      <td>0.027102</td>\n",
       "      <td>0.000012</td>\n",
       "      <td>26.340045</td>\n",
       "      <td>0.010216</td>\n",
       "      <td>0.000025</td>\n",
       "      <td>2.563318</td>\n",
       "      <td>169.093891</td>\n",
       "      <td>8.976131</td>\n",
       "    </tr>\n",
       "    <tr>\n",
       "      <th>std</th>\n",
       "      <td>7.150146</td>\n",
       "      <td>0.219809</td>\n",
       "      <td>0.011677</td>\n",
       "      <td>23.447379</td>\n",
       "      <td>3.558458e+05</td>\n",
       "      <td>0.162383</td>\n",
       "      <td>0.003521</td>\n",
       "      <td>8.242780</td>\n",
       "      <td>0.100558</td>\n",
       "      <td>0.004980</td>\n",
       "      <td>22.690289</td>\n",
       "      <td>118.166457</td>\n",
       "      <td>12.084670</td>\n",
       "    </tr>\n",
       "    <tr>\n",
       "      <th>min</th>\n",
       "      <td>-24.000000</td>\n",
       "      <td>0.000000</td>\n",
       "      <td>0.000000</td>\n",
       "      <td>4.000000</td>\n",
       "      <td>-9.999000e+03</td>\n",
       "      <td>0.000000</td>\n",
       "      <td>0.000000</td>\n",
       "      <td>4.000000</td>\n",
       "      <td>0.000000</td>\n",
       "      <td>0.000000</td>\n",
       "      <td>0.000000</td>\n",
       "      <td>0.000000</td>\n",
       "      <td>0.000000</td>\n",
       "    </tr>\n",
       "    <tr>\n",
       "      <th>25%</th>\n",
       "      <td>10.000000</td>\n",
       "      <td>0.000000</td>\n",
       "      <td>0.000000</td>\n",
       "      <td>36.000000</td>\n",
       "      <td>1.001000e+03</td>\n",
       "      <td>0.000000</td>\n",
       "      <td>0.000000</td>\n",
       "      <td>20.000000</td>\n",
       "      <td>0.000000</td>\n",
       "      <td>0.000000</td>\n",
       "      <td>1.800000</td>\n",
       "      <td>60.000000</td>\n",
       "      <td>3.700000</td>\n",
       "    </tr>\n",
       "    <tr>\n",
       "      <th>50%</th>\n",
       "      <td>15.000000</td>\n",
       "      <td>0.000000</td>\n",
       "      <td>0.000000</td>\n",
       "      <td>55.000000</td>\n",
       "      <td>1.008000e+03</td>\n",
       "      <td>0.000000</td>\n",
       "      <td>0.000000</td>\n",
       "      <td>28.000000</td>\n",
       "      <td>0.000000</td>\n",
       "      <td>0.000000</td>\n",
       "      <td>2.200000</td>\n",
       "      <td>170.000000</td>\n",
       "      <td>7.400000</td>\n",
       "    </tr>\n",
       "    <tr>\n",
       "      <th>75%</th>\n",
       "      <td>22.000000</td>\n",
       "      <td>0.000000</td>\n",
       "      <td>0.000000</td>\n",
       "      <td>74.000000</td>\n",
       "      <td>1.014000e+03</td>\n",
       "      <td>0.000000</td>\n",
       "      <td>0.000000</td>\n",
       "      <td>32.000000</td>\n",
       "      <td>0.000000</td>\n",
       "      <td>0.000000</td>\n",
       "      <td>3.000000</td>\n",
       "      <td>270.000000</td>\n",
       "      <td>13.000000</td>\n",
       "    </tr>\n",
       "    <tr>\n",
       "      <th>max</th>\n",
       "      <td>35.000000</td>\n",
       "      <td>1.000000</td>\n",
       "      <td>1.000000</td>\n",
       "      <td>100.000000</td>\n",
       "      <td>1.010614e+08</td>\n",
       "      <td>1.000000</td>\n",
       "      <td>1.000000</td>\n",
       "      <td>72.000000</td>\n",
       "      <td>1.000000</td>\n",
       "      <td>1.000000</td>\n",
       "      <td>6436.000000</td>\n",
       "      <td>960.000000</td>\n",
       "      <td>1514.900000</td>\n",
       "    </tr>\n",
       "  </tbody>\n",
       "</table>\n",
       "</div>"
      ],
      "text/plain": [
       "             dewptm           fog          hail           hum     pressurem  \\\n",
       "count  80657.000000  80657.000000  80657.000000  80657.000000  8.065700e+04   \n",
       "mean      15.676445      0.050907      0.000136     55.171926  2.199730e+03   \n",
       "std        7.150146      0.219809      0.011677     23.447379  3.558458e+05   \n",
       "min      -24.000000      0.000000      0.000000      4.000000 -9.999000e+03   \n",
       "25%       10.000000      0.000000      0.000000     36.000000  1.001000e+03   \n",
       "50%       15.000000      0.000000      0.000000     55.000000  1.008000e+03   \n",
       "75%       22.000000      0.000000      0.000000     74.000000  1.014000e+03   \n",
       "max       35.000000      1.000000      1.000000    100.000000  1.010614e+08   \n",
       "\n",
       "               rain          snow         tempm       thunder       tornado  \\\n",
       "count  80657.000000  80657.000000  80657.000000  80657.000000  80657.000000   \n",
       "mean       0.027102      0.000012     26.340045      0.010216      0.000025   \n",
       "std        0.162383      0.003521      8.242780      0.100558      0.004980   \n",
       "min        0.000000      0.000000      4.000000      0.000000      0.000000   \n",
       "25%        0.000000      0.000000     20.000000      0.000000      0.000000   \n",
       "50%        0.000000      0.000000     28.000000      0.000000      0.000000   \n",
       "75%        0.000000      0.000000     32.000000      0.000000      0.000000   \n",
       "max        1.000000      1.000000     72.000000      1.000000      1.000000   \n",
       "\n",
       "               vism         wdird         wspdm  \n",
       "count  80657.000000  80657.000000  80657.000000  \n",
       "mean       2.563318    169.093891      8.976131  \n",
       "std       22.690289    118.166457     12.084670  \n",
       "min        0.000000      0.000000      0.000000  \n",
       "25%        1.800000     60.000000      3.700000  \n",
       "50%        2.200000    170.000000      7.400000  \n",
       "75%        3.000000    270.000000     13.000000  \n",
       "max     6436.000000    960.000000   1514.900000  "
      ]
     },
     "execution_count": 14,
     "metadata": {},
     "output_type": "execute_result"
    }
   ],
   "source": [
    "X.describe()"
   ]
  },
  {
   "cell_type": "code",
   "execution_count": 15,
   "id": "5316d78f",
   "metadata": {},
   "outputs": [
    {
     "data": {
      "text/plain": [
       "Haze      65925\n",
       "Rain       6022\n",
       "Cloudy     5832\n",
       "Clear      2878\n",
       "Name: conds, dtype: int64"
      ]
     },
     "execution_count": 15,
     "metadata": {},
     "output_type": "execute_result"
    }
   ],
   "source": [
    "y.value_counts()"
   ]
  },
  {
   "cell_type": "markdown",
   "id": "527bfa0d",
   "metadata": {},
   "source": [
    "# Split the Data into Training and Testing¶"
   ]
  },
  {
   "cell_type": "code",
   "execution_count": 16,
   "id": "e6e323c9",
   "metadata": {},
   "outputs": [],
   "source": [
    "from sklearn.model_selection import train_test_split\n",
    "X_train, X_test, y_train, y_test = train_test_split(X, y, random_state=1)"
   ]
  },
  {
   "cell_type": "markdown",
   "id": "09f607d0",
   "metadata": {},
   "source": [
    "# DecisionTreeClassifier"
   ]
  },
  {
   "cell_type": "code",
   "execution_count": 17,
   "id": "51c31773",
   "metadata": {},
   "outputs": [],
   "source": [
    "from sklearn.tree import DecisionTreeClassifier\n",
    "model = DecisionTreeClassifier()\n",
    "dt_model = model.fit(X_train, y_train)"
   ]
  },
  {
   "cell_type": "code",
   "execution_count": 18,
   "id": "d96050e5",
   "metadata": {},
   "outputs": [
    {
     "data": {
      "text/plain": [
       "0.9991073199761952"
      ]
     },
     "execution_count": 18,
     "metadata": {},
     "output_type": "execute_result"
    }
   ],
   "source": [
    "dt_model.score(X_train,y_train)"
   ]
  },
  {
   "cell_type": "code",
   "execution_count": 19,
   "id": "67774e73",
   "metadata": {},
   "outputs": [
    {
     "data": {
      "text/plain": [
       "0.8996280684354079"
      ]
     },
     "execution_count": 19,
     "metadata": {},
     "output_type": "execute_result"
    }
   ],
   "source": [
    "dt_model.score(X_test,y_test)"
   ]
  },
  {
   "cell_type": "code",
   "execution_count": 20,
   "id": "d26afd96",
   "metadata": {},
   "outputs": [
    {
     "data": {
      "text/plain": [
       "array(['Haze', 'Haze', 'Haze', ..., 'Haze', 'Haze', 'Haze'], dtype=object)"
      ]
     },
     "execution_count": 20,
     "metadata": {},
     "output_type": "execute_result"
    }
   ],
   "source": [
    "dt_ypred = dt_model.predict(X_test)\n",
    "dt_ypred"
   ]
  },
  {
   "cell_type": "code",
   "execution_count": 21,
   "id": "17d821c8",
   "metadata": {},
   "outputs": [
    {
     "data": {
      "text/plain": [
       "<sklearn.metrics._plot.confusion_matrix.ConfusionMatrixDisplay at 0x28f23f533c8>"
      ]
     },
     "execution_count": 21,
     "metadata": {},
     "output_type": "execute_result"
    },
    {
     "data": {
      "image/png": "[encoded data removed]",
      "text/plain": [
       "<Figure size 432x288 with 2 Axes>"
      ]
     },
     "metadata": {
      "needs_background": "light"
     },
     "output_type": "display_data"
    }
   ],
   "source": [
    "# Displaying the confusion_matrix\n",
    "from sklearn.metrics import confusion_matrix, ConfusionMatrixDisplay\n",
    "dt_cm = confusion_matrix(y_test, dt_ypred, labels=dt_model.classes_)\n",
    "dt_disp = ConfusionMatrixDisplay(confusion_matrix=dt_cm, display_labels=dt_model.classes_)\n",
    "dt_disp.plot()"
   ]
  },
  {
   "cell_type": "code",
   "execution_count": 22,
   "id": "cca575e0",
   "metadata": {},
   "outputs": [
    {
     "data": {
      "text/plain": [
       "0.8996280684354079"
      ]
     },
     "execution_count": 22,
     "metadata": {},
     "output_type": "execute_result"
    }
   ],
   "source": [
    "# Calulating the accuracy_score\n",
    "from sklearn.metrics import accuracy_score\n",
    "acc_score = accuracy_score(y_test, dt_ypred)\n",
    "acc_score"
   ]
  },
  {
   "cell_type": "code",
   "execution_count": 23,
   "id": "aaa28872",
   "metadata": {},
   "outputs": [
    {
     "data": {
      "text/plain": [
       "0.7264781349060165"
      ]
     },
     "execution_count": 23,
     "metadata": {},
     "output_type": "execute_result"
    }
   ],
   "source": [
    "# Calculate the Balanced Accuracy Score\n",
    "from sklearn.metrics import balanced_accuracy_score\n",
    "balanced_accuracy_score(y_test, dt_ypred)"
   ]
  },
  {
   "cell_type": "code",
   "execution_count": 24,
   "id": "44669a03",
   "metadata": {},
   "outputs": [
    {
     "name": "stdout",
     "output_type": "stream",
     "text": [
      "              precision    recall  f1-score   support\n",
      "\n",
      "       Clear       0.49      0.51      0.50       735\n",
      "      Cloudy       0.55      0.58      0.56      1502\n",
      "        Haze       0.96      0.95      0.95     16408\n",
      "        Rain       0.86      0.87      0.86      1520\n",
      "\n",
      "    accuracy                           0.90     20165\n",
      "   macro avg       0.72      0.73      0.72     20165\n",
      "weighted avg       0.90      0.90      0.90     20165\n",
      "\n"
     ]
    }
   ],
   "source": [
    "# printing the classification report\n",
    "from sklearn.metrics import classification_report\n",
    "dt_clf_report = (classification_report(y_test, dt_ypred))\n",
    "print(dt_clf_report)"
   ]
  },
  {
   "cell_type": "code",
   "execution_count": 25,
   "id": "6f1ae908",
   "metadata": {},
   "outputs": [
    {
     "data": {
      "text/html": [
       "<div>\n",
       "<style scoped>\n",
       "    .dataframe tbody tr th:only-of-type {\n",
       "        vertical-align: middle;\n",
       "    }\n",
       "\n",
       "    .dataframe tbody tr th {\n",
       "        vertical-align: top;\n",
       "    }\n",
       "\n",
       "    .dataframe thead th {\n",
       "        text-align: right;\n",
       "    }\n",
       "</style>\n",
       "<table border=\"1\" class=\"dataframe\">\n",
       "  <thead>\n",
       "    <tr style=\"text-align: right;\">\n",
       "      <th></th>\n",
       "      <th>feature</th>\n",
       "      <th>importance</th>\n",
       "    </tr>\n",
       "  </thead>\n",
       "  <tbody>\n",
       "    <tr>\n",
       "      <th>0</th>\n",
       "      <td>year</td>\n",
       "      <td>0.167430</td>\n",
       "    </tr>\n",
       "    <tr>\n",
       "      <th>12</th>\n",
       "      <td>vism</td>\n",
       "      <td>0.148770</td>\n",
       "    </tr>\n",
       "    <tr>\n",
       "      <th>7</th>\n",
       "      <td>rain</td>\n",
       "      <td>0.133086</td>\n",
       "    </tr>\n",
       "    <tr>\n",
       "      <th>5</th>\n",
       "      <td>hum</td>\n",
       "      <td>0.124056</td>\n",
       "    </tr>\n",
       "    <tr>\n",
       "      <th>9</th>\n",
       "      <td>tempm</td>\n",
       "      <td>0.075479</td>\n",
       "    </tr>\n",
       "    <tr>\n",
       "      <th>6</th>\n",
       "      <td>pressurem</td>\n",
       "      <td>0.073639</td>\n",
       "    </tr>\n",
       "    <tr>\n",
       "      <th>13</th>\n",
       "      <td>wdird</td>\n",
       "      <td>0.060688</td>\n",
       "    </tr>\n",
       "    <tr>\n",
       "      <th>2</th>\n",
       "      <td>dewptm</td>\n",
       "      <td>0.055536</td>\n",
       "    </tr>\n",
       "    <tr>\n",
       "      <th>14</th>\n",
       "      <td>wspdm</td>\n",
       "      <td>0.053702</td>\n",
       "    </tr>\n",
       "    <tr>\n",
       "      <th>3</th>\n",
       "      <td>fog</td>\n",
       "      <td>0.051855</td>\n",
       "    </tr>\n",
       "    <tr>\n",
       "      <th>1</th>\n",
       "      <td>month</td>\n",
       "      <td>0.042484</td>\n",
       "    </tr>\n",
       "    <tr>\n",
       "      <th>10</th>\n",
       "      <td>thunder</td>\n",
       "      <td>0.013175</td>\n",
       "    </tr>\n",
       "    <tr>\n",
       "      <th>11</th>\n",
       "      <td>tornado</td>\n",
       "      <td>0.000100</td>\n",
       "    </tr>\n",
       "    <tr>\n",
       "      <th>4</th>\n",
       "      <td>hail</td>\n",
       "      <td>0.000000</td>\n",
       "    </tr>\n",
       "    <tr>\n",
       "      <th>8</th>\n",
       "      <td>snow</td>\n",
       "      <td>0.000000</td>\n",
       "    </tr>\n",
       "  </tbody>\n",
       "</table>\n",
       "</div>"
      ],
      "text/plain": [
       "      feature  importance\n",
       "0        year    0.167430\n",
       "12       vism    0.148770\n",
       "7        rain    0.133086\n",
       "5         hum    0.124056\n",
       "9       tempm    0.075479\n",
       "6   pressurem    0.073639\n",
       "13      wdird    0.060688\n",
       "2      dewptm    0.055536\n",
       "14      wspdm    0.053702\n",
       "3         fog    0.051855\n",
       "1       month    0.042484\n",
       "10    thunder    0.013175\n",
       "11    tornado    0.000100\n",
       "4        hail    0.000000\n",
       "8        snow    0.000000"
      ]
     },
     "execution_count": 25,
     "metadata": {},
     "output_type": "execute_result"
    }
   ],
   "source": [
    "# check Important features\n",
    "ft_imp_dt_clf = pd.DataFrame(\n",
    "    {\"feature\": list(X.columns), \"importance\": dt_model.feature_importances_}\n",
    ").sort_values(\"importance\", ascending=False)\n",
    "\n",
    "# Display\n",
    "ft_imp_dt_clf"
   ]
  },
  {
   "cell_type": "code",
   "execution_count": 26,
   "id": "818209d0",
   "metadata": {},
   "outputs": [
    {
     "data": {
      "image/png": "[encoded data removed]",
      "text/plain": [
       "<Figure size 432x288 with 1 Axes>"
      ]
     },
     "metadata": {
      "needs_background": "light"
     },
     "output_type": "display_data"
    }
   ],
   "source": [
    "# visualize important featuers\n",
    "\n",
    "# Creating a bar plot\n",
    "sns.barplot(x=ft_imp_dt_clf.feature, y=ft_imp_dt_clf.importance)\n",
    "# Add labels to your\n",
    "\n",
    "plt.xlabel(\"Feature Importance Score\")\n",
    "plt.ylabel(\"Features\")\n",
    "plt.title(\"Visualizing Important Features\")\n",
    "plt.xticks(\n",
    "    rotation=45, horizontalalignment=\"right\", fontweight=\"light\", fontsize=\"x-large\"\n",
    ")\n",
    "plt.show()"
   ]
  },
  {
   "cell_type": "markdown",
   "id": "d905a2b5",
   "metadata": {},
   "source": [
    "# RandomOverSampling"
   ]
  },
  {
   "cell_type": "code",
   "execution_count": 27,
   "id": "a744a009",
   "metadata": {},
   "outputs": [
    {
     "data": {
      "text/plain": [
       "Counter({'Clear': 49517, 'Haze': 49517, 'Cloudy': 49517, 'Rain': 49517})"
      ]
     },
     "execution_count": 27,
     "metadata": {},
     "output_type": "execute_result"
    }
   ],
   "source": [
    "# Resample the training data with the RandomOversampler\n",
    "from imblearn.over_sampling import RandomOverSampler\n",
    "from collections import Counter\n",
    "ros = RandomOverSampler(random_state=1)\n",
    "X_resampled, y_resampled = ros.fit_resample(X_train, y_train)\n",
    "\n",
    "Counter(y_resampled)"
   ]
  },
  {
   "cell_type": "code",
   "execution_count": 28,
   "id": "907a4434",
   "metadata": {},
   "outputs": [
    {
     "data": {
      "text/plain": [
       "DecisionTreeClassifier()"
      ]
     },
     "execution_count": 28,
     "metadata": {},
     "output_type": "execute_result"
    }
   ],
   "source": [
    "from sklearn.tree import DecisionTreeClassifier\n",
    "dt_ros_model = DecisionTreeClassifier()\n",
    "dt_ros_model.fit(X_resampled, y_resampled)"
   ]
  },
  {
   "cell_type": "code",
   "execution_count": 29,
   "id": "6fda8241",
   "metadata": {},
   "outputs": [
    {
     "data": {
      "text/plain": [
       "0.9990811236545025"
      ]
     },
     "execution_count": 29,
     "metadata": {},
     "output_type": "execute_result"
    }
   ],
   "source": [
    "dt_ros_model.score(X_resampled, y_resampled)"
   ]
  },
  {
   "cell_type": "code",
   "execution_count": 30,
   "id": "b32cbf8a",
   "metadata": {},
   "outputs": [
    {
     "data": {
      "text/plain": [
       "0.9021076121993553"
      ]
     },
     "execution_count": 30,
     "metadata": {},
     "output_type": "execute_result"
    }
   ],
   "source": [
    "dt_ros_model.score(X_test, y_test)"
   ]
  },
  {
   "cell_type": "code",
   "execution_count": 31,
   "id": "2a2268d3",
   "metadata": {},
   "outputs": [
    {
     "data": {
      "text/plain": [
       "array(['Cloudy', 'Haze', 'Haze', ..., 'Haze', 'Haze', 'Haze'],\n",
       "      dtype=object)"
      ]
     },
     "execution_count": 31,
     "metadata": {},
     "output_type": "execute_result"
    }
   ],
   "source": [
    "dt_ros_ypred = dt_ros_model.predict(X_test)\n",
    "dt_ros_ypred"
   ]
  },
  {
   "cell_type": "code",
   "execution_count": 32,
   "id": "0b553611",
   "metadata": {},
   "outputs": [
    {
     "data": {
      "text/plain": [
       "<sklearn.metrics._plot.confusion_matrix.ConfusionMatrixDisplay at 0x28f2451a7c8>"
      ]
     },
     "execution_count": 32,
     "metadata": {},
     "output_type": "execute_result"
    },
    {
     "data": {
      "image/png": "[encoded data removed]",
      "text/plain": [
       "<Figure size 432x288 with 2 Axes>"
      ]
     },
     "metadata": {
      "needs_background": "light"
     },
     "output_type": "display_data"
    }
   ],
   "source": [
    "# Displaying the confusion_matrix\n",
    "from sklearn.metrics import confusion_matrix, ConfusionMatrixDisplay\n",
    "dt_ros_cm = confusion_matrix(y_test, dt_ros_ypred, labels=dt_ros_model.classes_)\n",
    "dt_ros_disp = ConfusionMatrixDisplay(confusion_matrix=dt_ros_cm, display_labels=dt_ros_model.classes_)\n",
    "dt_ros_disp.plot()"
   ]
  },
  {
   "cell_type": "code",
   "execution_count": 33,
   "id": "8fa6d22a",
   "metadata": {},
   "outputs": [
    {
     "data": {
      "text/plain": [
       "0.9021076121993553"
      ]
     },
     "execution_count": 33,
     "metadata": {},
     "output_type": "execute_result"
    }
   ],
   "source": [
    "# Calulating the accuracy_score\n",
    "from sklearn.metrics import accuracy_score\n",
    "accuracy_score(y_test, dt_ros_ypred)"
   ]
  },
  {
   "cell_type": "code",
   "execution_count": 34,
   "id": "4b976b1f",
   "metadata": {},
   "outputs": [
    {
     "data": {
      "text/plain": [
       "0.7267288262575193"
      ]
     },
     "execution_count": 34,
     "metadata": {},
     "output_type": "execute_result"
    }
   ],
   "source": [
    "# Calculate the Balanced Accuracy Score\n",
    "from sklearn.metrics import balanced_accuracy_score\n",
    "balanced_accuracy_score(y_test, dt_ros_ypred)"
   ]
  },
  {
   "cell_type": "code",
   "execution_count": 35,
   "id": "fd3f98b7",
   "metadata": {},
   "outputs": [
    {
     "name": "stdout",
     "output_type": "stream",
     "text": [
      "              precision    recall  f1-score   support\n",
      "\n",
      "       Clear       0.52      0.52      0.52       735\n",
      "      Cloudy       0.59      0.58      0.58      1502\n",
      "        Haze       0.95      0.95      0.95     16408\n",
      "        Rain       0.86      0.85      0.85      1520\n",
      "\n",
      "    accuracy                           0.90     20165\n",
      "   macro avg       0.73      0.73      0.73     20165\n",
      "weighted avg       0.90      0.90      0.90     20165\n",
      "\n"
     ]
    }
   ],
   "source": [
    "# printing the classification report\n",
    "from sklearn.metrics import classification_report\n",
    "dt_ros_clf_report = (classification_report(y_test, dt_ros_ypred))\n",
    "print(dt_ros_clf_report)"
   ]
  },
  {
   "cell_type": "code",
   "execution_count": 36,
   "id": "72f9d8da",
   "metadata": {},
   "outputs": [
    {
     "data": {
      "text/html": [
       "<div>\n",
       "<style scoped>\n",
       "    .dataframe tbody tr th:only-of-type {\n",
       "        vertical-align: middle;\n",
       "    }\n",
       "\n",
       "    .dataframe tbody tr th {\n",
       "        vertical-align: top;\n",
       "    }\n",
       "\n",
       "    .dataframe thead th {\n",
       "        text-align: right;\n",
       "    }\n",
       "</style>\n",
       "<table border=\"1\" class=\"dataframe\">\n",
       "  <thead>\n",
       "    <tr style=\"text-align: right;\">\n",
       "      <th></th>\n",
       "      <th>feature</th>\n",
       "      <th>importance</th>\n",
       "    </tr>\n",
       "  </thead>\n",
       "  <tbody>\n",
       "    <tr>\n",
       "      <th>0</th>\n",
       "      <td>year</td>\n",
       "      <td>0.189000</td>\n",
       "    </tr>\n",
       "    <tr>\n",
       "      <th>5</th>\n",
       "      <td>hum</td>\n",
       "      <td>0.168086</td>\n",
       "    </tr>\n",
       "    <tr>\n",
       "      <th>12</th>\n",
       "      <td>vism</td>\n",
       "      <td>0.126378</td>\n",
       "    </tr>\n",
       "    <tr>\n",
       "      <th>7</th>\n",
       "      <td>rain</td>\n",
       "      <td>0.092322</td>\n",
       "    </tr>\n",
       "    <tr>\n",
       "      <th>2</th>\n",
       "      <td>dewptm</td>\n",
       "      <td>0.072416</td>\n",
       "    </tr>\n",
       "    <tr>\n",
       "      <th>6</th>\n",
       "      <td>pressurem</td>\n",
       "      <td>0.069222</td>\n",
       "    </tr>\n",
       "    <tr>\n",
       "      <th>1</th>\n",
       "      <td>month</td>\n",
       "      <td>0.063456</td>\n",
       "    </tr>\n",
       "    <tr>\n",
       "      <th>13</th>\n",
       "      <td>wdird</td>\n",
       "      <td>0.061581</td>\n",
       "    </tr>\n",
       "    <tr>\n",
       "      <th>9</th>\n",
       "      <td>tempm</td>\n",
       "      <td>0.061195</td>\n",
       "    </tr>\n",
       "    <tr>\n",
       "      <th>14</th>\n",
       "      <td>wspdm</td>\n",
       "      <td>0.055585</td>\n",
       "    </tr>\n",
       "    <tr>\n",
       "      <th>3</th>\n",
       "      <td>fog</td>\n",
       "      <td>0.026245</td>\n",
       "    </tr>\n",
       "    <tr>\n",
       "      <th>10</th>\n",
       "      <td>thunder</td>\n",
       "      <td>0.014347</td>\n",
       "    </tr>\n",
       "    <tr>\n",
       "      <th>11</th>\n",
       "      <td>tornado</td>\n",
       "      <td>0.000166</td>\n",
       "    </tr>\n",
       "    <tr>\n",
       "      <th>4</th>\n",
       "      <td>hail</td>\n",
       "      <td>0.000000</td>\n",
       "    </tr>\n",
       "    <tr>\n",
       "      <th>8</th>\n",
       "      <td>snow</td>\n",
       "      <td>0.000000</td>\n",
       "    </tr>\n",
       "  </tbody>\n",
       "</table>\n",
       "</div>"
      ],
      "text/plain": [
       "      feature  importance\n",
       "0        year    0.189000\n",
       "5         hum    0.168086\n",
       "12       vism    0.126378\n",
       "7        rain    0.092322\n",
       "2      dewptm    0.072416\n",
       "6   pressurem    0.069222\n",
       "1       month    0.063456\n",
       "13      wdird    0.061581\n",
       "9       tempm    0.061195\n",
       "14      wspdm    0.055585\n",
       "3         fog    0.026245\n",
       "10    thunder    0.014347\n",
       "11    tornado    0.000166\n",
       "4        hail    0.000000\n",
       "8        snow    0.000000"
      ]
     },
     "execution_count": 36,
     "metadata": {},
     "output_type": "execute_result"
    }
   ],
   "source": [
    "# check Important features\n",
    "ft_imp_dt_ros = pd.DataFrame(\n",
    "    {\"feature\": list(X.columns), \"importance\": dt_ros_model.feature_importances_}\n",
    ").sort_values(\"importance\", ascending=False)\n",
    "\n",
    "# Display\n",
    "ft_imp_dt_ros"
   ]
  },
  {
   "cell_type": "code",
   "execution_count": 37,
   "id": "5f2aade7",
   "metadata": {},
   "outputs": [
    {
     "data": {
      "image/png": "[encoded data removed]",
      "text/plain": [
       "<Figure size 432x288 with 1 Axes>"
      ]
     },
     "metadata": {
      "needs_background": "light"
     },
     "output_type": "display_data"
    }
   ],
   "source": [
    "# visualize important featuers\n",
    "\n",
    "# Creating a bar plot\n",
    "sns.barplot(x=ft_imp_dt_ros.feature, y=ft_imp_dt_ros.importance)\n",
    "# Add labels to your\n",
    "\n",
    "plt.xlabel(\"Feature Importance Score\")\n",
    "plt.ylabel(\"Features\")\n",
    "plt.title(\"Visualizing Important Features\")\n",
    "plt.xticks(\n",
    "    rotation=45, horizontalalignment=\"right\", fontweight=\"light\", fontsize=\"x-large\"\n",
    ")\n",
    "plt.show()"
   ]
  },
  {
   "cell_type": "markdown",
   "id": "8b17187b",
   "metadata": {},
   "source": [
    "# RandomUnderSampling"
   ]
  },
  {
   "cell_type": "code",
   "execution_count": 38,
   "id": "80492ed9",
   "metadata": {},
   "outputs": [
    {
     "data": {
      "text/plain": [
       "Counter({'Clear': 2143, 'Cloudy': 2143, 'Haze': 2143, 'Rain': 2143})"
      ]
     },
     "execution_count": 38,
     "metadata": {},
     "output_type": "execute_result"
    }
   ],
   "source": [
    "from imblearn.under_sampling import RandomUnderSampler\n",
    "rus = RandomUnderSampler(random_state=1)\n",
    "X_resampled, y_resampled = rus.fit_resample(X_train, y_train)\n",
    "Counter(y_resampled)"
   ]
  },
  {
   "cell_type": "code",
   "execution_count": 39,
   "id": "1dd2f1ea",
   "metadata": {},
   "outputs": [
    {
     "data": {
      "text/plain": [
       "DecisionTreeClassifier()"
      ]
     },
     "execution_count": 39,
     "metadata": {},
     "output_type": "execute_result"
    }
   ],
   "source": [
    "from sklearn.tree import DecisionTreeClassifier\n",
    "dt_rus_model = DecisionTreeClassifier()\n",
    "dt_rus_model.fit(X_resampled, y_resampled)"
   ]
  },
  {
   "cell_type": "code",
   "execution_count": 40,
   "id": "9c083232",
   "metadata": {},
   "outputs": [
    {
     "data": {
      "text/plain": [
       "0.999066728884741"
      ]
     },
     "execution_count": 40,
     "metadata": {},
     "output_type": "execute_result"
    }
   ],
   "source": [
    "dt_rus_model.score(X_resampled, y_resampled)"
   ]
  },
  {
   "cell_type": "code",
   "execution_count": 41,
   "id": "5dd47329",
   "metadata": {},
   "outputs": [
    {
     "data": {
      "text/plain": [
       "0.7534341681130672"
      ]
     },
     "execution_count": 41,
     "metadata": {},
     "output_type": "execute_result"
    }
   ],
   "source": [
    "dt_rus_model.score(X_test, y_test)"
   ]
  },
  {
   "cell_type": "code",
   "execution_count": 42,
   "id": "e30904b5",
   "metadata": {},
   "outputs": [
    {
     "data": {
      "text/plain": [
       "array(['Cloudy', 'Haze', 'Haze', ..., 'Haze', 'Haze', 'Haze'],\n",
       "      dtype=object)"
      ]
     },
     "execution_count": 42,
     "metadata": {},
     "output_type": "execute_result"
    }
   ],
   "source": [
    "dt_rus_ypred = dt_rus_model.predict(X_test)\n",
    "dt_rus_ypred"
   ]
  },
  {
   "cell_type": "code",
   "execution_count": 43,
   "id": "6538e0bd",
   "metadata": {},
   "outputs": [
    {
     "data": {
      "text/plain": [
       "<sklearn.metrics._plot.confusion_matrix.ConfusionMatrixDisplay at 0x28f29eb66c8>"
      ]
     },
     "execution_count": 43,
     "metadata": {},
     "output_type": "execute_result"
    },
    {
     "data": {
      "image/png": "[encoded data removed]",
      "text/plain": [
       "<Figure size 432x288 with 2 Axes>"
      ]
     },
     "metadata": {
      "needs_background": "light"
     },
     "output_type": "display_data"
    }
   ],
   "source": [
    "# Displaying the confusion_matrix\n",
    "from sklearn.metrics import confusion_matrix, ConfusionMatrixDisplay\n",
    "dt_rus_cm = confusion_matrix(y_test, dt_rus_ypred, labels=dt_rus_model.classes_)\n",
    "dt_rus_disp = ConfusionMatrixDisplay(confusion_matrix=dt_rus_cm, display_labels=dt_rus_model.classes_)\n",
    "dt_rus_disp.plot()"
   ]
  },
  {
   "cell_type": "code",
   "execution_count": 44,
   "id": "a249b775",
   "metadata": {},
   "outputs": [
    {
     "data": {
      "text/plain": [
       "0.7534341681130672"
      ]
     },
     "execution_count": 44,
     "metadata": {},
     "output_type": "execute_result"
    }
   ],
   "source": [
    "# Calulating the accuracy_score\n",
    "from sklearn.metrics import accuracy_score\n",
    "accuracy_score(y_test, dt_rus_ypred)"
   ]
  },
  {
   "cell_type": "code",
   "execution_count": 45,
   "id": "3f67b97e",
   "metadata": {},
   "outputs": [
    {
     "data": {
      "text/plain": [
       "0.7504399720238908"
      ]
     },
     "execution_count": 45,
     "metadata": {},
     "output_type": "execute_result"
    }
   ],
   "source": [
    "# Calculate the Balanced Accuracy Score\n",
    "from sklearn.metrics import balanced_accuracy_score\n",
    "balanced_accuracy_score(y_test, dt_rus_ypred)"
   ]
  },
  {
   "cell_type": "code",
   "execution_count": 46,
   "id": "b7b889b6",
   "metadata": {},
   "outputs": [
    {
     "name": "stdout",
     "output_type": "stream",
     "text": [
      "              precision    recall  f1-score   support\n",
      "\n",
      "       Clear       0.23      0.71      0.35       735\n",
      "      Cloudy       0.30      0.64      0.41      1502\n",
      "        Haze       0.98      0.75      0.85     16408\n",
      "        Rain       0.65      0.89      0.75      1520\n",
      "\n",
      "    accuracy                           0.75     20165\n",
      "   macro avg       0.54      0.75      0.59     20165\n",
      "weighted avg       0.88      0.75      0.79     20165\n",
      "\n"
     ]
    }
   ],
   "source": [
    "# printing the classification report\n",
    "from sklearn.metrics import classification_report\n",
    "dt_rus_clf_report = (classification_report(y_test, dt_rus_ypred))\n",
    "print(dt_rus_clf_report)"
   ]
  },
  {
   "cell_type": "code",
   "execution_count": 47,
   "id": "05573f91",
   "metadata": {},
   "outputs": [
    {
     "data": {
      "text/html": [
       "<div>\n",
       "<style scoped>\n",
       "    .dataframe tbody tr th:only-of-type {\n",
       "        vertical-align: middle;\n",
       "    }\n",
       "\n",
       "    .dataframe tbody tr th {\n",
       "        vertical-align: top;\n",
       "    }\n",
       "\n",
       "    .dataframe thead th {\n",
       "        text-align: right;\n",
       "    }\n",
       "</style>\n",
       "<table border=\"1\" class=\"dataframe\">\n",
       "  <thead>\n",
       "    <tr style=\"text-align: right;\">\n",
       "      <th></th>\n",
       "      <th>feature</th>\n",
       "      <th>importance</th>\n",
       "    </tr>\n",
       "  </thead>\n",
       "  <tbody>\n",
       "    <tr>\n",
       "      <th>0</th>\n",
       "      <td>year</td>\n",
       "      <td>0.184539</td>\n",
       "    </tr>\n",
       "    <tr>\n",
       "      <th>5</th>\n",
       "      <td>hum</td>\n",
       "      <td>0.178046</td>\n",
       "    </tr>\n",
       "    <tr>\n",
       "      <th>12</th>\n",
       "      <td>vism</td>\n",
       "      <td>0.122131</td>\n",
       "    </tr>\n",
       "    <tr>\n",
       "      <th>7</th>\n",
       "      <td>rain</td>\n",
       "      <td>0.088321</td>\n",
       "    </tr>\n",
       "    <tr>\n",
       "      <th>6</th>\n",
       "      <td>pressurem</td>\n",
       "      <td>0.073511</td>\n",
       "    </tr>\n",
       "    <tr>\n",
       "      <th>1</th>\n",
       "      <td>month</td>\n",
       "      <td>0.069828</td>\n",
       "    </tr>\n",
       "    <tr>\n",
       "      <th>9</th>\n",
       "      <td>tempm</td>\n",
       "      <td>0.067589</td>\n",
       "    </tr>\n",
       "    <tr>\n",
       "      <th>13</th>\n",
       "      <td>wdird</td>\n",
       "      <td>0.062934</td>\n",
       "    </tr>\n",
       "    <tr>\n",
       "      <th>14</th>\n",
       "      <td>wspdm</td>\n",
       "      <td>0.060941</td>\n",
       "    </tr>\n",
       "    <tr>\n",
       "      <th>2</th>\n",
       "      <td>dewptm</td>\n",
       "      <td>0.053836</td>\n",
       "    </tr>\n",
       "    <tr>\n",
       "      <th>3</th>\n",
       "      <td>fog</td>\n",
       "      <td>0.026246</td>\n",
       "    </tr>\n",
       "    <tr>\n",
       "      <th>10</th>\n",
       "      <td>thunder</td>\n",
       "      <td>0.011774</td>\n",
       "    </tr>\n",
       "    <tr>\n",
       "      <th>11</th>\n",
       "      <td>tornado</td>\n",
       "      <td>0.000303</td>\n",
       "    </tr>\n",
       "    <tr>\n",
       "      <th>4</th>\n",
       "      <td>hail</td>\n",
       "      <td>0.000000</td>\n",
       "    </tr>\n",
       "    <tr>\n",
       "      <th>8</th>\n",
       "      <td>snow</td>\n",
       "      <td>0.000000</td>\n",
       "    </tr>\n",
       "  </tbody>\n",
       "</table>\n",
       "</div>"
      ],
      "text/plain": [
       "      feature  importance\n",
       "0        year    0.184539\n",
       "5         hum    0.178046\n",
       "12       vism    0.122131\n",
       "7        rain    0.088321\n",
       "6   pressurem    0.073511\n",
       "1       month    0.069828\n",
       "9       tempm    0.067589\n",
       "13      wdird    0.062934\n",
       "14      wspdm    0.060941\n",
       "2      dewptm    0.053836\n",
       "3         fog    0.026246\n",
       "10    thunder    0.011774\n",
       "11    tornado    0.000303\n",
       "4        hail    0.000000\n",
       "8        snow    0.000000"
      ]
     },
     "execution_count": 47,
     "metadata": {},
     "output_type": "execute_result"
    }
   ],
   "source": [
    "# check Important features\n",
    "ft_imp_dt_rus = pd.DataFrame(\n",
    "    {\"feature\": list(X.columns), \"importance\": dt_rus_model.feature_importances_}\n",
    ").sort_values(\"importance\", ascending=False)\n",
    "\n",
    "# Display\n",
    "ft_imp_dt_rus"
   ]
  },
  {
   "cell_type": "code",
   "execution_count": 48,
   "id": "72dc8a5c",
   "metadata": {},
   "outputs": [
    {
     "data": {
      "image/png": "[encoded data removed]",
      "text/plain": [
       "<Figure size 432x288 with 1 Axes>"
      ]
     },
     "metadata": {
      "needs_background": "light"
     },
     "output_type": "display_data"
    }
   ],
   "source": [
    "# visualize important featuers\n",
    "\n",
    "# Creating a bar plot\n",
    "sns.barplot(x=ft_imp_dt_rus.feature, y=ft_imp_dt_rus.importance)\n",
    "# Add labels to your\n",
    "\n",
    "plt.xlabel(\"Feature Importance Score\")\n",
    "plt.ylabel(\"Features\")\n",
    "plt.title(\"Visualizing Important Features\")\n",
    "plt.xticks(\n",
    "    rotation=45, horizontalalignment=\"right\", fontweight=\"light\", fontsize=\"x-large\"\n",
    ")\n",
    "plt.show()"
   ]
  }
 ],
 "metadata": {
  "kernelspec": {
   "display_name": "mlenv",
   "language": "python",
   "name": "mlenv"
  },
  "language_info": {
   "codemirror_mode": {
    "name": "ipython",
    "version": 3
   },
   "file_extension": ".py",
   "mimetype": "text/x-python",
   "name": "python",
   "nbconvert_exporter": "python",
   "pygments_lexer": "ipython3",
   "version": "3.7.11"
  }
 },
 "nbformat": 4,
 "nbformat_minor": 5
}

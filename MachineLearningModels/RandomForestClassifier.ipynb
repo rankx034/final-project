{
 "cells": [
  {
   "cell_type": "code",
   "execution_count": 1,
   "id": "e320433a",
   "metadata": {},
   "outputs": [],
   "source": [
    "#Importing dependencies\n",
    "import sqlite3\n",
    "import numpy as np\n",
    "import pandas as pd\n",
    "import warnings\n",
    "warnings.filterwarnings('ignore')"
   ]
  },
  {
   "cell_type": "code",
   "execution_count": 2,
   "id": "4f4dc57d",
   "metadata": {},
   "outputs": [],
   "source": [
    "#Connecting Database instance \n",
    "conn = sqlite3.connect('./database/delhi.sqlite')"
   ]
  },
  {
   "cell_type": "code",
   "execution_count": 3,
   "id": "8e84c285",
   "metadata": {},
   "outputs": [],
   "source": [
    "#Creating the cursor\n",
    "c = conn.cursor()"
   ]
  },
  {
   "cell_type": "code",
   "execution_count": 4,
   "id": "0c51c53a",
   "metadata": {},
   "outputs": [
    {
     "data": {
      "text/html": [
       "<div>\n",
       "<style scoped>\n",
       "    .dataframe tbody tr th:only-of-type {\n",
       "        vertical-align: middle;\n",
       "    }\n",
       "\n",
       "    .dataframe tbody tr th {\n",
       "        vertical-align: top;\n",
       "    }\n",
       "\n",
       "    .dataframe thead th {\n",
       "        text-align: right;\n",
       "    }\n",
       "</style>\n",
       "<table border=\"1\" class=\"dataframe\">\n",
       "  <thead>\n",
       "    <tr style=\"text-align: right;\">\n",
       "      <th></th>\n",
       "      <th>datetime_utc</th>\n",
       "      <th>conds</th>\n",
       "      <th>dewptm</th>\n",
       "      <th>fog</th>\n",
       "      <th>hail</th>\n",
       "      <th>hum</th>\n",
       "      <th>pressurem</th>\n",
       "      <th>rain</th>\n",
       "      <th>snow</th>\n",
       "      <th>tempm</th>\n",
       "      <th>thunder</th>\n",
       "      <th>tornado</th>\n",
       "      <th>vism</th>\n",
       "      <th>wdird</th>\n",
       "      <th>wdire</th>\n",
       "      <th>wspdm</th>\n",
       "    </tr>\n",
       "  </thead>\n",
       "  <tbody>\n",
       "    <tr>\n",
       "      <th>0</th>\n",
       "      <td>19961101-11:00</td>\n",
       "      <td>Haze</td>\n",
       "      <td>9.0</td>\n",
       "      <td>0</td>\n",
       "      <td>0</td>\n",
       "      <td>27.0</td>\n",
       "      <td>1010.0</td>\n",
       "      <td>0</td>\n",
       "      <td>0</td>\n",
       "      <td>30.0</td>\n",
       "      <td>0</td>\n",
       "      <td>0</td>\n",
       "      <td>5.0</td>\n",
       "      <td>280.0</td>\n",
       "      <td>West</td>\n",
       "      <td>7.4</td>\n",
       "    </tr>\n",
       "    <tr>\n",
       "      <th>1</th>\n",
       "      <td>19961101-16:00</td>\n",
       "      <td>Haze</td>\n",
       "      <td>11.0</td>\n",
       "      <td>0</td>\n",
       "      <td>0</td>\n",
       "      <td>47.0</td>\n",
       "      <td>1011.0</td>\n",
       "      <td>0</td>\n",
       "      <td>0</td>\n",
       "      <td>23.0</td>\n",
       "      <td>0</td>\n",
       "      <td>0</td>\n",
       "      <td>1.2</td>\n",
       "      <td>0.0</td>\n",
       "      <td>North</td>\n",
       "      <td>0.0</td>\n",
       "    </tr>\n",
       "    <tr>\n",
       "      <th>2</th>\n",
       "      <td>19961101-18:00</td>\n",
       "      <td>Haze</td>\n",
       "      <td>13.0</td>\n",
       "      <td>0</td>\n",
       "      <td>0</td>\n",
       "      <td>60.0</td>\n",
       "      <td>1010.0</td>\n",
       "      <td>0</td>\n",
       "      <td>0</td>\n",
       "      <td>21.0</td>\n",
       "      <td>0</td>\n",
       "      <td>0</td>\n",
       "      <td>0.8</td>\n",
       "      <td>0.0</td>\n",
       "      <td>North</td>\n",
       "      <td>0.0</td>\n",
       "    </tr>\n",
       "    <tr>\n",
       "      <th>3</th>\n",
       "      <td>19961102-02:00</td>\n",
       "      <td>Haze</td>\n",
       "      <td>10.0</td>\n",
       "      <td>0</td>\n",
       "      <td>0</td>\n",
       "      <td>52.0</td>\n",
       "      <td>1011.0</td>\n",
       "      <td>0</td>\n",
       "      <td>0</td>\n",
       "      <td>20.0</td>\n",
       "      <td>0</td>\n",
       "      <td>0</td>\n",
       "      <td>2.0</td>\n",
       "      <td>200.0</td>\n",
       "      <td>SSW</td>\n",
       "      <td>9.3</td>\n",
       "    </tr>\n",
       "    <tr>\n",
       "      <th>4</th>\n",
       "      <td>19961102-03:00</td>\n",
       "      <td>Haze</td>\n",
       "      <td>10.0</td>\n",
       "      <td>0</td>\n",
       "      <td>0</td>\n",
       "      <td>46.0</td>\n",
       "      <td>1012.0</td>\n",
       "      <td>0</td>\n",
       "      <td>0</td>\n",
       "      <td>22.0</td>\n",
       "      <td>0</td>\n",
       "      <td>0</td>\n",
       "      <td>3.5</td>\n",
       "      <td>240.0</td>\n",
       "      <td>WSW</td>\n",
       "      <td>9.3</td>\n",
       "    </tr>\n",
       "    <tr>\n",
       "      <th>...</th>\n",
       "      <td>...</td>\n",
       "      <td>...</td>\n",
       "      <td>...</td>\n",
       "      <td>...</td>\n",
       "      <td>...</td>\n",
       "      <td>...</td>\n",
       "      <td>...</td>\n",
       "      <td>...</td>\n",
       "      <td>...</td>\n",
       "      <td>...</td>\n",
       "      <td>...</td>\n",
       "      <td>...</td>\n",
       "      <td>...</td>\n",
       "      <td>...</td>\n",
       "      <td>...</td>\n",
       "      <td>...</td>\n",
       "    </tr>\n",
       "    <tr>\n",
       "      <th>80652</th>\n",
       "      <td>20170424-06:00</td>\n",
       "      <td>Haze</td>\n",
       "      <td>17.0</td>\n",
       "      <td>0</td>\n",
       "      <td>0</td>\n",
       "      <td>25.0</td>\n",
       "      <td>1005.0</td>\n",
       "      <td>0</td>\n",
       "      <td>0</td>\n",
       "      <td>34.0</td>\n",
       "      <td>0</td>\n",
       "      <td>0</td>\n",
       "      <td>4.0</td>\n",
       "      <td>320.0</td>\n",
       "      <td>NW</td>\n",
       "      <td>11.1</td>\n",
       "    </tr>\n",
       "    <tr>\n",
       "      <th>80653</th>\n",
       "      <td>20170424-09:00</td>\n",
       "      <td>Haze</td>\n",
       "      <td>14.0</td>\n",
       "      <td>0</td>\n",
       "      <td>0</td>\n",
       "      <td>16.0</td>\n",
       "      <td>1003.0</td>\n",
       "      <td>0</td>\n",
       "      <td>0</td>\n",
       "      <td>38.0</td>\n",
       "      <td>0</td>\n",
       "      <td>0</td>\n",
       "      <td>4.0</td>\n",
       "      <td>320.0</td>\n",
       "      <td>NW</td>\n",
       "      <td>22.2</td>\n",
       "    </tr>\n",
       "    <tr>\n",
       "      <th>80654</th>\n",
       "      <td>20170424-12:00</td>\n",
       "      <td>Haze</td>\n",
       "      <td>12.0</td>\n",
       "      <td>0</td>\n",
       "      <td>0</td>\n",
       "      <td>14.0</td>\n",
       "      <td>1002.0</td>\n",
       "      <td>0</td>\n",
       "      <td>0</td>\n",
       "      <td>36.0</td>\n",
       "      <td>0</td>\n",
       "      <td>0</td>\n",
       "      <td>4.0</td>\n",
       "      <td>270.0</td>\n",
       "      <td>West</td>\n",
       "      <td>18.5</td>\n",
       "    </tr>\n",
       "    <tr>\n",
       "      <th>80655</th>\n",
       "      <td>20170424-15:00</td>\n",
       "      <td>Haze</td>\n",
       "      <td>15.0</td>\n",
       "      <td>0</td>\n",
       "      <td>0</td>\n",
       "      <td>27.0</td>\n",
       "      <td>1004.0</td>\n",
       "      <td>0</td>\n",
       "      <td>0</td>\n",
       "      <td>32.0</td>\n",
       "      <td>0</td>\n",
       "      <td>0</td>\n",
       "      <td>2.0</td>\n",
       "      <td>320.0</td>\n",
       "      <td>NW</td>\n",
       "      <td>3.7</td>\n",
       "    </tr>\n",
       "    <tr>\n",
       "      <th>80656</th>\n",
       "      <td>20170424-18:00</td>\n",
       "      <td>Haze</td>\n",
       "      <td>15.0</td>\n",
       "      <td>0</td>\n",
       "      <td>0</td>\n",
       "      <td>30.0</td>\n",
       "      <td>1005.0</td>\n",
       "      <td>0</td>\n",
       "      <td>0</td>\n",
       "      <td>30.0</td>\n",
       "      <td>0</td>\n",
       "      <td>0</td>\n",
       "      <td>2.0</td>\n",
       "      <td>320.0</td>\n",
       "      <td>NW</td>\n",
       "      <td>3.7</td>\n",
       "    </tr>\n",
       "  </tbody>\n",
       "</table>\n",
       "<p>80657 rows × 16 columns</p>\n",
       "</div>"
      ],
      "text/plain": [
       "         datetime_utc conds  dewptm  fog  hail   hum  pressurem  rain  snow  \\\n",
       "0      19961101-11:00  Haze     9.0    0     0  27.0     1010.0     0     0   \n",
       "1      19961101-16:00  Haze    11.0    0     0  47.0     1011.0     0     0   \n",
       "2      19961101-18:00  Haze    13.0    0     0  60.0     1010.0     0     0   \n",
       "3      19961102-02:00  Haze    10.0    0     0  52.0     1011.0     0     0   \n",
       "4      19961102-03:00  Haze    10.0    0     0  46.0     1012.0     0     0   \n",
       "...               ...   ...     ...  ...   ...   ...        ...   ...   ...   \n",
       "80652  20170424-06:00  Haze    17.0    0     0  25.0     1005.0     0     0   \n",
       "80653  20170424-09:00  Haze    14.0    0     0  16.0     1003.0     0     0   \n",
       "80654  20170424-12:00  Haze    12.0    0     0  14.0     1002.0     0     0   \n",
       "80655  20170424-15:00  Haze    15.0    0     0  27.0     1004.0     0     0   \n",
       "80656  20170424-18:00  Haze    15.0    0     0  30.0     1005.0     0     0   \n",
       "\n",
       "       tempm  thunder  tornado  vism  wdird  wdire  wspdm  \n",
       "0       30.0        0        0   5.0  280.0   West    7.4  \n",
       "1       23.0        0        0   1.2    0.0  North    0.0  \n",
       "2       21.0        0        0   0.8    0.0  North    0.0  \n",
       "3       20.0        0        0   2.0  200.0    SSW    9.3  \n",
       "4       22.0        0        0   3.5  240.0    WSW    9.3  \n",
       "...      ...      ...      ...   ...    ...    ...    ...  \n",
       "80652   34.0        0        0   4.0  320.0     NW   11.1  \n",
       "80653   38.0        0        0   4.0  320.0     NW   22.2  \n",
       "80654   36.0        0        0   4.0  270.0   West   18.5  \n",
       "80655   32.0        0        0   2.0  320.0     NW    3.7  \n",
       "80656   30.0        0        0   2.0  320.0     NW    3.7  \n",
       "\n",
       "[80657 rows x 16 columns]"
      ]
     },
     "execution_count": 4,
     "metadata": {},
     "output_type": "execute_result"
    }
   ],
   "source": [
    "#Creating the DataFrame\n",
    "query = c.execute(\"SELECT * From delhi_table;\")\n",
    "cols = [column[0] for column in query.description]\n",
    "df= pd.DataFrame.from_records(data = query.fetchall(), columns = cols)\n",
    "df"
   ]
  },
  {
   "cell_type": "code",
   "execution_count": 5,
   "id": "7656f069",
   "metadata": {},
   "outputs": [],
   "source": [
    "# Extracting the year \n",
    "def extract_year(value):\n",
    "    return (value[0:4])\n",
    "df[\"year\"] = df[\"datetime_utc\"].apply(lambda x:extract_year(x))"
   ]
  },
  {
   "cell_type": "code",
   "execution_count": 6,
   "id": "3c85d37a",
   "metadata": {},
   "outputs": [],
   "source": [
    "# Extracting month\n",
    "def extract_month(value):\n",
    "    return (value[4:6])\n",
    "df[\"month\"] = df[\"datetime_utc\"].apply(lambda x:extract_month(x))"
   ]
  },
  {
   "cell_type": "code",
   "execution_count": 7,
   "id": "9deb2b77",
   "metadata": {},
   "outputs": [
    {
     "data": {
      "text/html": [
       "<div>\n",
       "<style scoped>\n",
       "    .dataframe tbody tr th:only-of-type {\n",
       "        vertical-align: middle;\n",
       "    }\n",
       "\n",
       "    .dataframe tbody tr th {\n",
       "        vertical-align: top;\n",
       "    }\n",
       "\n",
       "    .dataframe thead th {\n",
       "        text-align: right;\n",
       "    }\n",
       "</style>\n",
       "<table border=\"1\" class=\"dataframe\">\n",
       "  <thead>\n",
       "    <tr style=\"text-align: right;\">\n",
       "      <th></th>\n",
       "      <th>conds</th>\n",
       "      <th>dewptm</th>\n",
       "      <th>fog</th>\n",
       "      <th>hail</th>\n",
       "      <th>hum</th>\n",
       "      <th>pressurem</th>\n",
       "      <th>rain</th>\n",
       "      <th>snow</th>\n",
       "      <th>tempm</th>\n",
       "      <th>thunder</th>\n",
       "      <th>tornado</th>\n",
       "      <th>vism</th>\n",
       "      <th>wdird</th>\n",
       "      <th>wspdm</th>\n",
       "      <th>year</th>\n",
       "      <th>month</th>\n",
       "    </tr>\n",
       "  </thead>\n",
       "  <tbody>\n",
       "    <tr>\n",
       "      <th>0</th>\n",
       "      <td>Haze</td>\n",
       "      <td>9.0</td>\n",
       "      <td>0</td>\n",
       "      <td>0</td>\n",
       "      <td>27.0</td>\n",
       "      <td>1010.0</td>\n",
       "      <td>0</td>\n",
       "      <td>0</td>\n",
       "      <td>30.0</td>\n",
       "      <td>0</td>\n",
       "      <td>0</td>\n",
       "      <td>5.0</td>\n",
       "      <td>280.0</td>\n",
       "      <td>7.4</td>\n",
       "      <td>1996</td>\n",
       "      <td>11</td>\n",
       "    </tr>\n",
       "    <tr>\n",
       "      <th>1</th>\n",
       "      <td>Haze</td>\n",
       "      <td>11.0</td>\n",
       "      <td>0</td>\n",
       "      <td>0</td>\n",
       "      <td>47.0</td>\n",
       "      <td>1011.0</td>\n",
       "      <td>0</td>\n",
       "      <td>0</td>\n",
       "      <td>23.0</td>\n",
       "      <td>0</td>\n",
       "      <td>0</td>\n",
       "      <td>1.2</td>\n",
       "      <td>0.0</td>\n",
       "      <td>0.0</td>\n",
       "      <td>1996</td>\n",
       "      <td>11</td>\n",
       "    </tr>\n",
       "    <tr>\n",
       "      <th>2</th>\n",
       "      <td>Haze</td>\n",
       "      <td>13.0</td>\n",
       "      <td>0</td>\n",
       "      <td>0</td>\n",
       "      <td>60.0</td>\n",
       "      <td>1010.0</td>\n",
       "      <td>0</td>\n",
       "      <td>0</td>\n",
       "      <td>21.0</td>\n",
       "      <td>0</td>\n",
       "      <td>0</td>\n",
       "      <td>0.8</td>\n",
       "      <td>0.0</td>\n",
       "      <td>0.0</td>\n",
       "      <td>1996</td>\n",
       "      <td>11</td>\n",
       "    </tr>\n",
       "    <tr>\n",
       "      <th>3</th>\n",
       "      <td>Haze</td>\n",
       "      <td>10.0</td>\n",
       "      <td>0</td>\n",
       "      <td>0</td>\n",
       "      <td>52.0</td>\n",
       "      <td>1011.0</td>\n",
       "      <td>0</td>\n",
       "      <td>0</td>\n",
       "      <td>20.0</td>\n",
       "      <td>0</td>\n",
       "      <td>0</td>\n",
       "      <td>2.0</td>\n",
       "      <td>200.0</td>\n",
       "      <td>9.3</td>\n",
       "      <td>1996</td>\n",
       "      <td>11</td>\n",
       "    </tr>\n",
       "    <tr>\n",
       "      <th>4</th>\n",
       "      <td>Haze</td>\n",
       "      <td>10.0</td>\n",
       "      <td>0</td>\n",
       "      <td>0</td>\n",
       "      <td>46.0</td>\n",
       "      <td>1012.0</td>\n",
       "      <td>0</td>\n",
       "      <td>0</td>\n",
       "      <td>22.0</td>\n",
       "      <td>0</td>\n",
       "      <td>0</td>\n",
       "      <td>3.5</td>\n",
       "      <td>240.0</td>\n",
       "      <td>9.3</td>\n",
       "      <td>1996</td>\n",
       "      <td>11</td>\n",
       "    </tr>\n",
       "  </tbody>\n",
       "</table>\n",
       "</div>"
      ],
      "text/plain": [
       "  conds  dewptm  fog  hail   hum  pressurem  rain  snow  tempm  thunder  \\\n",
       "0  Haze     9.0    0     0  27.0     1010.0     0     0   30.0        0   \n",
       "1  Haze    11.0    0     0  47.0     1011.0     0     0   23.0        0   \n",
       "2  Haze    13.0    0     0  60.0     1010.0     0     0   21.0        0   \n",
       "3  Haze    10.0    0     0  52.0     1011.0     0     0   20.0        0   \n",
       "4  Haze    10.0    0     0  46.0     1012.0     0     0   22.0        0   \n",
       "\n",
       "   tornado  vism  wdird  wspdm  year month  \n",
       "0        0   5.0  280.0    7.4  1996    11  \n",
       "1        0   1.2    0.0    0.0  1996    11  \n",
       "2        0   0.8    0.0    0.0  1996    11  \n",
       "3        0   2.0  200.0    9.3  1996    11  \n",
       "4        0   3.5  240.0    9.3  1996    11  "
      ]
     },
     "execution_count": 7,
     "metadata": {},
     "output_type": "execute_result"
    }
   ],
   "source": [
    "# Dropping two columns 'datetime_utc', 'wdire'\n",
    "df = df.drop(['datetime_utc', 'wdire'], axis =1)\n",
    "df.head()"
   ]
  },
  {
   "cell_type": "code",
   "execution_count": 8,
   "id": "d3575a7d",
   "metadata": {},
   "outputs": [],
   "source": [
    "ordered_columns = ['year','month', 'dewptm', 'fog', 'hail', 'hum', 'pressurem', 'rain', 'snow',\n",
    "       'tempm', 'thunder', 'tornado', 'vism', 'wdird', 'wspdm', 'conds']\n",
    "df = df[ordered_columns]"
   ]
  },
  {
   "cell_type": "code",
   "execution_count": 9,
   "id": "37cc5004",
   "metadata": {},
   "outputs": [
    {
     "data": {
      "text/html": [
       "<div>\n",
       "<style scoped>\n",
       "    .dataframe tbody tr th:only-of-type {\n",
       "        vertical-align: middle;\n",
       "    }\n",
       "\n",
       "    .dataframe tbody tr th {\n",
       "        vertical-align: top;\n",
       "    }\n",
       "\n",
       "    .dataframe thead th {\n",
       "        text-align: right;\n",
       "    }\n",
       "</style>\n",
       "<table border=\"1\" class=\"dataframe\">\n",
       "  <thead>\n",
       "    <tr style=\"text-align: right;\">\n",
       "      <th></th>\n",
       "      <th>year</th>\n",
       "      <th>month</th>\n",
       "      <th>dewptm</th>\n",
       "      <th>fog</th>\n",
       "      <th>hail</th>\n",
       "      <th>hum</th>\n",
       "      <th>pressurem</th>\n",
       "      <th>rain</th>\n",
       "      <th>snow</th>\n",
       "      <th>tempm</th>\n",
       "      <th>thunder</th>\n",
       "      <th>tornado</th>\n",
       "      <th>vism</th>\n",
       "      <th>wdird</th>\n",
       "      <th>wspdm</th>\n",
       "      <th>conds</th>\n",
       "    </tr>\n",
       "  </thead>\n",
       "  <tbody>\n",
       "    <tr>\n",
       "      <th>0</th>\n",
       "      <td>1996</td>\n",
       "      <td>11</td>\n",
       "      <td>9.0</td>\n",
       "      <td>0</td>\n",
       "      <td>0</td>\n",
       "      <td>27.0</td>\n",
       "      <td>1010.0</td>\n",
       "      <td>0</td>\n",
       "      <td>0</td>\n",
       "      <td>30.0</td>\n",
       "      <td>0</td>\n",
       "      <td>0</td>\n",
       "      <td>5.0</td>\n",
       "      <td>280.0</td>\n",
       "      <td>7.4</td>\n",
       "      <td>Haze</td>\n",
       "    </tr>\n",
       "    <tr>\n",
       "      <th>1</th>\n",
       "      <td>1996</td>\n",
       "      <td>11</td>\n",
       "      <td>11.0</td>\n",
       "      <td>0</td>\n",
       "      <td>0</td>\n",
       "      <td>47.0</td>\n",
       "      <td>1011.0</td>\n",
       "      <td>0</td>\n",
       "      <td>0</td>\n",
       "      <td>23.0</td>\n",
       "      <td>0</td>\n",
       "      <td>0</td>\n",
       "      <td>1.2</td>\n",
       "      <td>0.0</td>\n",
       "      <td>0.0</td>\n",
       "      <td>Haze</td>\n",
       "    </tr>\n",
       "    <tr>\n",
       "      <th>2</th>\n",
       "      <td>1996</td>\n",
       "      <td>11</td>\n",
       "      <td>13.0</td>\n",
       "      <td>0</td>\n",
       "      <td>0</td>\n",
       "      <td>60.0</td>\n",
       "      <td>1010.0</td>\n",
       "      <td>0</td>\n",
       "      <td>0</td>\n",
       "      <td>21.0</td>\n",
       "      <td>0</td>\n",
       "      <td>0</td>\n",
       "      <td>0.8</td>\n",
       "      <td>0.0</td>\n",
       "      <td>0.0</td>\n",
       "      <td>Haze</td>\n",
       "    </tr>\n",
       "    <tr>\n",
       "      <th>3</th>\n",
       "      <td>1996</td>\n",
       "      <td>11</td>\n",
       "      <td>10.0</td>\n",
       "      <td>0</td>\n",
       "      <td>0</td>\n",
       "      <td>52.0</td>\n",
       "      <td>1011.0</td>\n",
       "      <td>0</td>\n",
       "      <td>0</td>\n",
       "      <td>20.0</td>\n",
       "      <td>0</td>\n",
       "      <td>0</td>\n",
       "      <td>2.0</td>\n",
       "      <td>200.0</td>\n",
       "      <td>9.3</td>\n",
       "      <td>Haze</td>\n",
       "    </tr>\n",
       "    <tr>\n",
       "      <th>4</th>\n",
       "      <td>1996</td>\n",
       "      <td>11</td>\n",
       "      <td>10.0</td>\n",
       "      <td>0</td>\n",
       "      <td>0</td>\n",
       "      <td>46.0</td>\n",
       "      <td>1012.0</td>\n",
       "      <td>0</td>\n",
       "      <td>0</td>\n",
       "      <td>22.0</td>\n",
       "      <td>0</td>\n",
       "      <td>0</td>\n",
       "      <td>3.5</td>\n",
       "      <td>240.0</td>\n",
       "      <td>9.3</td>\n",
       "      <td>Haze</td>\n",
       "    </tr>\n",
       "  </tbody>\n",
       "</table>\n",
       "</div>"
      ],
      "text/plain": [
       "   year month  dewptm  fog  hail   hum  pressurem  rain  snow  tempm  thunder  \\\n",
       "0  1996    11     9.0    0     0  27.0     1010.0     0     0   30.0        0   \n",
       "1  1996    11    11.0    0     0  47.0     1011.0     0     0   23.0        0   \n",
       "2  1996    11    13.0    0     0  60.0     1010.0     0     0   21.0        0   \n",
       "3  1996    11    10.0    0     0  52.0     1011.0     0     0   20.0        0   \n",
       "4  1996    11    10.0    0     0  46.0     1012.0     0     0   22.0        0   \n",
       "\n",
       "   tornado  vism  wdird  wspdm conds  \n",
       "0        0   5.0  280.0    7.4  Haze  \n",
       "1        0   1.2    0.0    0.0  Haze  \n",
       "2        0   0.8    0.0    0.0  Haze  \n",
       "3        0   2.0  200.0    9.3  Haze  \n",
       "4        0   3.5  240.0    9.3  Haze  "
      ]
     },
     "execution_count": 9,
     "metadata": {},
     "output_type": "execute_result"
    }
   ],
   "source": [
    "df.head()"
   ]
  },
  {
   "cell_type": "code",
   "execution_count": 10,
   "id": "a1ac645d",
   "metadata": {},
   "outputs": [
    {
     "data": {
      "text/plain": [
       "Haze      65925\n",
       "Rain       6022\n",
       "Cloudy     5832\n",
       "Clear      2878\n",
       "Name: conds, dtype: int64"
      ]
     },
     "execution_count": 10,
     "metadata": {},
     "output_type": "execute_result"
    }
   ],
   "source": [
    "df.conds.value_counts()"
   ]
  },
  {
   "cell_type": "code",
   "execution_count": 11,
   "id": "288ea80e",
   "metadata": {},
   "outputs": [
    {
     "data": {
      "text/html": [
       "<div>\n",
       "<style scoped>\n",
       "    .dataframe tbody tr th:only-of-type {\n",
       "        vertical-align: middle;\n",
       "    }\n",
       "\n",
       "    .dataframe tbody tr th {\n",
       "        vertical-align: top;\n",
       "    }\n",
       "\n",
       "    .dataframe thead th {\n",
       "        text-align: right;\n",
       "    }\n",
       "</style>\n",
       "<table border=\"1\" class=\"dataframe\">\n",
       "  <thead>\n",
       "    <tr style=\"text-align: right;\">\n",
       "      <th></th>\n",
       "      <th>dewptm</th>\n",
       "      <th>fog</th>\n",
       "      <th>hail</th>\n",
       "      <th>hum</th>\n",
       "      <th>pressurem</th>\n",
       "      <th>rain</th>\n",
       "      <th>snow</th>\n",
       "      <th>tempm</th>\n",
       "      <th>thunder</th>\n",
       "      <th>tornado</th>\n",
       "      <th>vism</th>\n",
       "      <th>wdird</th>\n",
       "      <th>wspdm</th>\n",
       "    </tr>\n",
       "  </thead>\n",
       "  <tbody>\n",
       "    <tr>\n",
       "      <th>count</th>\n",
       "      <td>80657.000000</td>\n",
       "      <td>80657.000000</td>\n",
       "      <td>80657.000000</td>\n",
       "      <td>80657.000000</td>\n",
       "      <td>8.065700e+04</td>\n",
       "      <td>80657.000000</td>\n",
       "      <td>80657.000000</td>\n",
       "      <td>80657.000000</td>\n",
       "      <td>80657.000000</td>\n",
       "      <td>80657.000000</td>\n",
       "      <td>80657.000000</td>\n",
       "      <td>80657.000000</td>\n",
       "      <td>80657.000000</td>\n",
       "    </tr>\n",
       "    <tr>\n",
       "      <th>mean</th>\n",
       "      <td>15.676445</td>\n",
       "      <td>0.050907</td>\n",
       "      <td>0.000136</td>\n",
       "      <td>55.171926</td>\n",
       "      <td>2.199730e+03</td>\n",
       "      <td>0.027102</td>\n",
       "      <td>0.000012</td>\n",
       "      <td>26.340045</td>\n",
       "      <td>0.010216</td>\n",
       "      <td>0.000025</td>\n",
       "      <td>2.563318</td>\n",
       "      <td>169.093891</td>\n",
       "      <td>8.976131</td>\n",
       "    </tr>\n",
       "    <tr>\n",
       "      <th>std</th>\n",
       "      <td>7.150146</td>\n",
       "      <td>0.219809</td>\n",
       "      <td>0.011677</td>\n",
       "      <td>23.447379</td>\n",
       "      <td>3.558458e+05</td>\n",
       "      <td>0.162383</td>\n",
       "      <td>0.003521</td>\n",
       "      <td>8.242780</td>\n",
       "      <td>0.100558</td>\n",
       "      <td>0.004980</td>\n",
       "      <td>22.690289</td>\n",
       "      <td>118.166457</td>\n",
       "      <td>12.084670</td>\n",
       "    </tr>\n",
       "    <tr>\n",
       "      <th>min</th>\n",
       "      <td>-24.000000</td>\n",
       "      <td>0.000000</td>\n",
       "      <td>0.000000</td>\n",
       "      <td>4.000000</td>\n",
       "      <td>-9.999000e+03</td>\n",
       "      <td>0.000000</td>\n",
       "      <td>0.000000</td>\n",
       "      <td>4.000000</td>\n",
       "      <td>0.000000</td>\n",
       "      <td>0.000000</td>\n",
       "      <td>0.000000</td>\n",
       "      <td>0.000000</td>\n",
       "      <td>0.000000</td>\n",
       "    </tr>\n",
       "    <tr>\n",
       "      <th>25%</th>\n",
       "      <td>10.000000</td>\n",
       "      <td>0.000000</td>\n",
       "      <td>0.000000</td>\n",
       "      <td>36.000000</td>\n",
       "      <td>1.001000e+03</td>\n",
       "      <td>0.000000</td>\n",
       "      <td>0.000000</td>\n",
       "      <td>20.000000</td>\n",
       "      <td>0.000000</td>\n",
       "      <td>0.000000</td>\n",
       "      <td>1.800000</td>\n",
       "      <td>60.000000</td>\n",
       "      <td>3.700000</td>\n",
       "    </tr>\n",
       "    <tr>\n",
       "      <th>50%</th>\n",
       "      <td>15.000000</td>\n",
       "      <td>0.000000</td>\n",
       "      <td>0.000000</td>\n",
       "      <td>55.000000</td>\n",
       "      <td>1.008000e+03</td>\n",
       "      <td>0.000000</td>\n",
       "      <td>0.000000</td>\n",
       "      <td>28.000000</td>\n",
       "      <td>0.000000</td>\n",
       "      <td>0.000000</td>\n",
       "      <td>2.200000</td>\n",
       "      <td>170.000000</td>\n",
       "      <td>7.400000</td>\n",
       "    </tr>\n",
       "    <tr>\n",
       "      <th>75%</th>\n",
       "      <td>22.000000</td>\n",
       "      <td>0.000000</td>\n",
       "      <td>0.000000</td>\n",
       "      <td>74.000000</td>\n",
       "      <td>1.014000e+03</td>\n",
       "      <td>0.000000</td>\n",
       "      <td>0.000000</td>\n",
       "      <td>32.000000</td>\n",
       "      <td>0.000000</td>\n",
       "      <td>0.000000</td>\n",
       "      <td>3.000000</td>\n",
       "      <td>270.000000</td>\n",
       "      <td>13.000000</td>\n",
       "    </tr>\n",
       "    <tr>\n",
       "      <th>max</th>\n",
       "      <td>35.000000</td>\n",
       "      <td>1.000000</td>\n",
       "      <td>1.000000</td>\n",
       "      <td>100.000000</td>\n",
       "      <td>1.010614e+08</td>\n",
       "      <td>1.000000</td>\n",
       "      <td>1.000000</td>\n",
       "      <td>72.000000</td>\n",
       "      <td>1.000000</td>\n",
       "      <td>1.000000</td>\n",
       "      <td>6436.000000</td>\n",
       "      <td>960.000000</td>\n",
       "      <td>1514.900000</td>\n",
       "    </tr>\n",
       "  </tbody>\n",
       "</table>\n",
       "</div>"
      ],
      "text/plain": [
       "             dewptm           fog          hail           hum     pressurem  \\\n",
       "count  80657.000000  80657.000000  80657.000000  80657.000000  8.065700e+04   \n",
       "mean      15.676445      0.050907      0.000136     55.171926  2.199730e+03   \n",
       "std        7.150146      0.219809      0.011677     23.447379  3.558458e+05   \n",
       "min      -24.000000      0.000000      0.000000      4.000000 -9.999000e+03   \n",
       "25%       10.000000      0.000000      0.000000     36.000000  1.001000e+03   \n",
       "50%       15.000000      0.000000      0.000000     55.000000  1.008000e+03   \n",
       "75%       22.000000      0.000000      0.000000     74.000000  1.014000e+03   \n",
       "max       35.000000      1.000000      1.000000    100.000000  1.010614e+08   \n",
       "\n",
       "               rain          snow         tempm       thunder       tornado  \\\n",
       "count  80657.000000  80657.000000  80657.000000  80657.000000  80657.000000   \n",
       "mean       0.027102      0.000012     26.340045      0.010216      0.000025   \n",
       "std        0.162383      0.003521      8.242780      0.100558      0.004980   \n",
       "min        0.000000      0.000000      4.000000      0.000000      0.000000   \n",
       "25%        0.000000      0.000000     20.000000      0.000000      0.000000   \n",
       "50%        0.000000      0.000000     28.000000      0.000000      0.000000   \n",
       "75%        0.000000      0.000000     32.000000      0.000000      0.000000   \n",
       "max        1.000000      1.000000     72.000000      1.000000      1.000000   \n",
       "\n",
       "               vism         wdird         wspdm  \n",
       "count  80657.000000  80657.000000  80657.000000  \n",
       "mean       2.563318    169.093891      8.976131  \n",
       "std       22.690289    118.166457     12.084670  \n",
       "min        0.000000      0.000000      0.000000  \n",
       "25%        1.800000     60.000000      3.700000  \n",
       "50%        2.200000    170.000000      7.400000  \n",
       "75%        3.000000    270.000000     13.000000  \n",
       "max     6436.000000    960.000000   1514.900000  "
      ]
     },
     "execution_count": 11,
     "metadata": {},
     "output_type": "execute_result"
    }
   ],
   "source": [
    "# Create our features\n",
    "X = df.drop(\"conds\", axis=1)\n",
    "\n",
    "# Create our target\n",
    "y = df[\"conds\"]\n",
    "X.describe()"
   ]
  },
  {
   "cell_type": "code",
   "execution_count": 12,
   "id": "4b00c5dc",
   "metadata": {},
   "outputs": [
    {
     "data": {
      "text/plain": [
       "Haze      65925\n",
       "Rain       6022\n",
       "Cloudy     5832\n",
       "Clear      2878\n",
       "Name: conds, dtype: int64"
      ]
     },
     "execution_count": 12,
     "metadata": {},
     "output_type": "execute_result"
    }
   ],
   "source": [
    "y.value_counts()"
   ]
  },
  {
   "cell_type": "markdown",
   "id": "e64a969d",
   "metadata": {},
   "source": [
    "# Split the Data into Training and Testing¶"
   ]
  },
  {
   "cell_type": "code",
   "execution_count": 13,
   "id": "15f363cc",
   "metadata": {},
   "outputs": [],
   "source": [
    "from sklearn.model_selection import train_test_split\n",
    "X_train, X_test, y_train, y_test = train_test_split(X, y, random_state=1)"
   ]
  },
  {
   "cell_type": "markdown",
   "id": "37718293",
   "metadata": {},
   "source": [
    "# RandomForestClassifier"
   ]
  },
  {
   "cell_type": "code",
   "execution_count": 14,
   "id": "2b2a1351",
   "metadata": {},
   "outputs": [],
   "source": [
    "from sklearn.ensemble import RandomForestClassifier\n",
    "model = RandomForestClassifier(random_state=1, n_estimators=500)\n",
    "rfc_model = model.fit(X_train, y_train)"
   ]
  },
  {
   "cell_type": "code",
   "execution_count": 15,
   "id": "193add89",
   "metadata": {},
   "outputs": [
    {
     "data": {
      "text/plain": [
       "0.9991073199761952"
      ]
     },
     "execution_count": 15,
     "metadata": {},
     "output_type": "execute_result"
    }
   ],
   "source": [
    "rfc_model.score(X_train,y_train)"
   ]
  },
  {
   "cell_type": "code",
   "execution_count": 16,
   "id": "257a40d6",
   "metadata": {},
   "outputs": [
    {
     "data": {
      "text/plain": [
       "0.9347879990081825"
      ]
     },
     "execution_count": 16,
     "metadata": {},
     "output_type": "execute_result"
    }
   ],
   "source": [
    "rfc_model.score(X_test,y_test)"
   ]
  },
  {
   "cell_type": "code",
   "execution_count": 17,
   "id": "d76e383c",
   "metadata": {},
   "outputs": [
    {
     "data": {
      "text/plain": [
       "array(['Haze', 'Haze', 'Haze', ..., 'Haze', 'Haze', 'Haze'], dtype=object)"
      ]
     },
     "execution_count": 17,
     "metadata": {},
     "output_type": "execute_result"
    }
   ],
   "source": [
    "rfc_ypred = rfc_model.predict(X_test)\n",
    "rfc_ypred"
   ]
  },
  {
   "cell_type": "code",
   "execution_count": 18,
   "id": "ba8095e9",
   "metadata": {},
   "outputs": [
    {
     "data": {
      "text/plain": [
       "<sklearn.metrics._plot.confusion_matrix.ConfusionMatrixDisplay at 0x2c7d8b8e288>"
      ]
     },
     "execution_count": 18,
     "metadata": {},
     "output_type": "execute_result"
    },
    {
     "data": {
      "image/png": "[encoded data removed]",
      "text/plain": [
       "<Figure size 432x288 with 2 Axes>"
      ]
     },
     "metadata": {
      "needs_background": "light"
     },
     "output_type": "display_data"
    }
   ],
   "source": [
    "# Displaying the confusion_matrix\n",
    "from sklearn.metrics import confusion_matrix, ConfusionMatrixDisplay\n",
    "rfc_cm = confusion_matrix(y_test, rfc_ypred, labels=rfc_model.classes_)\n",
    "rfc_disp = ConfusionMatrixDisplay(confusion_matrix=rfc_cm, display_labels=rfc_model.classes_)\n",
    "rfc_disp.plot()"
   ]
  },
  {
   "cell_type": "code",
   "execution_count": 19,
   "id": "44cc2622",
   "metadata": {},
   "outputs": [
    {
     "data": {
      "text/plain": [
       "0.9347879990081825"
      ]
     },
     "execution_count": 19,
     "metadata": {},
     "output_type": "execute_result"
    }
   ],
   "source": [
    "# Calulating the accuracy_score\n",
    "from sklearn.metrics import accuracy_score\n",
    "accuracy_score(y_test, rfc_ypred)"
   ]
  },
  {
   "cell_type": "code",
   "execution_count": 20,
   "id": "474e7762",
   "metadata": {},
   "outputs": [
    {
     "data": {
      "text/plain": [
       "0.7529017045943672"
      ]
     },
     "execution_count": 20,
     "metadata": {},
     "output_type": "execute_result"
    }
   ],
   "source": [
    "# Calculate the Balanced Accuracy Score\n",
    "from sklearn.metrics import balanced_accuracy_score\n",
    "balanced_accuracy_score(y_test, rfc_ypred)"
   ]
  },
  {
   "cell_type": "code",
   "execution_count": 21,
   "id": "b97ecf2c",
   "metadata": {},
   "outputs": [
    {
     "name": "stdout",
     "output_type": "stream",
     "text": [
      "              precision    recall  f1-score   support\n",
      "\n",
      "       Clear       0.75      0.53      0.62       735\n",
      "      Cloudy       0.79      0.59      0.68      1502\n",
      "        Haze       0.95      0.99      0.97     16408\n",
      "        Rain       0.93      0.90      0.92      1520\n",
      "\n",
      "    accuracy                           0.93     20165\n",
      "   macro avg       0.86      0.75      0.80     20165\n",
      "weighted avg       0.93      0.93      0.93     20165\n",
      "\n"
     ]
    }
   ],
   "source": [
    "# printing the classification report\n",
    "from sklearn.metrics import classification_report\n",
    "rfc_clf_report = (classification_report(y_test, rfc_ypred))\n",
    "print(rfc_clf_report)"
   ]
  },
  {
   "cell_type": "markdown",
   "id": "f89169da",
   "metadata": {},
   "source": [
    "# RandomOverSampling"
   ]
  },
  {
   "cell_type": "code",
   "execution_count": 22,
   "id": "6f903652",
   "metadata": {},
   "outputs": [
    {
     "data": {
      "text/plain": [
       "Counter({'Clear': 49517, 'Haze': 49517, 'Cloudy': 49517, 'Rain': 49517})"
      ]
     },
     "execution_count": 22,
     "metadata": {},
     "output_type": "execute_result"
    }
   ],
   "source": [
    "# Resample the training data with the RandomOversampler\n",
    "from imblearn.over_sampling import RandomOverSampler\n",
    "from collections import Counter\n",
    "ros = RandomOverSampler(random_state=1)\n",
    "X_resampled, y_resampled = ros.fit_resample(X_train, y_train)\n",
    "\n",
    "Counter(y_resampled)"
   ]
  },
  {
   "cell_type": "code",
   "execution_count": 24,
   "id": "2ec471ba",
   "metadata": {},
   "outputs": [
    {
     "data": {
      "text/plain": [
       "RandomForestClassifier(n_estimators=500, random_state=1)"
      ]
     },
     "execution_count": 24,
     "metadata": {},
     "output_type": "execute_result"
    }
   ],
   "source": [
    "from sklearn.ensemble import RandomForestClassifier\n",
    "rfc_ros_model = RandomForestClassifier(random_state=1, n_estimators=500)\n",
    "rfc_ros_model.fit(X_resampled, y_resampled)"
   ]
  },
  {
   "cell_type": "code",
   "execution_count": 26,
   "id": "0f663231",
   "metadata": {},
   "outputs": [
    {
     "data": {
      "text/plain": [
       "0.9990811236545025"
      ]
     },
     "execution_count": 26,
     "metadata": {},
     "output_type": "execute_result"
    }
   ],
   "source": [
    "rfc_ros_model.score(X_resampled, y_resampled)"
   ]
  },
  {
   "cell_type": "code",
   "execution_count": 27,
   "id": "6a3d6f91",
   "metadata": {},
   "outputs": [
    {
     "data": {
      "text/plain": [
       "0.935283907760972"
      ]
     },
     "execution_count": 27,
     "metadata": {},
     "output_type": "execute_result"
    }
   ],
   "source": [
    "rfc_ros_model.score(X_test, y_test)"
   ]
  },
  {
   "cell_type": "code",
   "execution_count": 28,
   "id": "bfd13070",
   "metadata": {},
   "outputs": [
    {
     "data": {
      "text/plain": [
       "array(['Haze', 'Haze', 'Haze', ..., 'Haze', 'Haze', 'Haze'], dtype=object)"
      ]
     },
     "execution_count": 28,
     "metadata": {},
     "output_type": "execute_result"
    }
   ],
   "source": [
    "rfc_ros_ypred = rfc_ros_model.predict(X_test)\n",
    "rfc_ros_ypred"
   ]
  },
  {
   "cell_type": "code",
   "execution_count": 29,
   "id": "ef8f5971",
   "metadata": {},
   "outputs": [
    {
     "data": {
      "text/plain": [
       "<sklearn.metrics._plot.confusion_matrix.ConfusionMatrixDisplay at 0x2c787e1c5c8>"
      ]
     },
     "execution_count": 29,
     "metadata": {},
     "output_type": "execute_result"
    },
    {
     "data": {
      "image/png": "[encoded data removed]",
      "text/plain": [
       "<Figure size 432x288 with 2 Axes>"
      ]
     },
     "metadata": {
      "needs_background": "light"
     },
     "output_type": "display_data"
    }
   ],
   "source": [
    "# Displaying the confusion_matrix\n",
    "from sklearn.metrics import confusion_matrix, ConfusionMatrixDisplay\n",
    "rfc_ros_cm = confusion_matrix(y_test, rfc_ros_ypred, labels=rfc_ros_model.classes_)\n",
    "rfc_ros_disp = ConfusionMatrixDisplay(confusion_matrix=rfc_ros_cm, display_labels=rfc_ros_model.classes_)\n",
    "rfc_ros_disp.plot()"
   ]
  },
  {
   "cell_type": "code",
   "execution_count": 30,
   "id": "62119fcb",
   "metadata": {},
   "outputs": [
    {
     "data": {
      "text/plain": [
       "0.935283907760972"
      ]
     },
     "execution_count": 30,
     "metadata": {},
     "output_type": "execute_result"
    }
   ],
   "source": [
    "# Calulating the accuracy_score\n",
    "from sklearn.metrics import accuracy_score\n",
    "accuracy_score(y_test, rfc_ros_ypred)"
   ]
  },
  {
   "cell_type": "code",
   "execution_count": 31,
   "id": "a7867f99",
   "metadata": {},
   "outputs": [
    {
     "data": {
      "text/plain": [
       "0.7841702228070763"
      ]
     },
     "execution_count": 31,
     "metadata": {},
     "output_type": "execute_result"
    }
   ],
   "source": [
    "# Calculate the Balanced Accuracy Score\n",
    "from sklearn.metrics import balanced_accuracy_score\n",
    "balanced_accuracy_score(y_test, rfc_ros_ypred)"
   ]
  },
  {
   "cell_type": "code",
   "execution_count": 32,
   "id": "1d3f80be",
   "metadata": {},
   "outputs": [
    {
     "name": "stdout",
     "output_type": "stream",
     "text": [
      "              precision    recall  f1-score   support\n",
      "\n",
      "       Clear       0.72      0.58      0.64       735\n",
      "      Cloudy       0.74      0.66      0.70      1502\n",
      "        Haze       0.96      0.98      0.97     16408\n",
      "        Rain       0.90      0.92      0.91      1520\n",
      "\n",
      "    accuracy                           0.94     20165\n",
      "   macro avg       0.83      0.78      0.81     20165\n",
      "weighted avg       0.93      0.94      0.93     20165\n",
      "\n"
     ]
    }
   ],
   "source": [
    "# printing the classification report\n",
    "from sklearn.metrics import classification_report\n",
    "rfc_ros_clf_report = (classification_report(y_test, rfc_ros_ypred))\n",
    "print(rfc_ros_clf_report)"
   ]
  },
  {
   "cell_type": "markdown",
   "id": "6a392d5c",
   "metadata": {},
   "source": [
    "# RandomUnderSampling"
   ]
  },
  {
   "cell_type": "code",
   "execution_count": 33,
   "id": "5f2f5b12",
   "metadata": {},
   "outputs": [
    {
     "data": {
      "text/plain": [
       "Counter({'Clear': 2143, 'Cloudy': 2143, 'Haze': 2143, 'Rain': 2143})"
      ]
     },
     "execution_count": 33,
     "metadata": {},
     "output_type": "execute_result"
    }
   ],
   "source": [
    "from imblearn.under_sampling import RandomUnderSampler\n",
    "rus = RandomUnderSampler(random_state=1)\n",
    "X_resampled, y_resampled = rus.fit_resample(X_train, y_train)\n",
    "Counter(y_resampled)"
   ]
  },
  {
   "cell_type": "code",
   "execution_count": 34,
   "id": "61da1797",
   "metadata": {},
   "outputs": [
    {
     "data": {
      "text/plain": [
       "RandomForestClassifier(n_estimators=500, random_state=1)"
      ]
     },
     "execution_count": 34,
     "metadata": {},
     "output_type": "execute_result"
    }
   ],
   "source": [
    "from sklearn.ensemble import RandomForestClassifier\n",
    "rfc_rus_model = RandomForestClassifier(random_state=1, n_estimators=500)\n",
    "rfc_rus_model.fit(X_resampled, y_resampled)"
   ]
  },
  {
   "cell_type": "code",
   "execution_count": 35,
   "id": "e2d3107c",
   "metadata": {},
   "outputs": [
    {
     "data": {
      "text/plain": [
       "0.999066728884741"
      ]
     },
     "execution_count": 35,
     "metadata": {},
     "output_type": "execute_result"
    }
   ],
   "source": [
    "rfc_rus_model.score(X_resampled, y_resampled)"
   ]
  },
  {
   "cell_type": "code",
   "execution_count": 36,
   "id": "686e7ab9",
   "metadata": {},
   "outputs": [
    {
     "data": {
      "text/plain": [
       "0.842548970989338"
      ]
     },
     "execution_count": 36,
     "metadata": {},
     "output_type": "execute_result"
    }
   ],
   "source": [
    "rfc_rus_model.score(X_test, y_test)"
   ]
  },
  {
   "cell_type": "code",
   "execution_count": 37,
   "id": "12a855fe",
   "metadata": {},
   "outputs": [
    {
     "data": {
      "text/plain": [
       "array(['Clear', 'Haze', 'Haze', ..., 'Haze', 'Haze', 'Haze'], dtype=object)"
      ]
     },
     "execution_count": 37,
     "metadata": {},
     "output_type": "execute_result"
    }
   ],
   "source": [
    "rfc_rus_ypred = rfc_rus_model.predict(X_test)\n",
    "rfc_rus_ypred"
   ]
  },
  {
   "cell_type": "code",
   "execution_count": 38,
   "id": "bda4cd91",
   "metadata": {},
   "outputs": [
    {
     "data": {
      "text/plain": [
       "<sklearn.metrics._plot.confusion_matrix.ConfusionMatrixDisplay at 0x2c787393108>"
      ]
     },
     "execution_count": 38,
     "metadata": {},
     "output_type": "execute_result"
    },
    {
     "data": {
      "image/png": "[encoded data removed]",
      "text/plain": [
       "<Figure size 432x288 with 2 Axes>"
      ]
     },
     "metadata": {
      "needs_background": "light"
     },
     "output_type": "display_data"
    }
   ],
   "source": [
    "# Displaying the confusion_matrix\n",
    "from sklearn.metrics import confusion_matrix, ConfusionMatrixDisplay\n",
    "rfc_rus_cm = confusion_matrix(y_test, rfc_rus_ypred, labels=rfc_rus_model.classes_)\n",
    "rfc_rus_disp = ConfusionMatrixDisplay(confusion_matrix=rfc_rus_cm, display_labels=rfc_rus_model.classes_)\n",
    "rfc_rus_disp.plot()"
   ]
  },
  {
   "cell_type": "code",
   "execution_count": 39,
   "id": "6ebdf9ad",
   "metadata": {},
   "outputs": [
    {
     "data": {
      "text/plain": [
       "0.842548970989338"
      ]
     },
     "execution_count": 39,
     "metadata": {},
     "output_type": "execute_result"
    }
   ],
   "source": [
    "# Calulating the accuracy_score\n",
    "from sklearn.metrics import accuracy_score\n",
    "accuracy_score(y_test, rfc_rus_ypred)"
   ]
  },
  {
   "cell_type": "code",
   "execution_count": 40,
   "id": "e7ec9429",
   "metadata": {},
   "outputs": [
    {
     "data": {
      "text/plain": [
       "0.826634533951123"
      ]
     },
     "execution_count": 40,
     "metadata": {},
     "output_type": "execute_result"
    }
   ],
   "source": [
    "# Calculate the Balanced Accuracy Score\n",
    "from sklearn.metrics import balanced_accuracy_score\n",
    "balanced_accuracy_score(y_test, rfc_rus_ypred)"
   ]
  },
  {
   "cell_type": "code",
   "execution_count": 41,
   "id": "89d6f501",
   "metadata": {},
   "outputs": [
    {
     "name": "stdout",
     "output_type": "stream",
     "text": [
      "              precision    recall  f1-score   support\n",
      "\n",
      "       Clear       0.31      0.83      0.45       735\n",
      "      Cloudy       0.45      0.70      0.55      1502\n",
      "        Haze       0.99      0.85      0.91     16408\n",
      "        Rain       0.78      0.94      0.85      1520\n",
      "\n",
      "    accuracy                           0.84     20165\n",
      "   macro avg       0.63      0.83      0.69     20165\n",
      "weighted avg       0.91      0.84      0.86     20165\n",
      "\n"
     ]
    }
   ],
   "source": [
    "# printing the classification report\n",
    "from sklearn.metrics import classification_report\n",
    "rfc_rus_clf_report = (classification_report(y_test, rfc_rus_ypred))\n",
    "print(rfc_rus_clf_report)"
   ]
  },
  {
   "cell_type": "code",
   "execution_count": null,
   "id": "3fc2d6b8",
   "metadata": {},
   "outputs": [],
   "source": []
  }
 ],
 "metadata": {
  "kernelspec": {
   "display_name": "mlenv",
   "language": "python",
   "name": "mlenv"
  },
  "language_info": {
   "codemirror_mode": {
    "name": "ipython",
    "version": 3
   },
   "file_extension": ".py",
   "mimetype": "text/x-python",
   "name": "python",
   "nbconvert_exporter": "python",
   "pygments_lexer": "ipython3",
   "version": "3.7.11"
  }
 },
 "nbformat": 4,
 "nbformat_minor": 5
}
